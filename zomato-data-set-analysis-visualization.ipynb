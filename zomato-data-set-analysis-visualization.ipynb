{
 "cells": [
  {
   "cell_type": "markdown",
   "id": "complete-marshall",
   "metadata": {
    "papermill": {
     "duration": 0.079485,
     "end_time": "2023-07-07T14:37:18.321139",
     "exception": false,
     "start_time": "2023-07-07T14:37:18.241654",
     "status": "completed"
    },
    "tags": []
   },
   "source": [
    "# **Business insights from Zomato Data Set**"
   ]
  },
  {
   "cell_type": "markdown",
   "id": "sorted-newman",
   "metadata": {
    "papermill": {
     "duration": 0.079142,
     "end_time": "2023-07-07T14:37:18.477827",
     "exception": false,
     "start_time": "2023-07-07T14:37:18.398685",
     "status": "completed"
    },
    "tags": []
   },
   "source": [
    "![](http://static.businessworld.in/article/article_extra_large_image/1495095537_qc3HQN_zomato.jpg)"
   ]
  },
  {
   "cell_type": "markdown",
   "id": "adverse-shareware",
   "metadata": {
    "papermill": {
     "duration": 0.078571,
     "end_time": "2023-07-07T14:37:18.637067",
     "exception": false,
     "start_time": "2023-07-07T14:37:18.558496",
     "status": "completed"
    },
    "tags": []
   },
   "source": [
    "# Introduction\n",
    "Zomato is a company that provides online order, food delivery and online restaurant booking facility. It has been collecting huge data of restaurants from different locations. Business managers of the company want our data analysts team to analyze it’s huge data. They want us to find insights that can help their company grow.  \n"
   ]
  },
  {
   "cell_type": "markdown",
   "id": "theoretical-assessment",
   "metadata": {
    "papermill": {
     "duration": 0.080398,
     "end_time": "2023-07-07T14:37:18.800108",
     "exception": false,
     "start_time": "2023-07-07T14:37:18.719710",
     "status": "completed"
    },
    "tags": []
   },
   "source": [
    "# Business problem \n",
    "Zomato wants to tie up with more restaurants. So they want to know in which locations they should start providing their services and which type of restaurants they should start approaching . They also want to know, how they can use the data to convince shopkeepers into accepting their services.\n",
    "​\n",
    "Zomato’s new business client want to set up a restaurant, so they want to know in which location what category of restaurant they should set up and also which cuisines at what price they should sell to get good amount of customers in future once the restaurant is set. Moreover, they want to know how zomato ‘s services can help them in growing their business  quickly.\n",
    "​"
   ]
  },
  {
   "cell_type": "markdown",
   "id": "opened-learning",
   "metadata": {
    "papermill": {
     "duration": 0.082096,
     "end_time": "2023-07-07T14:37:18.963675",
     "exception": false,
     "start_time": "2023-07-07T14:37:18.881579",
     "status": "completed"
    },
    "tags": []
   },
   "source": [
    "# Assumptions \n",
    "* The information is still current and can be used to derive insights, which zomato’s business team can further use to make strategic plans.\n",
    "* No outliers has a substantial impact on the data being used.\n",
    "* The conclusions and recommendations based on insights derived from data will be accepted without any questions or objection.\n",
    "* The company isn’t currently using any of the suggested solutions in the report.\n"
   ]
  },
  {
   "cell_type": "markdown",
   "id": "adjustable-champion",
   "metadata": {
    "papermill": {
     "duration": 0.080307,
     "end_time": "2023-07-07T14:37:19.121841",
     "exception": false,
     "start_time": "2023-07-07T14:37:19.041534",
     "status": "completed"
    },
    "tags": []
   },
   "source": [
    "# Research/Guiding questions\n",
    "1. What is the number of restaurants in each location?\n",
    "2. How many restaurants have book table facility and how many don't? \n",
    "3. How many restaurants have online order facility and how many don't?\n",
    "4. How much is the average rating restaurants with book table facility got?\n",
    "5. How much is the average rating restaurants with online order facility got?\n",
    "6. How many restaurants in different locations provide book table facility and how many don't?\n",
    "7. How many restaurants in different locations provide online order facility and how many don't?\n",
    "8.  How many different categories of restaurants are present in different locations ?\n",
    "9. In which locations people prefer to give feedback/vote and is it dependent on the number of restaurants?\n",
    "10. Which restaurant categories has got comparatively higher ratings and what could be the common responsible factor behind it ?\n",
    "11. which category of restaurants are comparatively more expensive or cheaper?\n",
    "12. average cost of cuisines in different locations and which locations don’t have restaurants providing  a certain combination of cuisines?\n",
    "13.  which cuisines have the most positive ratings?"
   ]
  },
  {
   "cell_type": "markdown",
   "id": "ignored-death",
   "metadata": {
    "papermill": {
     "duration": 0.078328,
     "end_time": "2023-07-07T14:37:19.278473",
     "exception": false,
     "start_time": "2023-07-07T14:37:19.200145",
     "status": "completed"
    },
    "tags": []
   },
   "source": [
    "# Hypothesis\n",
    "* Restaurants that have online order and table booking facility perform better.\n",
    "* Restaurants where people can enjoy more by engaging in different social activities are rated more positively.\n",
    "* Every location has different number of restaurants of different categories.\n",
    "* Not every type of cuisine is sold in a particular location. There could be some similar cuisines being sold in different locations and some different cuisines.\n"
   ]
  },
  {
   "cell_type": "markdown",
   "id": "collect-helicopter",
   "metadata": {
    "papermill": {
     "duration": 0.079872,
     "end_time": "2023-07-07T14:37:19.438001",
     "exception": false,
     "start_time": "2023-07-07T14:37:19.358129",
     "status": "completed"
    },
    "tags": []
   },
   "source": [
    "## PREPARING DATA"
   ]
  },
  {
   "cell_type": "markdown",
   "id": "sudden-northern",
   "metadata": {
    "papermill": {
     "duration": 0.078866,
     "end_time": "2023-07-07T14:37:19.599665",
     "exception": false,
     "start_time": "2023-07-07T14:37:19.520799",
     "status": "completed"
    },
    "tags": []
   },
   "source": [
    "## Importing Libraries"
   ]
  },
  {
   "cell_type": "code",
   "execution_count": 1,
   "id": "industrial-victorian",
   "metadata": {
    "execution": {
     "iopub.execute_input": "2023-07-07T14:37:19.762303Z",
     "iopub.status.busy": "2023-07-07T14:37:19.760808Z",
     "iopub.status.idle": "2023-07-07T14:37:20.781349Z",
     "shell.execute_reply": "2023-07-07T14:37:20.781987Z",
     "shell.execute_reply.started": "2023-07-07T14:36:01.603440Z"
    },
    "papermill": {
     "duration": 1.104782,
     "end_time": "2023-07-07T14:37:20.782354",
     "exception": false,
     "start_time": "2023-07-07T14:37:19.677572",
     "status": "completed"
    },
    "tags": []
   },
   "outputs": [],
   "source": [
    "import warnings\n",
    "import pandas as pd\n",
    "import numpy as np\n",
    "import matplotlib.pyplot as plt\n",
    "import seaborn as sns\n",
    "import os\n",
    "plt.style.use('dark_background')"
   ]
  },
  {
   "cell_type": "markdown",
   "id": "wooden-hypothesis",
   "metadata": {
    "papermill": {
     "duration": 0.084295,
     "end_time": "2023-07-07T14:37:20.949035",
     "exception": false,
     "start_time": "2023-07-07T14:37:20.864740",
     "status": "completed"
    },
    "tags": []
   },
   "source": [
    "## Reading CSV"
   ]
  },
  {
   "cell_type": "code",
   "execution_count": 2,
   "id": "extreme-circle",
   "metadata": {
    "execution": {
     "iopub.execute_input": "2023-07-07T14:37:21.127570Z",
     "iopub.status.busy": "2023-07-07T14:37:21.126725Z",
     "iopub.status.idle": "2023-07-07T14:37:34.380835Z",
     "shell.execute_reply": "2023-07-07T14:37:34.381419Z",
     "shell.execute_reply.started": "2023-07-07T14:36:02.505840Z"
    },
    "papermill": {
     "duration": 13.344194,
     "end_time": "2023-07-07T14:37:34.381608",
     "exception": false,
     "start_time": "2023-07-07T14:37:21.037414",
     "status": "completed"
    },
    "tags": []
   },
   "outputs": [
    {
     "data": {
      "text/html": [
       "<div>\n",
       "<style scoped>\n",
       "    .dataframe tbody tr th:only-of-type {\n",
       "        vertical-align: middle;\n",
       "    }\n",
       "\n",
       "    .dataframe tbody tr th {\n",
       "        vertical-align: top;\n",
       "    }\n",
       "\n",
       "    .dataframe thead th {\n",
       "        text-align: right;\n",
       "    }\n",
       "</style>\n",
       "<table border=\"1\" class=\"dataframe\">\n",
       "  <thead>\n",
       "    <tr style=\"text-align: right;\">\n",
       "      <th></th>\n",
       "      <th>url</th>\n",
       "      <th>address</th>\n",
       "      <th>name</th>\n",
       "      <th>online_order</th>\n",
       "      <th>book_table</th>\n",
       "      <th>rate</th>\n",
       "      <th>votes</th>\n",
       "      <th>phone</th>\n",
       "      <th>location</th>\n",
       "      <th>rest_type</th>\n",
       "      <th>dish_liked</th>\n",
       "      <th>cuisines</th>\n",
       "      <th>approx_cost(for two people)</th>\n",
       "      <th>reviews_list</th>\n",
       "      <th>menu_item</th>\n",
       "      <th>listed_in(type)</th>\n",
       "      <th>listed_in(city)</th>\n",
       "    </tr>\n",
       "  </thead>\n",
       "  <tbody>\n",
       "    <tr>\n",
       "      <th>0</th>\n",
       "      <td>https://www.zomato.com/bangalore/jalsa-banasha...</td>\n",
       "      <td>942, 21st Main Road, 2nd Stage, Banashankari, ...</td>\n",
       "      <td>Jalsa</td>\n",
       "      <td>Yes</td>\n",
       "      <td>Yes</td>\n",
       "      <td>4.1/5</td>\n",
       "      <td>775</td>\n",
       "      <td>080 42297555\\r\\n+91 9743772233</td>\n",
       "      <td>Banashankari</td>\n",
       "      <td>Casual Dining</td>\n",
       "      <td>Pasta, Lunch Buffet, Masala Papad, Paneer Laja...</td>\n",
       "      <td>North Indian, Mughlai, Chinese</td>\n",
       "      <td>800</td>\n",
       "      <td>[('Rated 4.0', 'RATED\\n  A beautiful place to ...</td>\n",
       "      <td>[]</td>\n",
       "      <td>Buffet</td>\n",
       "      <td>Banashankari</td>\n",
       "    </tr>\n",
       "    <tr>\n",
       "      <th>1</th>\n",
       "      <td>https://www.zomato.com/bangalore/spice-elephan...</td>\n",
       "      <td>2nd Floor, 80 Feet Road, Near Big Bazaar, 6th ...</td>\n",
       "      <td>Spice Elephant</td>\n",
       "      <td>Yes</td>\n",
       "      <td>No</td>\n",
       "      <td>4.1/5</td>\n",
       "      <td>787</td>\n",
       "      <td>080 41714161</td>\n",
       "      <td>Banashankari</td>\n",
       "      <td>Casual Dining</td>\n",
       "      <td>Momos, Lunch Buffet, Chocolate Nirvana, Thai G...</td>\n",
       "      <td>Chinese, North Indian, Thai</td>\n",
       "      <td>800</td>\n",
       "      <td>[('Rated 4.0', 'RATED\\n  Had been here for din...</td>\n",
       "      <td>[]</td>\n",
       "      <td>Buffet</td>\n",
       "      <td>Banashankari</td>\n",
       "    </tr>\n",
       "    <tr>\n",
       "      <th>2</th>\n",
       "      <td>https://www.zomato.com/SanchurroBangalore?cont...</td>\n",
       "      <td>1112, Next to KIMS Medical College, 17th Cross...</td>\n",
       "      <td>San Churro Cafe</td>\n",
       "      <td>Yes</td>\n",
       "      <td>No</td>\n",
       "      <td>3.8/5</td>\n",
       "      <td>918</td>\n",
       "      <td>+91 9663487993</td>\n",
       "      <td>Banashankari</td>\n",
       "      <td>Cafe, Casual Dining</td>\n",
       "      <td>Churros, Cannelloni, Minestrone Soup, Hot Choc...</td>\n",
       "      <td>Cafe, Mexican, Italian</td>\n",
       "      <td>800</td>\n",
       "      <td>[('Rated 3.0', \"RATED\\n  Ambience is not that ...</td>\n",
       "      <td>[]</td>\n",
       "      <td>Buffet</td>\n",
       "      <td>Banashankari</td>\n",
       "    </tr>\n",
       "    <tr>\n",
       "      <th>3</th>\n",
       "      <td>https://www.zomato.com/bangalore/addhuri-udupi...</td>\n",
       "      <td>1st Floor, Annakuteera, 3rd Stage, Banashankar...</td>\n",
       "      <td>Addhuri Udupi Bhojana</td>\n",
       "      <td>No</td>\n",
       "      <td>No</td>\n",
       "      <td>3.7/5</td>\n",
       "      <td>88</td>\n",
       "      <td>+91 9620009302</td>\n",
       "      <td>Banashankari</td>\n",
       "      <td>Quick Bites</td>\n",
       "      <td>Masala Dosa</td>\n",
       "      <td>South Indian, North Indian</td>\n",
       "      <td>300</td>\n",
       "      <td>[('Rated 4.0', \"RATED\\n  Great food and proper...</td>\n",
       "      <td>[]</td>\n",
       "      <td>Buffet</td>\n",
       "      <td>Banashankari</td>\n",
       "    </tr>\n",
       "    <tr>\n",
       "      <th>4</th>\n",
       "      <td>https://www.zomato.com/bangalore/grand-village...</td>\n",
       "      <td>10, 3rd Floor, Lakshmi Associates, Gandhi Baza...</td>\n",
       "      <td>Grand Village</td>\n",
       "      <td>No</td>\n",
       "      <td>No</td>\n",
       "      <td>3.8/5</td>\n",
       "      <td>166</td>\n",
       "      <td>+91 8026612447\\r\\n+91 9901210005</td>\n",
       "      <td>Basavanagudi</td>\n",
       "      <td>Casual Dining</td>\n",
       "      <td>Panipuri, Gol Gappe</td>\n",
       "      <td>North Indian, Rajasthani</td>\n",
       "      <td>600</td>\n",
       "      <td>[('Rated 4.0', 'RATED\\n  Very good restaurant ...</td>\n",
       "      <td>[]</td>\n",
       "      <td>Buffet</td>\n",
       "      <td>Banashankari</td>\n",
       "    </tr>\n",
       "  </tbody>\n",
       "</table>\n",
       "</div>"
      ],
      "text/plain": [
       "                                                 url  \\\n",
       "0  https://www.zomato.com/bangalore/jalsa-banasha...   \n",
       "1  https://www.zomato.com/bangalore/spice-elephan...   \n",
       "2  https://www.zomato.com/SanchurroBangalore?cont...   \n",
       "3  https://www.zomato.com/bangalore/addhuri-udupi...   \n",
       "4  https://www.zomato.com/bangalore/grand-village...   \n",
       "\n",
       "                                             address                   name  \\\n",
       "0  942, 21st Main Road, 2nd Stage, Banashankari, ...                  Jalsa   \n",
       "1  2nd Floor, 80 Feet Road, Near Big Bazaar, 6th ...         Spice Elephant   \n",
       "2  1112, Next to KIMS Medical College, 17th Cross...        San Churro Cafe   \n",
       "3  1st Floor, Annakuteera, 3rd Stage, Banashankar...  Addhuri Udupi Bhojana   \n",
       "4  10, 3rd Floor, Lakshmi Associates, Gandhi Baza...          Grand Village   \n",
       "\n",
       "  online_order book_table   rate  votes                             phone  \\\n",
       "0          Yes        Yes  4.1/5    775    080 42297555\\r\\n+91 9743772233   \n",
       "1          Yes         No  4.1/5    787                      080 41714161   \n",
       "2          Yes         No  3.8/5    918                    +91 9663487993   \n",
       "3           No         No  3.7/5     88                    +91 9620009302   \n",
       "4           No         No  3.8/5    166  +91 8026612447\\r\\n+91 9901210005   \n",
       "\n",
       "       location            rest_type  \\\n",
       "0  Banashankari        Casual Dining   \n",
       "1  Banashankari        Casual Dining   \n",
       "2  Banashankari  Cafe, Casual Dining   \n",
       "3  Banashankari          Quick Bites   \n",
       "4  Basavanagudi        Casual Dining   \n",
       "\n",
       "                                          dish_liked  \\\n",
       "0  Pasta, Lunch Buffet, Masala Papad, Paneer Laja...   \n",
       "1  Momos, Lunch Buffet, Chocolate Nirvana, Thai G...   \n",
       "2  Churros, Cannelloni, Minestrone Soup, Hot Choc...   \n",
       "3                                        Masala Dosa   \n",
       "4                                Panipuri, Gol Gappe   \n",
       "\n",
       "                         cuisines approx_cost(for two people)  \\\n",
       "0  North Indian, Mughlai, Chinese                         800   \n",
       "1     Chinese, North Indian, Thai                         800   \n",
       "2          Cafe, Mexican, Italian                         800   \n",
       "3      South Indian, North Indian                         300   \n",
       "4        North Indian, Rajasthani                         600   \n",
       "\n",
       "                                        reviews_list menu_item  \\\n",
       "0  [('Rated 4.0', 'RATED\\n  A beautiful place to ...        []   \n",
       "1  [('Rated 4.0', 'RATED\\n  Had been here for din...        []   \n",
       "2  [('Rated 3.0', \"RATED\\n  Ambience is not that ...        []   \n",
       "3  [('Rated 4.0', \"RATED\\n  Great food and proper...        []   \n",
       "4  [('Rated 4.0', 'RATED\\n  Very good restaurant ...        []   \n",
       "\n",
       "  listed_in(type) listed_in(city)  \n",
       "0          Buffet    Banashankari  \n",
       "1          Buffet    Banashankari  \n",
       "2          Buffet    Banashankari  \n",
       "3          Buffet    Banashankari  \n",
       "4          Buffet    Banashankari  "
      ]
     },
     "execution_count": 2,
     "metadata": {},
     "output_type": "execute_result"
    }
   ],
   "source": [
    "df = pd.read_csv('../input/zomato-bangalore-restaurants/zomato.csv')\n",
    "df.head()"
   ]
  },
  {
   "cell_type": "markdown",
   "id": "parliamentary-revision",
   "metadata": {
    "papermill": {
     "duration": 0.081045,
     "end_time": "2023-07-07T14:37:34.546682",
     "exception": false,
     "start_time": "2023-07-07T14:37:34.465637",
     "status": "completed"
    },
    "tags": []
   },
   "source": [
    "## Checking the size of file"
   ]
  },
  {
   "cell_type": "code",
   "execution_count": 3,
   "id": "renewable-atmosphere",
   "metadata": {
    "execution": {
     "iopub.execute_input": "2023-07-07T14:37:34.734478Z",
     "iopub.status.busy": "2023-07-07T14:37:34.733405Z",
     "iopub.status.idle": "2023-07-07T14:37:34.739797Z",
     "shell.execute_reply": "2023-07-07T14:37:34.740445Z",
     "shell.execute_reply.started": "2023-07-07T14:36:14.868931Z"
    },
    "papermill": {
     "duration": 0.090811,
     "end_time": "2023-07-07T14:37:34.740636",
     "exception": false,
     "start_time": "2023-07-07T14:37:34.649825",
     "status": "completed"
    },
    "tags": []
   },
   "outputs": [
    {
     "data": {
      "text/plain": [
       "574072999"
      ]
     },
     "execution_count": 3,
     "metadata": {},
     "output_type": "execute_result"
    }
   ],
   "source": [
    "os.path.getsize('../input/zomato-bangalore-restaurants/zomato.csv')"
   ]
  },
  {
   "cell_type": "markdown",
   "id": "ancient-revision",
   "metadata": {
    "papermill": {
     "duration": 0.079733,
     "end_time": "2023-07-07T14:37:34.899638",
     "exception": false,
     "start_time": "2023-07-07T14:37:34.819905",
     "status": "completed"
    },
    "tags": []
   },
   "source": [
    "## Number of rows and columns present"
   ]
  },
  {
   "cell_type": "code",
   "execution_count": 4,
   "id": "numerical-neutral",
   "metadata": {
    "execution": {
     "iopub.execute_input": "2023-07-07T14:37:35.070092Z",
     "iopub.status.busy": "2023-07-07T14:37:35.068908Z",
     "iopub.status.idle": "2023-07-07T14:37:35.075318Z",
     "shell.execute_reply": "2023-07-07T14:37:35.076002Z",
     "shell.execute_reply.started": "2023-07-07T14:36:14.879762Z"
    },
    "papermill": {
     "duration": 0.092628,
     "end_time": "2023-07-07T14:37:35.076213",
     "exception": false,
     "start_time": "2023-07-07T14:37:34.983585",
     "status": "completed"
    },
    "tags": []
   },
   "outputs": [
    {
     "data": {
      "text/plain": [
       "(51717, 17)"
      ]
     },
     "execution_count": 4,
     "metadata": {},
     "output_type": "execute_result"
    }
   ],
   "source": [
    "df.shape"
   ]
  },
  {
   "cell_type": "markdown",
   "id": "annual-rochester",
   "metadata": {
    "papermill": {
     "duration": 0.077763,
     "end_time": "2023-07-07T14:37:35.235299",
     "exception": false,
     "start_time": "2023-07-07T14:37:35.157536",
     "status": "completed"
    },
    "tags": []
   },
   "source": [
    "## List of column names"
   ]
  },
  {
   "cell_type": "code",
   "execution_count": 5,
   "id": "exotic-lotus",
   "metadata": {
    "execution": {
     "iopub.execute_input": "2023-07-07T14:37:35.401198Z",
     "iopub.status.busy": "2023-07-07T14:37:35.400111Z",
     "iopub.status.idle": "2023-07-07T14:37:35.405984Z",
     "shell.execute_reply": "2023-07-07T14:37:35.405199Z",
     "shell.execute_reply.started": "2023-07-07T14:36:14.890709Z"
    },
    "papermill": {
     "duration": 0.090226,
     "end_time": "2023-07-07T14:37:35.406166",
     "exception": false,
     "start_time": "2023-07-07T14:37:35.315940",
     "status": "completed"
    },
    "tags": []
   },
   "outputs": [
    {
     "data": {
      "text/plain": [
       "Index(['url', 'address', 'name', 'online_order', 'book_table', 'rate', 'votes',\n",
       "       'phone', 'location', 'rest_type', 'dish_liked', 'cuisines',\n",
       "       'approx_cost(for two people)', 'reviews_list', 'menu_item',\n",
       "       'listed_in(type)', 'listed_in(city)'],\n",
       "      dtype='object')"
      ]
     },
     "execution_count": 5,
     "metadata": {},
     "output_type": "execute_result"
    }
   ],
   "source": [
    "df.columns"
   ]
  },
  {
   "cell_type": "markdown",
   "id": "international-swimming",
   "metadata": {
    "papermill": {
     "duration": 0.079783,
     "end_time": "2023-07-07T14:37:35.565911",
     "exception": false,
     "start_time": "2023-07-07T14:37:35.486128",
     "status": "completed"
    },
    "tags": []
   },
   "source": [
    "# CLEANING DATA"
   ]
  },
  {
   "cell_type": "markdown",
   "id": "remarkable-shepherd",
   "metadata": {
    "papermill": {
     "duration": 0.077647,
     "end_time": "2023-07-07T14:37:35.725816",
     "exception": false,
     "start_time": "2023-07-07T14:37:35.648169",
     "status": "completed"
    },
    "tags": []
   },
   "source": [
    "## Removing columns that we don't need for our analysis"
   ]
  },
  {
   "cell_type": "code",
   "execution_count": 6,
   "id": "current-carry",
   "metadata": {
    "execution": {
     "iopub.execute_input": "2023-07-07T14:37:35.892865Z",
     "iopub.status.busy": "2023-07-07T14:37:35.891525Z",
     "iopub.status.idle": "2023-07-07T14:37:35.915937Z",
     "shell.execute_reply": "2023-07-07T14:37:35.916674Z",
     "shell.execute_reply.started": "2023-07-07T14:36:14.905085Z"
    },
    "papermill": {
     "duration": 0.113301,
     "end_time": "2023-07-07T14:37:35.916871",
     "exception": false,
     "start_time": "2023-07-07T14:37:35.803570",
     "status": "completed"
    },
    "tags": []
   },
   "outputs": [
    {
     "data": {
      "text/html": [
       "<div>\n",
       "<style scoped>\n",
       "    .dataframe tbody tr th:only-of-type {\n",
       "        vertical-align: middle;\n",
       "    }\n",
       "\n",
       "    .dataframe tbody tr th {\n",
       "        vertical-align: top;\n",
       "    }\n",
       "\n",
       "    .dataframe thead th {\n",
       "        text-align: right;\n",
       "    }\n",
       "</style>\n",
       "<table border=\"1\" class=\"dataframe\">\n",
       "  <thead>\n",
       "    <tr style=\"text-align: right;\">\n",
       "      <th></th>\n",
       "      <th>name</th>\n",
       "      <th>online_order</th>\n",
       "      <th>book_table</th>\n",
       "      <th>rate</th>\n",
       "      <th>votes</th>\n",
       "      <th>location</th>\n",
       "      <th>cuisines</th>\n",
       "      <th>approx_cost(for two people)</th>\n",
       "      <th>listed_in(type)</th>\n",
       "    </tr>\n",
       "  </thead>\n",
       "  <tbody>\n",
       "    <tr>\n",
       "      <th>0</th>\n",
       "      <td>Jalsa</td>\n",
       "      <td>Yes</td>\n",
       "      <td>Yes</td>\n",
       "      <td>4.1/5</td>\n",
       "      <td>775</td>\n",
       "      <td>Banashankari</td>\n",
       "      <td>North Indian, Mughlai, Chinese</td>\n",
       "      <td>800</td>\n",
       "      <td>Buffet</td>\n",
       "    </tr>\n",
       "    <tr>\n",
       "      <th>1</th>\n",
       "      <td>Spice Elephant</td>\n",
       "      <td>Yes</td>\n",
       "      <td>No</td>\n",
       "      <td>4.1/5</td>\n",
       "      <td>787</td>\n",
       "      <td>Banashankari</td>\n",
       "      <td>Chinese, North Indian, Thai</td>\n",
       "      <td>800</td>\n",
       "      <td>Buffet</td>\n",
       "    </tr>\n",
       "    <tr>\n",
       "      <th>2</th>\n",
       "      <td>San Churro Cafe</td>\n",
       "      <td>Yes</td>\n",
       "      <td>No</td>\n",
       "      <td>3.8/5</td>\n",
       "      <td>918</td>\n",
       "      <td>Banashankari</td>\n",
       "      <td>Cafe, Mexican, Italian</td>\n",
       "      <td>800</td>\n",
       "      <td>Buffet</td>\n",
       "    </tr>\n",
       "    <tr>\n",
       "      <th>3</th>\n",
       "      <td>Addhuri Udupi Bhojana</td>\n",
       "      <td>No</td>\n",
       "      <td>No</td>\n",
       "      <td>3.7/5</td>\n",
       "      <td>88</td>\n",
       "      <td>Banashankari</td>\n",
       "      <td>South Indian, North Indian</td>\n",
       "      <td>300</td>\n",
       "      <td>Buffet</td>\n",
       "    </tr>\n",
       "    <tr>\n",
       "      <th>4</th>\n",
       "      <td>Grand Village</td>\n",
       "      <td>No</td>\n",
       "      <td>No</td>\n",
       "      <td>3.8/5</td>\n",
       "      <td>166</td>\n",
       "      <td>Basavanagudi</td>\n",
       "      <td>North Indian, Rajasthani</td>\n",
       "      <td>600</td>\n",
       "      <td>Buffet</td>\n",
       "    </tr>\n",
       "  </tbody>\n",
       "</table>\n",
       "</div>"
      ],
      "text/plain": [
       "                    name online_order book_table   rate  votes      location  \\\n",
       "0                  Jalsa          Yes        Yes  4.1/5    775  Banashankari   \n",
       "1         Spice Elephant          Yes         No  4.1/5    787  Banashankari   \n",
       "2        San Churro Cafe          Yes         No  3.8/5    918  Banashankari   \n",
       "3  Addhuri Udupi Bhojana           No         No  3.7/5     88  Banashankari   \n",
       "4          Grand Village           No         No  3.8/5    166  Basavanagudi   \n",
       "\n",
       "                         cuisines approx_cost(for two people) listed_in(type)  \n",
       "0  North Indian, Mughlai, Chinese                         800          Buffet  \n",
       "1     Chinese, North Indian, Thai                         800          Buffet  \n",
       "2          Cafe, Mexican, Italian                         800          Buffet  \n",
       "3      South Indian, North Indian                         300          Buffet  \n",
       "4        North Indian, Rajasthani                         600          Buffet  "
      ]
     },
     "execution_count": 6,
     "metadata": {},
     "output_type": "execute_result"
    }
   ],
   "source": [
    "df = df.drop(['url', 'address', 'phone', 'menu_item', 'dish_liked', 'reviews_list', 'rest_type','listed_in(city)'], axis = 1)\n",
    "df.head()"
   ]
  },
  {
   "cell_type": "code",
   "execution_count": 7,
   "id": "later-liver",
   "metadata": {
    "execution": {
     "iopub.execute_input": "2023-07-07T14:37:36.082588Z",
     "iopub.status.busy": "2023-07-07T14:37:36.081572Z",
     "iopub.status.idle": "2023-07-07T14:37:36.148772Z",
     "shell.execute_reply": "2023-07-07T14:37:36.148106Z",
     "shell.execute_reply.started": "2023-07-07T14:36:14.937908Z"
    },
    "papermill": {
     "duration": 0.153623,
     "end_time": "2023-07-07T14:37:36.148946",
     "exception": false,
     "start_time": "2023-07-07T14:37:35.995323",
     "status": "completed"
    },
    "tags": []
   },
   "outputs": [
    {
     "name": "stdout",
     "output_type": "stream",
     "text": [
      "<class 'pandas.core.frame.DataFrame'>\n",
      "RangeIndex: 51717 entries, 0 to 51716\n",
      "Data columns (total 9 columns):\n",
      " #   Column                       Non-Null Count  Dtype \n",
      "---  ------                       --------------  ----- \n",
      " 0   name                         51717 non-null  object\n",
      " 1   online_order                 51717 non-null  object\n",
      " 2   book_table                   51717 non-null  object\n",
      " 3   rate                         43942 non-null  object\n",
      " 4   votes                        51717 non-null  int64 \n",
      " 5   location                     51696 non-null  object\n",
      " 6   cuisines                     51672 non-null  object\n",
      " 7   approx_cost(for two people)  51371 non-null  object\n",
      " 8   listed_in(type)              51717 non-null  object\n",
      "dtypes: int64(1), object(8)\n",
      "memory usage: 3.6+ MB\n"
     ]
    }
   ],
   "source": [
    "df.info()"
   ]
  },
  {
   "cell_type": "markdown",
   "id": "subject-language",
   "metadata": {
    "papermill": {
     "duration": 0.079887,
     "end_time": "2023-07-07T14:37:36.313281",
     "exception": false,
     "start_time": "2023-07-07T14:37:36.233394",
     "status": "completed"
    },
    "tags": []
   },
   "source": [
    "## Dropping Duplicates"
   ]
  },
  {
   "cell_type": "code",
   "execution_count": 8,
   "id": "changing-market",
   "metadata": {
    "execution": {
     "iopub.execute_input": "2023-07-07T14:37:36.490374Z",
     "iopub.status.busy": "2023-07-07T14:37:36.486941Z",
     "iopub.status.idle": "2023-07-07T14:37:36.555103Z",
     "shell.execute_reply": "2023-07-07T14:37:36.555691Z",
     "shell.execute_reply.started": "2023-07-07T14:36:15.011293Z"
    },
    "papermill": {
     "duration": 0.157345,
     "end_time": "2023-07-07T14:37:36.555881",
     "exception": false,
     "start_time": "2023-07-07T14:37:36.398536",
     "status": "completed"
    },
    "tags": []
   },
   "outputs": [
    {
     "data": {
      "text/plain": [
       "(34987, 9)"
      ]
     },
     "execution_count": 8,
     "metadata": {},
     "output_type": "execute_result"
    }
   ],
   "source": [
    "df.drop_duplicates(inplace = True)\n",
    "df.shape"
   ]
  },
  {
   "cell_type": "markdown",
   "id": "humanitarian-injection",
   "metadata": {
    "papermill": {
     "duration": 0.078317,
     "end_time": "2023-07-07T14:37:36.717476",
     "exception": false,
     "start_time": "2023-07-07T14:37:36.639159",
     "status": "completed"
    },
    "tags": []
   },
   "source": [
    "## Checking unique values in rate column"
   ]
  },
  {
   "cell_type": "code",
   "execution_count": 9,
   "id": "funded-mechanics",
   "metadata": {
    "execution": {
     "iopub.execute_input": "2023-07-07T14:37:36.880882Z",
     "iopub.status.busy": "2023-07-07T14:37:36.879818Z",
     "iopub.status.idle": "2023-07-07T14:37:36.890672Z",
     "shell.execute_reply": "2023-07-07T14:37:36.891210Z",
     "shell.execute_reply.started": "2023-07-07T14:36:15.089133Z"
    },
    "papermill": {
     "duration": 0.09509,
     "end_time": "2023-07-07T14:37:36.891402",
     "exception": false,
     "start_time": "2023-07-07T14:37:36.796312",
     "status": "completed"
    },
    "tags": []
   },
   "outputs": [
    {
     "data": {
      "text/plain": [
       "array(['4.1/5', '3.8/5', '3.7/5', '3.6/5', '4.6/5', '4.0/5', '4.2/5',\n",
       "       '3.9/5', '3.1/5', '3.0/5', '3.2/5', '3.3/5', '2.8/5', '4.4/5',\n",
       "       '4.3/5', 'NEW', '2.9/5', '3.5/5', nan, '2.6/5', '3.8 /5', '3.4/5',\n",
       "       '4.5/5', '2.5/5', '2.7/5', '4.7/5', '2.4/5', '2.2/5', '2.3/5',\n",
       "       '3.4 /5', '-', '3.6 /5', '4.8/5', '3.9 /5', '4.2 /5', '4.0 /5',\n",
       "       '4.1 /5', '3.7 /5', '3.1 /5', '2.9 /5', '3.3 /5', '2.8 /5',\n",
       "       '3.5 /5', '2.7 /5', '2.5 /5', '3.2 /5', '2.6 /5', '4.5 /5',\n",
       "       '4.3 /5', '4.4 /5', '4.9/5', '2.1/5', '2.0/5', '1.8/5', '4.6 /5',\n",
       "       '4.9 /5', '3.0 /5', '4.8 /5', '2.3 /5', '4.7 /5', '2.4 /5',\n",
       "       '2.1 /5', '2.2 /5', '2.0 /5', '1.8 /5'], dtype=object)"
      ]
     },
     "execution_count": 9,
     "metadata": {},
     "output_type": "execute_result"
    }
   ],
   "source": [
    "df['rate'].unique()"
   ]
  },
  {
   "cell_type": "markdown",
   "id": "duplicate-surge",
   "metadata": {
    "papermill": {
     "duration": 0.079119,
     "end_time": "2023-07-07T14:37:37.051723",
     "exception": false,
     "start_time": "2023-07-07T14:37:36.972604",
     "status": "completed"
    },
    "tags": []
   },
   "source": [
    "## Replacing incorrect datapoints and splitting values "
   ]
  },
  {
   "cell_type": "code",
   "execution_count": 10,
   "id": "operational-accountability",
   "metadata": {
    "execution": {
     "iopub.execute_input": "2023-07-07T14:37:37.217874Z",
     "iopub.status.busy": "2023-07-07T14:37:37.216813Z",
     "iopub.status.idle": "2023-07-07T14:37:37.278554Z",
     "shell.execute_reply": "2023-07-07T14:37:37.277671Z",
     "shell.execute_reply.started": "2023-07-07T14:36:15.104522Z"
    },
    "papermill": {
     "duration": 0.144246,
     "end_time": "2023-07-07T14:37:37.278922",
     "exception": false,
     "start_time": "2023-07-07T14:37:37.134676",
     "status": "completed"
    },
    "tags": []
   },
   "outputs": [
    {
     "data": {
      "text/plain": [
       "0    4.1\n",
       "1    4.1\n",
       "2    3.8\n",
       "3    3.7\n",
       "4    3.8\n",
       "Name: rate, dtype: float64"
      ]
     },
     "execution_count": 10,
     "metadata": {},
     "output_type": "execute_result"
    }
   ],
   "source": [
    "def handlerate(value):\n",
    "    if(value=='NEW' or value=='-'):\n",
    "        return np.nan\n",
    "    else:\n",
    "        value = str(value).split('/')\n",
    "        value = value[0]\n",
    "        return float(value)\n",
    "    \n",
    "df['rate'] = df['rate'].apply(handlerate)\n",
    "df['rate'].head()"
   ]
  },
  {
   "cell_type": "markdown",
   "id": "designing-bandwidth",
   "metadata": {
    "papermill": {
     "duration": 0.080807,
     "end_time": "2023-07-07T14:37:37.442154",
     "exception": false,
     "start_time": "2023-07-07T14:37:37.361347",
     "status": "completed"
    },
    "tags": []
   },
   "source": [
    "## Filling Null Values in Rate Column with Mean"
   ]
  },
  {
   "cell_type": "code",
   "execution_count": 11,
   "id": "upper-declaration",
   "metadata": {
    "execution": {
     "iopub.execute_input": "2023-07-07T14:37:37.622362Z",
     "iopub.status.busy": "2023-07-07T14:37:37.621602Z",
     "iopub.status.idle": "2023-07-07T14:37:37.627982Z",
     "shell.execute_reply": "2023-07-07T14:37:37.628624Z",
     "shell.execute_reply.started": "2023-07-07T14:36:15.173082Z"
    },
    "papermill": {
     "duration": 0.100135,
     "end_time": "2023-07-07T14:37:37.628813",
     "exception": false,
     "start_time": "2023-07-07T14:37:37.528678",
     "status": "completed"
    },
    "tags": []
   },
   "outputs": [
    {
     "data": {
      "text/plain": [
       "0"
      ]
     },
     "execution_count": 11,
     "metadata": {},
     "output_type": "execute_result"
    }
   ],
   "source": [
    "df['rate'].fillna(df['rate'].mean(), inplace = True)\n",
    "df['rate'].isnull().sum()"
   ]
  },
  {
   "cell_type": "markdown",
   "id": "written-capacity",
   "metadata": {
    "papermill": {
     "duration": 0.084904,
     "end_time": "2023-07-07T14:37:37.795283",
     "exception": false,
     "start_time": "2023-07-07T14:37:37.710379",
     "status": "completed"
    },
    "tags": []
   },
   "source": [
    "## Checking nulls in dataframe"
   ]
  },
  {
   "cell_type": "code",
   "execution_count": 12,
   "id": "afraid-costa",
   "metadata": {
    "execution": {
     "iopub.execute_input": "2023-07-07T14:37:37.966486Z",
     "iopub.status.busy": "2023-07-07T14:37:37.965724Z",
     "iopub.status.idle": "2023-07-07T14:37:38.000906Z",
     "shell.execute_reply": "2023-07-07T14:37:38.002033Z",
     "shell.execute_reply.started": "2023-07-07T14:36:15.188014Z"
    },
    "papermill": {
     "duration": 0.123915,
     "end_time": "2023-07-07T14:37:38.002311",
     "exception": false,
     "start_time": "2023-07-07T14:37:37.878396",
     "status": "completed"
    },
    "scrolled": true,
    "tags": []
   },
   "outputs": [
    {
     "data": {
      "text/plain": [
       "name                             0\n",
       "online_order                     0\n",
       "book_table                       0\n",
       "rate                             0\n",
       "votes                            0\n",
       "location                        14\n",
       "cuisines                        33\n",
       "approx_cost(for two people)    221\n",
       "listed_in(type)                  0\n",
       "dtype: int64"
      ]
     },
     "execution_count": 12,
     "metadata": {},
     "output_type": "execute_result"
    }
   ],
   "source": [
    "df.isnull().sum()"
   ]
  },
  {
   "cell_type": "markdown",
   "id": "through-fleece",
   "metadata": {
    "papermill": {
     "duration": 0.083521,
     "end_time": "2023-07-07T14:37:38.166599",
     "exception": false,
     "start_time": "2023-07-07T14:37:38.083078",
     "status": "completed"
    },
    "tags": []
   },
   "source": [
    "## Dropping Null Values"
   ]
  },
  {
   "cell_type": "code",
   "execution_count": 13,
   "id": "metallic-combine",
   "metadata": {
    "execution": {
     "iopub.execute_input": "2023-07-07T14:37:38.340050Z",
     "iopub.status.busy": "2023-07-07T14:37:38.339267Z",
     "iopub.status.idle": "2023-07-07T14:37:38.412229Z",
     "shell.execute_reply": "2023-07-07T14:37:38.411619Z",
     "shell.execute_reply.started": "2023-07-07T14:36:15.228730Z"
    },
    "papermill": {
     "duration": 0.162622,
     "end_time": "2023-07-07T14:37:38.412394",
     "exception": false,
     "start_time": "2023-07-07T14:37:38.249772",
     "status": "completed"
    },
    "tags": []
   },
   "outputs": [
    {
     "data": {
      "text/html": [
       "<div>\n",
       "<style scoped>\n",
       "    .dataframe tbody tr th:only-of-type {\n",
       "        vertical-align: middle;\n",
       "    }\n",
       "\n",
       "    .dataframe tbody tr th {\n",
       "        vertical-align: top;\n",
       "    }\n",
       "\n",
       "    .dataframe thead th {\n",
       "        text-align: right;\n",
       "    }\n",
       "</style>\n",
       "<table border=\"1\" class=\"dataframe\">\n",
       "  <thead>\n",
       "    <tr style=\"text-align: right;\">\n",
       "      <th></th>\n",
       "      <th>name</th>\n",
       "      <th>online_order</th>\n",
       "      <th>book_table</th>\n",
       "      <th>rate</th>\n",
       "      <th>votes</th>\n",
       "      <th>location</th>\n",
       "      <th>cuisines</th>\n",
       "      <th>approx_cost(for two people)</th>\n",
       "      <th>listed_in(type)</th>\n",
       "    </tr>\n",
       "  </thead>\n",
       "  <tbody>\n",
       "    <tr>\n",
       "      <th>0</th>\n",
       "      <td>Jalsa</td>\n",
       "      <td>Yes</td>\n",
       "      <td>Yes</td>\n",
       "      <td>4.1</td>\n",
       "      <td>775</td>\n",
       "      <td>Banashankari</td>\n",
       "      <td>North Indian, Mughlai, Chinese</td>\n",
       "      <td>800</td>\n",
       "      <td>Buffet</td>\n",
       "    </tr>\n",
       "    <tr>\n",
       "      <th>1</th>\n",
       "      <td>Spice Elephant</td>\n",
       "      <td>Yes</td>\n",
       "      <td>No</td>\n",
       "      <td>4.1</td>\n",
       "      <td>787</td>\n",
       "      <td>Banashankari</td>\n",
       "      <td>Chinese, North Indian, Thai</td>\n",
       "      <td>800</td>\n",
       "      <td>Buffet</td>\n",
       "    </tr>\n",
       "    <tr>\n",
       "      <th>2</th>\n",
       "      <td>San Churro Cafe</td>\n",
       "      <td>Yes</td>\n",
       "      <td>No</td>\n",
       "      <td>3.8</td>\n",
       "      <td>918</td>\n",
       "      <td>Banashankari</td>\n",
       "      <td>Cafe, Mexican, Italian</td>\n",
       "      <td>800</td>\n",
       "      <td>Buffet</td>\n",
       "    </tr>\n",
       "    <tr>\n",
       "      <th>3</th>\n",
       "      <td>Addhuri Udupi Bhojana</td>\n",
       "      <td>No</td>\n",
       "      <td>No</td>\n",
       "      <td>3.7</td>\n",
       "      <td>88</td>\n",
       "      <td>Banashankari</td>\n",
       "      <td>South Indian, North Indian</td>\n",
       "      <td>300</td>\n",
       "      <td>Buffet</td>\n",
       "    </tr>\n",
       "    <tr>\n",
       "      <th>4</th>\n",
       "      <td>Grand Village</td>\n",
       "      <td>No</td>\n",
       "      <td>No</td>\n",
       "      <td>3.8</td>\n",
       "      <td>166</td>\n",
       "      <td>Basavanagudi</td>\n",
       "      <td>North Indian, Rajasthani</td>\n",
       "      <td>600</td>\n",
       "      <td>Buffet</td>\n",
       "    </tr>\n",
       "  </tbody>\n",
       "</table>\n",
       "</div>"
      ],
      "text/plain": [
       "                    name online_order book_table  rate  votes      location  \\\n",
       "0                  Jalsa          Yes        Yes   4.1    775  Banashankari   \n",
       "1         Spice Elephant          Yes         No   4.1    787  Banashankari   \n",
       "2        San Churro Cafe          Yes         No   3.8    918  Banashankari   \n",
       "3  Addhuri Udupi Bhojana           No         No   3.7     88  Banashankari   \n",
       "4          Grand Village           No         No   3.8    166  Basavanagudi   \n",
       "\n",
       "                         cuisines approx_cost(for two people) listed_in(type)  \n",
       "0  North Indian, Mughlai, Chinese                         800          Buffet  \n",
       "1     Chinese, North Indian, Thai                         800          Buffet  \n",
       "2          Cafe, Mexican, Italian                         800          Buffet  \n",
       "3      South Indian, North Indian                         300          Buffet  \n",
       "4        North Indian, Rajasthani                         600          Buffet  "
      ]
     },
     "execution_count": 13,
     "metadata": {},
     "output_type": "execute_result"
    }
   ],
   "source": [
    "df.dropna(inplace = True)\n",
    "df.head()"
   ]
  },
  {
   "cell_type": "markdown",
   "id": "abroad-aerospace",
   "metadata": {
    "papermill": {
     "duration": 0.084527,
     "end_time": "2023-07-07T14:37:38.583369",
     "exception": false,
     "start_time": "2023-07-07T14:37:38.498842",
     "status": "completed"
    },
    "tags": []
   },
   "source": [
    "## Renaming columns"
   ]
  },
  {
   "cell_type": "code",
   "execution_count": 14,
   "id": "national-bargain",
   "metadata": {
    "execution": {
     "iopub.execute_input": "2023-07-07T14:37:38.764257Z",
     "iopub.status.busy": "2023-07-07T14:37:38.763159Z",
     "iopub.status.idle": "2023-07-07T14:37:38.779348Z",
     "shell.execute_reply": "2023-07-07T14:37:38.779897Z",
     "shell.execute_reply.started": "2023-07-07T14:36:15.302112Z"
    },
    "papermill": {
     "duration": 0.110913,
     "end_time": "2023-07-07T14:37:38.780113",
     "exception": false,
     "start_time": "2023-07-07T14:37:38.669200",
     "status": "completed"
    },
    "tags": []
   },
   "outputs": [
    {
     "data": {
      "text/html": [
       "<div>\n",
       "<style scoped>\n",
       "    .dataframe tbody tr th:only-of-type {\n",
       "        vertical-align: middle;\n",
       "    }\n",
       "\n",
       "    .dataframe tbody tr th {\n",
       "        vertical-align: top;\n",
       "    }\n",
       "\n",
       "    .dataframe thead th {\n",
       "        text-align: right;\n",
       "    }\n",
       "</style>\n",
       "<table border=\"1\" class=\"dataframe\">\n",
       "  <thead>\n",
       "    <tr style=\"text-align: right;\">\n",
       "      <th></th>\n",
       "      <th>name</th>\n",
       "      <th>online_order</th>\n",
       "      <th>book_table</th>\n",
       "      <th>Ratings</th>\n",
       "      <th>votes</th>\n",
       "      <th>location</th>\n",
       "      <th>cuisines</th>\n",
       "      <th>Cost2plates</th>\n",
       "      <th>Category</th>\n",
       "    </tr>\n",
       "  </thead>\n",
       "  <tbody>\n",
       "    <tr>\n",
       "      <th>0</th>\n",
       "      <td>Jalsa</td>\n",
       "      <td>Yes</td>\n",
       "      <td>Yes</td>\n",
       "      <td>4.1</td>\n",
       "      <td>775</td>\n",
       "      <td>Banashankari</td>\n",
       "      <td>North Indian, Mughlai, Chinese</td>\n",
       "      <td>800</td>\n",
       "      <td>Buffet</td>\n",
       "    </tr>\n",
       "    <tr>\n",
       "      <th>1</th>\n",
       "      <td>Spice Elephant</td>\n",
       "      <td>Yes</td>\n",
       "      <td>No</td>\n",
       "      <td>4.1</td>\n",
       "      <td>787</td>\n",
       "      <td>Banashankari</td>\n",
       "      <td>Chinese, North Indian, Thai</td>\n",
       "      <td>800</td>\n",
       "      <td>Buffet</td>\n",
       "    </tr>\n",
       "    <tr>\n",
       "      <th>2</th>\n",
       "      <td>San Churro Cafe</td>\n",
       "      <td>Yes</td>\n",
       "      <td>No</td>\n",
       "      <td>3.8</td>\n",
       "      <td>918</td>\n",
       "      <td>Banashankari</td>\n",
       "      <td>Cafe, Mexican, Italian</td>\n",
       "      <td>800</td>\n",
       "      <td>Buffet</td>\n",
       "    </tr>\n",
       "    <tr>\n",
       "      <th>3</th>\n",
       "      <td>Addhuri Udupi Bhojana</td>\n",
       "      <td>No</td>\n",
       "      <td>No</td>\n",
       "      <td>3.7</td>\n",
       "      <td>88</td>\n",
       "      <td>Banashankari</td>\n",
       "      <td>South Indian, North Indian</td>\n",
       "      <td>300</td>\n",
       "      <td>Buffet</td>\n",
       "    </tr>\n",
       "    <tr>\n",
       "      <th>4</th>\n",
       "      <td>Grand Village</td>\n",
       "      <td>No</td>\n",
       "      <td>No</td>\n",
       "      <td>3.8</td>\n",
       "      <td>166</td>\n",
       "      <td>Basavanagudi</td>\n",
       "      <td>North Indian, Rajasthani</td>\n",
       "      <td>600</td>\n",
       "      <td>Buffet</td>\n",
       "    </tr>\n",
       "  </tbody>\n",
       "</table>\n",
       "</div>"
      ],
      "text/plain": [
       "                    name online_order book_table  Ratings  votes  \\\n",
       "0                  Jalsa          Yes        Yes      4.1    775   \n",
       "1         Spice Elephant          Yes         No      4.1    787   \n",
       "2        San Churro Cafe          Yes         No      3.8    918   \n",
       "3  Addhuri Udupi Bhojana           No         No      3.7     88   \n",
       "4          Grand Village           No         No      3.8    166   \n",
       "\n",
       "       location                        cuisines Cost2plates Category  \n",
       "0  Banashankari  North Indian, Mughlai, Chinese         800   Buffet  \n",
       "1  Banashankari     Chinese, North Indian, Thai         800   Buffet  \n",
       "2  Banashankari          Cafe, Mexican, Italian         800   Buffet  \n",
       "3  Banashankari      South Indian, North Indian         300   Buffet  \n",
       "4  Basavanagudi        North Indian, Rajasthani         600   Buffet  "
      ]
     },
     "execution_count": 14,
     "metadata": {},
     "output_type": "execute_result"
    }
   ],
   "source": [
    "df.rename(columns = {'approx_cost(for two people)':'Cost2plates', 'listed_in(type)':'Category', 'rate':'Ratings'}, inplace = True)\n",
    "df.head()"
   ]
  },
  {
   "cell_type": "markdown",
   "id": "cross-performer",
   "metadata": {
    "papermill": {
     "duration": 0.084457,
     "end_time": "2023-07-07T14:37:38.950352",
     "exception": false,
     "start_time": "2023-07-07T14:37:38.865895",
     "status": "completed"
    },
    "tags": []
   },
   "source": [
    "## Capitalizing column names"
   ]
  },
  {
   "cell_type": "code",
   "execution_count": 15,
   "id": "missing-saturn",
   "metadata": {
    "execution": {
     "iopub.execute_input": "2023-07-07T14:37:39.144467Z",
     "iopub.status.busy": "2023-07-07T14:37:39.143370Z",
     "iopub.status.idle": "2023-07-07T14:37:39.148580Z",
     "shell.execute_reply": "2023-07-07T14:37:39.147841Z",
     "shell.execute_reply.started": "2023-07-07T14:36:15.325462Z"
    },
    "papermill": {
     "duration": 0.110402,
     "end_time": "2023-07-07T14:37:39.148735",
     "exception": false,
     "start_time": "2023-07-07T14:37:39.038333",
     "status": "completed"
    },
    "tags": []
   },
   "outputs": [
    {
     "data": {
      "text/html": [
       "<div>\n",
       "<style scoped>\n",
       "    .dataframe tbody tr th:only-of-type {\n",
       "        vertical-align: middle;\n",
       "    }\n",
       "\n",
       "    .dataframe tbody tr th {\n",
       "        vertical-align: top;\n",
       "    }\n",
       "\n",
       "    .dataframe thead th {\n",
       "        text-align: right;\n",
       "    }\n",
       "</style>\n",
       "<table border=\"1\" class=\"dataframe\">\n",
       "  <thead>\n",
       "    <tr style=\"text-align: right;\">\n",
       "      <th></th>\n",
       "      <th>NAME</th>\n",
       "      <th>ONLINE_ORDER</th>\n",
       "      <th>BOOK_TABLE</th>\n",
       "      <th>RATINGS</th>\n",
       "      <th>VOTES</th>\n",
       "      <th>LOCATION</th>\n",
       "      <th>CUISINES</th>\n",
       "      <th>COST2PLATES</th>\n",
       "      <th>CATEGORY</th>\n",
       "    </tr>\n",
       "  </thead>\n",
       "  <tbody>\n",
       "    <tr>\n",
       "      <th>0</th>\n",
       "      <td>Jalsa</td>\n",
       "      <td>Yes</td>\n",
       "      <td>Yes</td>\n",
       "      <td>4.1</td>\n",
       "      <td>775</td>\n",
       "      <td>Banashankari</td>\n",
       "      <td>North Indian, Mughlai, Chinese</td>\n",
       "      <td>800</td>\n",
       "      <td>Buffet</td>\n",
       "    </tr>\n",
       "    <tr>\n",
       "      <th>1</th>\n",
       "      <td>Spice Elephant</td>\n",
       "      <td>Yes</td>\n",
       "      <td>No</td>\n",
       "      <td>4.1</td>\n",
       "      <td>787</td>\n",
       "      <td>Banashankari</td>\n",
       "      <td>Chinese, North Indian, Thai</td>\n",
       "      <td>800</td>\n",
       "      <td>Buffet</td>\n",
       "    </tr>\n",
       "    <tr>\n",
       "      <th>2</th>\n",
       "      <td>San Churro Cafe</td>\n",
       "      <td>Yes</td>\n",
       "      <td>No</td>\n",
       "      <td>3.8</td>\n",
       "      <td>918</td>\n",
       "      <td>Banashankari</td>\n",
       "      <td>Cafe, Mexican, Italian</td>\n",
       "      <td>800</td>\n",
       "      <td>Buffet</td>\n",
       "    </tr>\n",
       "    <tr>\n",
       "      <th>3</th>\n",
       "      <td>Addhuri Udupi Bhojana</td>\n",
       "      <td>No</td>\n",
       "      <td>No</td>\n",
       "      <td>3.7</td>\n",
       "      <td>88</td>\n",
       "      <td>Banashankari</td>\n",
       "      <td>South Indian, North Indian</td>\n",
       "      <td>300</td>\n",
       "      <td>Buffet</td>\n",
       "    </tr>\n",
       "    <tr>\n",
       "      <th>4</th>\n",
       "      <td>Grand Village</td>\n",
       "      <td>No</td>\n",
       "      <td>No</td>\n",
       "      <td>3.8</td>\n",
       "      <td>166</td>\n",
       "      <td>Basavanagudi</td>\n",
       "      <td>North Indian, Rajasthani</td>\n",
       "      <td>600</td>\n",
       "      <td>Buffet</td>\n",
       "    </tr>\n",
       "  </tbody>\n",
       "</table>\n",
       "</div>"
      ],
      "text/plain": [
       "                    NAME ONLINE_ORDER BOOK_TABLE  RATINGS  VOTES  \\\n",
       "0                  Jalsa          Yes        Yes      4.1    775   \n",
       "1         Spice Elephant          Yes         No      4.1    787   \n",
       "2        San Churro Cafe          Yes         No      3.8    918   \n",
       "3  Addhuri Udupi Bhojana           No         No      3.7     88   \n",
       "4          Grand Village           No         No      3.8    166   \n",
       "\n",
       "       LOCATION                        CUISINES COST2PLATES CATEGORY  \n",
       "0  Banashankari  North Indian, Mughlai, Chinese         800   Buffet  \n",
       "1  Banashankari     Chinese, North Indian, Thai         800   Buffet  \n",
       "2  Banashankari          Cafe, Mexican, Italian         800   Buffet  \n",
       "3  Banashankari      South Indian, North Indian         300   Buffet  \n",
       "4  Basavanagudi        North Indian, Rajasthani         600   Buffet  "
      ]
     },
     "execution_count": 15,
     "metadata": {},
     "output_type": "execute_result"
    }
   ],
   "source": [
    "df.columns=df.columns.str.upper()\n",
    "df.head(5)"
   ]
  },
  {
   "cell_type": "markdown",
   "id": "wanted-virgin",
   "metadata": {
    "papermill": {
     "duration": 0.082144,
     "end_time": "2023-07-07T14:37:39.319954",
     "exception": false,
     "start_time": "2023-07-07T14:37:39.237810",
     "status": "completed"
    },
    "tags": []
   },
   "source": [
    "## Checking unique values "
   ]
  },
  {
   "cell_type": "code",
   "execution_count": 16,
   "id": "collectible-property",
   "metadata": {
    "execution": {
     "iopub.execute_input": "2023-07-07T14:37:39.499230Z",
     "iopub.status.busy": "2023-07-07T14:37:39.497996Z",
     "iopub.status.idle": "2023-07-07T14:37:39.508558Z",
     "shell.execute_reply": "2023-07-07T14:37:39.509176Z",
     "shell.execute_reply.started": "2023-07-07T14:36:15.353584Z"
    },
    "papermill": {
     "duration": 0.104073,
     "end_time": "2023-07-07T14:37:39.509406",
     "exception": false,
     "start_time": "2023-07-07T14:37:39.405333",
     "status": "completed"
    },
    "tags": []
   },
   "outputs": [
    {
     "data": {
      "text/plain": [
       "array(['800', '300', '600', '700', '550', '500', '450', '650', '400',\n",
       "       '900', '200', '750', '150', '850', '100', '1,200', '350', '250',\n",
       "       '950', '1,000', '1,500', '1,300', '199', '80', '1,100', '160',\n",
       "       '1,600', '230', '130', '50', '190', '1,700', '1,400', '180',\n",
       "       '1,350', '2,200', '2,000', '1,800', '1,900', '330', '2,500',\n",
       "       '2,100', '3,000', '2,800', '3,400', '40', '1,250', '3,500',\n",
       "       '4,000', '2,400', '2,600', '120', '1,450', '469', '70', '3,200',\n",
       "       '60', '560', '240', '360', '6,000', '1,050', '2,300', '4,100',\n",
       "       '5,000', '3,700', '1,650', '2,700', '4,500', '140'], dtype=object)"
      ]
     },
     "execution_count": 16,
     "metadata": {},
     "output_type": "execute_result"
    }
   ],
   "source": [
    "df['COST2PLATES'].unique()"
   ]
  },
  {
   "cell_type": "markdown",
   "id": "ultimate-thomson",
   "metadata": {
    "papermill": {
     "duration": 0.08795,
     "end_time": "2023-07-07T14:37:39.687681",
     "exception": false,
     "start_time": "2023-07-07T14:37:39.599731",
     "status": "completed"
    },
    "tags": []
   },
   "source": [
    "## Removing ',' from Cost2Plates Column"
   ]
  },
  {
   "cell_type": "code",
   "execution_count": 17,
   "id": "close-loading",
   "metadata": {
    "execution": {
     "iopub.execute_input": "2023-07-07T14:37:39.857570Z",
     "iopub.status.busy": "2023-07-07T14:37:39.856517Z",
     "iopub.status.idle": "2023-07-07T14:37:39.903723Z",
     "shell.execute_reply": "2023-07-07T14:37:39.904268Z",
     "shell.execute_reply.started": "2023-07-07T14:36:15.367058Z"
    },
    "papermill": {
     "duration": 0.133913,
     "end_time": "2023-07-07T14:37:39.904465",
     "exception": false,
     "start_time": "2023-07-07T14:37:39.770552",
     "status": "completed"
    },
    "tags": []
   },
   "outputs": [
    {
     "data": {
      "text/plain": [
       "array([ 800.,  300.,  600.,  700.,  550.,  500.,  450.,  650.,  400.,\n",
       "        900.,  200.,  750.,  150.,  850.,  100., 1200.,  350.,  250.,\n",
       "        950., 1000., 1500., 1300.,  199.,   80., 1100.,  160., 1600.,\n",
       "        230.,  130.,   50.,  190., 1700., 1400.,  180., 1350., 2200.,\n",
       "       2000., 1800., 1900.,  330., 2500., 2100., 3000., 2800., 3400.,\n",
       "         40., 1250., 3500., 4000., 2400., 2600.,  120., 1450.,  469.,\n",
       "         70., 3200.,   60.,  560.,  240.,  360., 6000., 1050., 2300.,\n",
       "       4100., 5000., 3700., 1650., 2700., 4500.,  140.])"
      ]
     },
     "execution_count": 17,
     "metadata": {},
     "output_type": "execute_result"
    }
   ],
   "source": [
    "def handlecomma(value):\n",
    "    value = str(value)\n",
    "    if ',' in value:\n",
    "        value = value.replace(',', '')\n",
    "        return float(value)\n",
    "    else:\n",
    "        return float(value)\n",
    "    \n",
    "df['COST2PLATES'] = df['COST2PLATES'].apply(handlecomma)\n",
    "df['COST2PLATES'].unique()\n",
    "        "
   ]
  },
  {
   "cell_type": "code",
   "execution_count": 18,
   "id": "separate-pioneer",
   "metadata": {
    "execution": {
     "iopub.execute_input": "2023-07-07T14:37:40.080350Z",
     "iopub.status.busy": "2023-07-07T14:37:40.079275Z",
     "iopub.status.idle": "2023-07-07T14:37:40.098404Z",
     "shell.execute_reply": "2023-07-07T14:37:40.098947Z",
     "shell.execute_reply.started": "2023-07-07T14:36:15.418527Z"
    },
    "papermill": {
     "duration": 0.10929,
     "end_time": "2023-07-07T14:37:40.099165",
     "exception": false,
     "start_time": "2023-07-07T14:37:39.989875",
     "status": "completed"
    },
    "tags": []
   },
   "outputs": [
    {
     "data": {
      "text/html": [
       "<div>\n",
       "<style scoped>\n",
       "    .dataframe tbody tr th:only-of-type {\n",
       "        vertical-align: middle;\n",
       "    }\n",
       "\n",
       "    .dataframe tbody tr th {\n",
       "        vertical-align: top;\n",
       "    }\n",
       "\n",
       "    .dataframe thead th {\n",
       "        text-align: right;\n",
       "    }\n",
       "</style>\n",
       "<table border=\"1\" class=\"dataframe\">\n",
       "  <thead>\n",
       "    <tr style=\"text-align: right;\">\n",
       "      <th></th>\n",
       "      <th>NAME</th>\n",
       "      <th>ONLINE_ORDER</th>\n",
       "      <th>BOOK_TABLE</th>\n",
       "      <th>RATINGS</th>\n",
       "      <th>VOTES</th>\n",
       "      <th>LOCATION</th>\n",
       "      <th>CUISINES</th>\n",
       "      <th>COST2PLATES</th>\n",
       "      <th>CATEGORY</th>\n",
       "    </tr>\n",
       "  </thead>\n",
       "  <tbody>\n",
       "    <tr>\n",
       "      <th>0</th>\n",
       "      <td>Jalsa</td>\n",
       "      <td>Yes</td>\n",
       "      <td>Yes</td>\n",
       "      <td>4.1</td>\n",
       "      <td>775</td>\n",
       "      <td>Banashankari</td>\n",
       "      <td>North Indian, Mughlai, Chinese</td>\n",
       "      <td>800.0</td>\n",
       "      <td>Buffet</td>\n",
       "    </tr>\n",
       "    <tr>\n",
       "      <th>1</th>\n",
       "      <td>Spice Elephant</td>\n",
       "      <td>Yes</td>\n",
       "      <td>No</td>\n",
       "      <td>4.1</td>\n",
       "      <td>787</td>\n",
       "      <td>Banashankari</td>\n",
       "      <td>Chinese, North Indian, Thai</td>\n",
       "      <td>800.0</td>\n",
       "      <td>Buffet</td>\n",
       "    </tr>\n",
       "    <tr>\n",
       "      <th>2</th>\n",
       "      <td>San Churro Cafe</td>\n",
       "      <td>Yes</td>\n",
       "      <td>No</td>\n",
       "      <td>3.8</td>\n",
       "      <td>918</td>\n",
       "      <td>Banashankari</td>\n",
       "      <td>Cafe, Mexican, Italian</td>\n",
       "      <td>800.0</td>\n",
       "      <td>Buffet</td>\n",
       "    </tr>\n",
       "    <tr>\n",
       "      <th>3</th>\n",
       "      <td>Addhuri Udupi Bhojana</td>\n",
       "      <td>No</td>\n",
       "      <td>No</td>\n",
       "      <td>3.7</td>\n",
       "      <td>88</td>\n",
       "      <td>Banashankari</td>\n",
       "      <td>South Indian, North Indian</td>\n",
       "      <td>300.0</td>\n",
       "      <td>Buffet</td>\n",
       "    </tr>\n",
       "    <tr>\n",
       "      <th>4</th>\n",
       "      <td>Grand Village</td>\n",
       "      <td>No</td>\n",
       "      <td>No</td>\n",
       "      <td>3.8</td>\n",
       "      <td>166</td>\n",
       "      <td>Basavanagudi</td>\n",
       "      <td>North Indian, Rajasthani</td>\n",
       "      <td>600.0</td>\n",
       "      <td>Buffet</td>\n",
       "    </tr>\n",
       "  </tbody>\n",
       "</table>\n",
       "</div>"
      ],
      "text/plain": [
       "                    NAME ONLINE_ORDER BOOK_TABLE  RATINGS  VOTES  \\\n",
       "0                  Jalsa          Yes        Yes      4.1    775   \n",
       "1         Spice Elephant          Yes         No      4.1    787   \n",
       "2        San Churro Cafe          Yes         No      3.8    918   \n",
       "3  Addhuri Udupi Bhojana           No         No      3.7     88   \n",
       "4          Grand Village           No         No      3.8    166   \n",
       "\n",
       "       LOCATION                        CUISINES  COST2PLATES CATEGORY  \n",
       "0  Banashankari  North Indian, Mughlai, Chinese        800.0   Buffet  \n",
       "1  Banashankari     Chinese, North Indian, Thai        800.0   Buffet  \n",
       "2  Banashankari          Cafe, Mexican, Italian        800.0   Buffet  \n",
       "3  Banashankari      South Indian, North Indian        300.0   Buffet  \n",
       "4  Basavanagudi        North Indian, Rajasthani        600.0   Buffet  "
      ]
     },
     "execution_count": 18,
     "metadata": {},
     "output_type": "execute_result"
    }
   ],
   "source": [
    "df.head()"
   ]
  },
  {
   "cell_type": "markdown",
   "id": "derived-michael",
   "metadata": {
    "papermill": {
     "duration": 0.086605,
     "end_time": "2023-07-07T14:37:40.275096",
     "exception": false,
     "start_time": "2023-07-07T14:37:40.188491",
     "status": "completed"
    },
    "tags": []
   },
   "source": [
    "## Cleaning Location Column"
   ]
  },
  {
   "cell_type": "code",
   "execution_count": 19,
   "id": "continent-mercy",
   "metadata": {
    "execution": {
     "iopub.execute_input": "2023-07-07T14:37:40.453308Z",
     "iopub.status.busy": "2023-07-07T14:37:40.452536Z",
     "iopub.status.idle": "2023-07-07T14:37:40.546798Z",
     "shell.execute_reply": "2023-07-07T14:37:40.547366Z",
     "shell.execute_reply.started": "2023-07-07T14:36:15.441819Z"
    },
    "papermill": {
     "duration": 0.186189,
     "end_time": "2023-07-07T14:37:40.547577",
     "exception": false,
     "start_time": "2023-07-07T14:37:40.361388",
     "status": "completed"
    },
    "tags": []
   },
   "outputs": [
    {
     "data": {
      "text/plain": [
       "others                   4851\n",
       "BTM                      2499\n",
       "Whitefield               1958\n",
       "HSR                      1760\n",
       "Indiranagar              1748\n",
       "Marathahalli             1665\n",
       "Koramangala 5th Block    1605\n",
       "JP Nagar                 1405\n",
       "Jayanagar                1243\n",
       "Electronic City          1220\n",
       "Bellandur                1134\n",
       "Bannerghatta Road        1054\n",
       "Sarjapur Road             938\n",
       "Brigade Road              684\n",
       "Koramangala 7th Block     623\n",
       "Brookefield               598\n",
       "Koramangala 6th Block     595\n",
       "Kalyan Nagar              589\n",
       "Koramangala 4th Block     587\n",
       "New BEL Road              584\n",
       "Banashankari              570\n",
       "Malleshwaram              556\n",
       "MG Road                   554\n",
       "Ulsoor                    546\n",
       "Koramangala 1st Block     538\n",
       "Frazer Town               469\n",
       "Basavanagudi              463\n",
       "Rajajinagar               462\n",
       "Church Street             446\n",
       "Banaswadi                 432\n",
       "Residency Road            423\n",
       "Kammanahalli              420\n",
       "Old Airport Road          405\n",
       "Lavelle Road              396\n",
       "Richmond Road             387\n",
       "Domlur                    345\n",
       "Name: LOCATION, dtype: int64"
      ]
     },
     "execution_count": 19,
     "metadata": {},
     "output_type": "execute_result"
    }
   ],
   "source": [
    "location = df['LOCATION'].value_counts(ascending  = False)\n",
    "\n",
    "location_lessthan300 = location[location<300]\n",
    "\n",
    "\n",
    "\n",
    "def handle_location(value):\n",
    "    if(value in location_lessthan300):\n",
    "        return 'others'\n",
    "    else:\n",
    "        return value\n",
    "        \n",
    "df['LOCATION'] = df['LOCATION'].apply(handle_location)\n",
    "df['LOCATION'].value_counts()"
   ]
  },
  {
   "cell_type": "markdown",
   "id": "absolute-alliance",
   "metadata": {
    "papermill": {
     "duration": 0.084385,
     "end_time": "2023-07-07T14:37:40.720691",
     "exception": false,
     "start_time": "2023-07-07T14:37:40.636306",
     "status": "completed"
    },
    "tags": []
   },
   "source": [
    "## Cleaning Cuisines Column"
   ]
  },
  {
   "cell_type": "code",
   "execution_count": 20,
   "id": "orange-tiffany",
   "metadata": {
    "execution": {
     "iopub.execute_input": "2023-07-07T14:37:40.893209Z",
     "iopub.status.busy": "2023-07-07T14:37:40.892459Z",
     "iopub.status.idle": "2023-07-07T14:37:40.988934Z",
     "shell.execute_reply": "2023-07-07T14:37:40.989554Z",
     "shell.execute_reply.started": "2023-07-07T14:36:15.544940Z"
    },
    "papermill": {
     "duration": 0.184685,
     "end_time": "2023-07-07T14:37:40.989762",
     "exception": false,
     "start_time": "2023-07-07T14:37:40.805077",
     "status": "completed"
    },
    "tags": []
   },
   "outputs": [
    {
     "data": {
      "text/plain": [
       "others                                              19682\n",
       "North Indian                                         1907\n",
       "North Indian, Chinese                                1570\n",
       "South Indian                                         1171\n",
       "Bakery, Desserts                                      593\n",
       "Biryani                                               560\n",
       "Fast Food                                             485\n",
       "South Indian, North Indian, Chinese                   475\n",
       "Desserts                                              447\n",
       "Cafe                                                  447\n",
       "Bakery                                                387\n",
       "Chinese                                               338\n",
       "Ice Cream, Desserts                                   304\n",
       "Mithai, Street Food                                   260\n",
       "Chinese, North Indian                                 253\n",
       "North Indian, Chinese, Biryani                        238\n",
       "North Indian, South Indian                            230\n",
       "Desserts, Ice Cream                                   226\n",
       "North Indian, South Indian, Chinese                   212\n",
       "South Indian, North Indian                            207\n",
       "Finger Food                                           200\n",
       "North Indian, Biryani                                 190\n",
       "Desserts, Beverages                                   186\n",
       "Street Food                                           179\n",
       "Biryani, North Indian                                 179\n",
       "Biryani, Kebab                                        174\n",
       "Cafe, Fast Food                                       164\n",
       "Chinese, Momos                                        162\n",
       "Beverages, Fast Food                                  159\n",
       "South Indian, Biryani                                 152\n",
       "Beverages                                             151\n",
       "Burger, Fast Food                                     147\n",
       "South Indian, Chinese                                 145\n",
       "North Indian, Mughlai                                 144\n",
       "South Indian, North Indian, Chinese, Street Food      142\n",
       "Desserts, Bakery                                      139\n",
       "Kerala                                                135\n",
       "Ice Cream                                             130\n",
       "Fast Food, Beverages                                  130\n",
       "North Indian, Fast Food                               129\n",
       "Continental                                           128\n",
       "Cafe, Continental                                     126\n",
       "Pizza, Fast Food                                      125\n",
       "Bakery, Fast Food                                     123\n",
       "Chinese, Thai                                         120\n",
       "Fast Food, Rolls                                      120\n",
       "Biryani, North Indian, Chinese                        119\n",
       "North Indian, Chinese, Fast Food                      115\n",
       "Andhra                                                114\n",
       "North Indian, Chinese, South Indian                   114\n",
       "Pizza                                                 110\n",
       "Biryani, Fast Food                                    105\n",
       "Andhra, Biryani                                       102\n",
       "Arabian                                               102\n",
       "Name: CUISINES, dtype: int64"
      ]
     },
     "execution_count": 20,
     "metadata": {},
     "output_type": "execute_result"
    }
   ],
   "source": [
    "cuisines = df['CUISINES'].value_counts(ascending  = False)\n",
    "\n",
    "\n",
    "cuisines_lessthan100 = cuisines[cuisines<100]\n",
    "\n",
    "\n",
    "\n",
    "def handle_cuisines(value):\n",
    "    if(value in cuisines_lessthan100):\n",
    "        return 'others'\n",
    "    else:\n",
    "        return value\n",
    "        \n",
    "df['CUISINES'] = df['CUISINES'].apply(handle_cuisines)\n",
    "df['CUISINES'].value_counts()\n"
   ]
  },
  {
   "cell_type": "code",
   "execution_count": 21,
   "id": "stuck-sense",
   "metadata": {
    "execution": {
     "iopub.execute_input": "2023-07-07T14:37:41.165460Z",
     "iopub.status.busy": "2023-07-07T14:37:41.164600Z",
     "iopub.status.idle": "2023-07-07T14:37:41.182099Z",
     "shell.execute_reply": "2023-07-07T14:37:41.182651Z",
     "shell.execute_reply.started": "2023-07-07T14:36:15.649854Z"
    },
    "papermill": {
     "duration": 0.107285,
     "end_time": "2023-07-07T14:37:41.182856",
     "exception": false,
     "start_time": "2023-07-07T14:37:41.075571",
     "status": "completed"
    },
    "tags": []
   },
   "outputs": [
    {
     "data": {
      "text/html": [
       "<div>\n",
       "<style scoped>\n",
       "    .dataframe tbody tr th:only-of-type {\n",
       "        vertical-align: middle;\n",
       "    }\n",
       "\n",
       "    .dataframe tbody tr th {\n",
       "        vertical-align: top;\n",
       "    }\n",
       "\n",
       "    .dataframe thead th {\n",
       "        text-align: right;\n",
       "    }\n",
       "</style>\n",
       "<table border=\"1\" class=\"dataframe\">\n",
       "  <thead>\n",
       "    <tr style=\"text-align: right;\">\n",
       "      <th></th>\n",
       "      <th>NAME</th>\n",
       "      <th>ONLINE_ORDER</th>\n",
       "      <th>BOOK_TABLE</th>\n",
       "      <th>RATINGS</th>\n",
       "      <th>VOTES</th>\n",
       "      <th>LOCATION</th>\n",
       "      <th>CUISINES</th>\n",
       "      <th>COST2PLATES</th>\n",
       "      <th>CATEGORY</th>\n",
       "    </tr>\n",
       "  </thead>\n",
       "  <tbody>\n",
       "    <tr>\n",
       "      <th>0</th>\n",
       "      <td>Jalsa</td>\n",
       "      <td>Yes</td>\n",
       "      <td>Yes</td>\n",
       "      <td>4.1</td>\n",
       "      <td>775</td>\n",
       "      <td>Banashankari</td>\n",
       "      <td>others</td>\n",
       "      <td>800.0</td>\n",
       "      <td>Buffet</td>\n",
       "    </tr>\n",
       "    <tr>\n",
       "      <th>1</th>\n",
       "      <td>Spice Elephant</td>\n",
       "      <td>Yes</td>\n",
       "      <td>No</td>\n",
       "      <td>4.1</td>\n",
       "      <td>787</td>\n",
       "      <td>Banashankari</td>\n",
       "      <td>others</td>\n",
       "      <td>800.0</td>\n",
       "      <td>Buffet</td>\n",
       "    </tr>\n",
       "    <tr>\n",
       "      <th>2</th>\n",
       "      <td>San Churro Cafe</td>\n",
       "      <td>Yes</td>\n",
       "      <td>No</td>\n",
       "      <td>3.8</td>\n",
       "      <td>918</td>\n",
       "      <td>Banashankari</td>\n",
       "      <td>others</td>\n",
       "      <td>800.0</td>\n",
       "      <td>Buffet</td>\n",
       "    </tr>\n",
       "    <tr>\n",
       "      <th>3</th>\n",
       "      <td>Addhuri Udupi Bhojana</td>\n",
       "      <td>No</td>\n",
       "      <td>No</td>\n",
       "      <td>3.7</td>\n",
       "      <td>88</td>\n",
       "      <td>Banashankari</td>\n",
       "      <td>South Indian, North Indian</td>\n",
       "      <td>300.0</td>\n",
       "      <td>Buffet</td>\n",
       "    </tr>\n",
       "    <tr>\n",
       "      <th>4</th>\n",
       "      <td>Grand Village</td>\n",
       "      <td>No</td>\n",
       "      <td>No</td>\n",
       "      <td>3.8</td>\n",
       "      <td>166</td>\n",
       "      <td>Basavanagudi</td>\n",
       "      <td>others</td>\n",
       "      <td>600.0</td>\n",
       "      <td>Buffet</td>\n",
       "    </tr>\n",
       "  </tbody>\n",
       "</table>\n",
       "</div>"
      ],
      "text/plain": [
       "                    NAME ONLINE_ORDER BOOK_TABLE  RATINGS  VOTES  \\\n",
       "0                  Jalsa          Yes        Yes      4.1    775   \n",
       "1         Spice Elephant          Yes         No      4.1    787   \n",
       "2        San Churro Cafe          Yes         No      3.8    918   \n",
       "3  Addhuri Udupi Bhojana           No         No      3.7     88   \n",
       "4          Grand Village           No         No      3.8    166   \n",
       "\n",
       "       LOCATION                    CUISINES  COST2PLATES CATEGORY  \n",
       "0  Banashankari                      others        800.0   Buffet  \n",
       "1  Banashankari                      others        800.0   Buffet  \n",
       "2  Banashankari                      others        800.0   Buffet  \n",
       "3  Banashankari  South Indian, North Indian        300.0   Buffet  \n",
       "4  Basavanagudi                      others        600.0   Buffet  "
      ]
     },
     "execution_count": 21,
     "metadata": {},
     "output_type": "execute_result"
    }
   ],
   "source": [
    "df.head()"
   ]
  },
  {
   "cell_type": "markdown",
   "id": "overhead-scotland",
   "metadata": {
    "papermill": {
     "duration": 0.087543,
     "end_time": "2023-07-07T14:37:41.359449",
     "exception": false,
     "start_time": "2023-07-07T14:37:41.271906",
     "status": "completed"
    },
    "tags": []
   },
   "source": [
    "## Checking categories of different restaurants "
   ]
  },
  {
   "cell_type": "code",
   "execution_count": 22,
   "id": "unnecessary-floor",
   "metadata": {
    "execution": {
     "iopub.execute_input": "2023-07-07T14:37:41.554755Z",
     "iopub.status.busy": "2023-07-07T14:37:41.541612Z",
     "iopub.status.idle": "2023-07-07T14:37:41.559622Z",
     "shell.execute_reply": "2023-07-07T14:37:41.560491Z",
     "shell.execute_reply.started": "2023-07-07T14:36:15.671234Z"
    },
    "papermill": {
     "duration": 0.112275,
     "end_time": "2023-07-07T14:37:41.560691",
     "exception": false,
     "start_time": "2023-07-07T14:37:41.448416",
     "status": "completed"
    },
    "tags": []
   },
   "outputs": [
    {
     "data": {
      "text/plain": [
       "Delivery              16055\n",
       "Dine-out              12834\n",
       "Desserts               2457\n",
       "Cafes                  1238\n",
       "Drinks & nightlife      902\n",
       "Buffet                  669\n",
       "Pubs and bars           597\n",
       "Name: CATEGORY, dtype: int64"
      ]
     },
     "execution_count": 22,
     "metadata": {},
     "output_type": "execute_result"
    }
   ],
   "source": [
    "df.CATEGORY.value_counts()"
   ]
  },
  {
   "cell_type": "markdown",
   "id": "fitting-reynolds",
   "metadata": {
    "papermill": {
     "duration": 0.087732,
     "end_time": "2023-07-07T14:37:41.737696",
     "exception": false,
     "start_time": "2023-07-07T14:37:41.649964",
     "status": "completed"
    },
    "tags": []
   },
   "source": [
    "# Data analysis and visualization"
   ]
  },
  {
   "cell_type": "markdown",
   "id": "boxed-dispatch",
   "metadata": {
    "papermill": {
     "duration": 0.085691,
     "end_time": "2023-07-07T14:37:41.911120",
     "exception": false,
     "start_time": "2023-07-07T14:37:41.825429",
     "status": "completed"
    },
    "tags": []
   },
   "source": [
    "## Amount of restaurants in various locations"
   ]
  },
  {
   "cell_type": "code",
   "execution_count": 23,
   "id": "advised-investing",
   "metadata": {
    "execution": {
     "iopub.execute_input": "2023-07-07T14:37:42.091644Z",
     "iopub.status.busy": "2023-07-07T14:37:42.090529Z",
     "iopub.status.idle": "2023-07-07T14:37:42.700260Z",
     "shell.execute_reply": "2023-07-07T14:37:42.699635Z",
     "shell.execute_reply.started": "2023-07-07T14:36:15.697108Z"
    },
    "papermill": {
     "duration": 0.701487,
     "end_time": "2023-07-07T14:37:42.700423",
     "exception": false,
     "start_time": "2023-07-07T14:37:41.998936",
     "status": "completed"
    },
    "tags": []
   },
   "outputs": [
    {
     "name": "stderr",
     "output_type": "stream",
     "text": [
      "/opt/conda/lib/python3.7/site-packages/seaborn/_decorators.py:43: FutureWarning: Pass the following variable as a keyword arg: x. From version 0.12, the only valid positional argument will be `data`, and passing other arguments without an explicit keyword will result in an error or misinterpretation.\n",
      "  FutureWarning\n"
     ]
    },
    {
     "data": {
      "image/png": "[encoded data removed]",
      "text/plain": [
       "<Figure size 1152x720 with 1 Axes>"
      ]
     },
     "metadata": {},
     "output_type": "display_data"
    }
   ],
   "source": [
    "plt.figure(figsize = (16,10))\n",
    "sns.countplot(df.LOCATION)\n",
    "plt.xticks(rotation=90)\n",
    "warnings.simplefilter(action='ignore', category=FutureWarning);"
   ]
  },
  {
   "cell_type": "markdown",
   "id": "honest-partner",
   "metadata": {
    "papermill": {
     "duration": 0.089741,
     "end_time": "2023-07-07T14:37:42.883092",
     "exception": false,
     "start_time": "2023-07-07T14:37:42.793351",
     "status": "completed"
    },
    "tags": []
   },
   "source": [
    "We can see how the total number of restaurants  present in different locations. Here, it’s clear that BTM has the largest number of restaurants, while Domlur has the least number of restaurants present"
   ]
  },
  {
   "cell_type": "markdown",
   "id": "strong-cabinet",
   "metadata": {
    "papermill": {
     "duration": 0.089049,
     "end_time": "2023-07-07T14:37:43.065231",
     "exception": false,
     "start_time": "2023-07-07T14:37:42.976182",
     "status": "completed"
    },
    "tags": []
   },
   "source": [
    "## Amount of restaurants that support online order facility"
   ]
  },
  {
   "cell_type": "code",
   "execution_count": 24,
   "id": "practical-shelf",
   "metadata": {
    "execution": {
     "iopub.execute_input": "2023-07-07T14:37:43.282877Z",
     "iopub.status.busy": "2023-07-07T14:37:43.282101Z",
     "iopub.status.idle": "2023-07-07T14:37:43.455819Z",
     "shell.execute_reply": "2023-07-07T14:37:43.455090Z",
     "shell.execute_reply.started": "2023-07-07T14:36:16.315596Z"
    },
    "papermill": {
     "duration": 0.298781,
     "end_time": "2023-07-07T14:37:43.455988",
     "exception": false,
     "start_time": "2023-07-07T14:37:43.157207",
     "status": "completed"
    },
    "tags": []
   },
   "outputs": [
    {
     "data": {
      "image/png": "[encoded data removed]",
      "text/plain": [
       "<Figure size 432x432 with 1 Axes>"
      ]
     },
     "metadata": {},
     "output_type": "display_data"
    }
   ],
   "source": [
    "plt.figure(figsize = (6,6))\n",
    "sns.countplot(df['ONLINE_ORDER'], palette = 'inferno')\n",
    "warnings.simplefilter(action='ignore', category=FutureWarning);"
   ]
  },
  {
   "cell_type": "markdown",
   "id": "funky-jacket",
   "metadata": {
    "papermill": {
     "duration": 0.098432,
     "end_time": "2023-07-07T14:37:43.654098",
     "exception": false,
     "start_time": "2023-07-07T14:37:43.555666",
     "status": "completed"
    },
    "tags": []
   },
   "source": [
    "This above chart tells us that there are above 20000 restaurants which provide online order facility and a little more than 12500 restaurants which still don’t have online order  facility."
   ]
  },
  {
   "cell_type": "markdown",
   "id": "responsible-transition",
   "metadata": {
    "papermill": {
     "duration": 0.099598,
     "end_time": "2023-07-07T14:37:43.855281",
     "exception": false,
     "start_time": "2023-07-07T14:37:43.755683",
     "status": "completed"
    },
    "tags": []
   },
   "source": [
    "## Amount of restarants that support Book Table facility"
   ]
  },
  {
   "cell_type": "code",
   "execution_count": 25,
   "id": "fleet-prague",
   "metadata": {
    "execution": {
     "iopub.execute_input": "2023-07-07T14:37:44.048723Z",
     "iopub.status.busy": "2023-07-07T14:37:44.047864Z",
     "iopub.status.idle": "2023-07-07T14:37:44.236333Z",
     "shell.execute_reply": "2023-07-07T14:37:44.236938Z",
     "shell.execute_reply.started": "2023-07-07T14:36:16.519108Z"
    },
    "papermill": {
     "duration": 0.289467,
     "end_time": "2023-07-07T14:37:44.237209",
     "exception": false,
     "start_time": "2023-07-07T14:37:43.947742",
     "status": "completed"
    },
    "tags": []
   },
   "outputs": [
    {
     "data": {
      "image/png": "[encoded data removed]",
      "text/plain": [
       "<Figure size 432x432 with 1 Axes>"
      ]
     },
     "metadata": {},
     "output_type": "display_data"
    }
   ],
   "source": [
    "plt.figure(figsize = (6,6))\n",
    "sns.countplot(df['BOOK_TABLE'], palette = 'rainbow')\n",
    "warnings.simplefilter(action='ignore', category=FutureWarning);"
   ]
  },
  {
   "cell_type": "markdown",
   "id": "collected-dream",
   "metadata": {
    "papermill": {
     "duration": 0.094659,
     "end_time": "2023-07-07T14:37:44.428911",
     "exception": false,
     "start_time": "2023-07-07T14:37:44.334252",
     "status": "completed"
    },
    "tags": []
   },
   "source": [
    "The book table facility is provided by very few restaurants , that is only about 5000 Restaurants are providing book  table facility, while nearly 30000 Restaurants don’t have book table facility."
   ]
  },
  {
   "cell_type": "markdown",
   "id": "cognitive-smile",
   "metadata": {
    "papermill": {
     "duration": 0.106,
     "end_time": "2023-07-07T14:37:44.627683",
     "exception": false,
     "start_time": "2023-07-07T14:37:44.521683",
     "status": "completed"
    },
    "tags": []
   },
   "source": [
    "## Corelation of online order facility and restaurant ratings"
   ]
  },
  {
   "cell_type": "code",
   "execution_count": 26,
   "id": "desperate-genetics",
   "metadata": {
    "execution": {
     "iopub.execute_input": "2023-07-07T14:37:44.823517Z",
     "iopub.status.busy": "2023-07-07T14:37:44.822709Z",
     "iopub.status.idle": "2023-07-07T14:37:45.032561Z",
     "shell.execute_reply": "2023-07-07T14:37:45.031785Z",
     "shell.execute_reply.started": "2023-07-07T14:36:16.710133Z"
    },
    "papermill": {
     "duration": 0.306899,
     "end_time": "2023-07-07T14:37:45.032722",
     "exception": false,
     "start_time": "2023-07-07T14:37:44.725823",
     "status": "completed"
    },
    "tags": []
   },
   "outputs": [
    {
     "data": {
      "image/png": "[encoded data removed]",
      "text/plain": [
       "<Figure size 432x432 with 1 Axes>"
      ]
     },
     "metadata": {},
     "output_type": "display_data"
    }
   ],
   "source": [
    "plt.figure(figsize = (6,6))\n",
    "sns.boxplot(x = 'ONLINE_ORDER', y = 'RATINGS', data = df);"
   ]
  },
  {
   "cell_type": "markdown",
   "id": "invisible-valuation",
   "metadata": {
    "papermill": {
     "duration": 0.096841,
     "end_time": "2023-07-07T14:37:45.225718",
     "exception": false,
     "start_time": "2023-07-07T14:37:45.128877",
     "status": "completed"
    },
    "tags": []
   },
   "source": [
    "Generally, ratings of restaurants with online order facility range from 2.8-4.7, with average rating  being around 3.7 and ratings of  restaurants which don’t have  online order facility range from 3-4.5, with average  rating  being  around 3.6"
   ]
  },
  {
   "cell_type": "markdown",
   "id": "offshore-tissue",
   "metadata": {
    "papermill": {
     "duration": 0.093818,
     "end_time": "2023-07-07T14:37:45.416300",
     "exception": false,
     "start_time": "2023-07-07T14:37:45.322482",
     "status": "completed"
    },
    "tags": []
   },
   "source": [
    "## Corelation of Book Table facility with Restaurant Ratings"
   ]
  },
  {
   "cell_type": "code",
   "execution_count": 27,
   "id": "adult-sugar",
   "metadata": {
    "execution": {
     "iopub.execute_input": "2023-07-07T14:37:45.625431Z",
     "iopub.status.busy": "2023-07-07T14:37:45.624055Z",
     "iopub.status.idle": "2023-07-07T14:37:45.820765Z",
     "shell.execute_reply": "2023-07-07T14:37:45.821333Z",
     "shell.execute_reply.started": "2023-07-07T14:36:16.932230Z"
    },
    "papermill": {
     "duration": 0.308092,
     "end_time": "2023-07-07T14:37:45.821541",
     "exception": false,
     "start_time": "2023-07-07T14:37:45.513449",
     "status": "completed"
    },
    "tags": []
   },
   "outputs": [
    {
     "data": {
      "image/png": "[encoded data removed]",
      "text/plain": [
       "<Figure size 432x432 with 1 Axes>"
      ]
     },
     "metadata": {},
     "output_type": "display_data"
    }
   ],
   "source": [
    "plt.figure(figsize = (6,6))\n",
    "sns.boxplot(x = 'BOOK_TABLE', y = 'RATINGS', data = df);"
   ]
  },
  {
   "cell_type": "markdown",
   "id": "beautiful-papua",
   "metadata": {
    "papermill": {
     "duration": 0.091987,
     "end_time": "2023-07-07T14:37:46.011143",
     "exception": false,
     "start_time": "2023-07-07T14:37:45.919156",
     "status": "completed"
    },
    "tags": []
   },
   "source": [
    "Generally, ratings of restaurants with Book Table facility range from 3.4-4.9 and average rating  is around 4.2 . While, ratings of  restaurants which don’t have  Book Table  facility range from 2.7-4.6 and average  rating  is  around 3.75"
   ]
  },
  {
   "cell_type": "markdown",
   "id": "backed-portrait",
   "metadata": {
    "papermill": {
     "duration": 0.094453,
     "end_time": "2023-07-07T14:37:46.203688",
     "exception": false,
     "start_time": "2023-07-07T14:37:46.109235",
     "status": "completed"
    },
    "tags": []
   },
   "source": [
    "## Restaurant ratings for different Cuisines"
   ]
  },
  {
   "cell_type": "code",
   "execution_count": 28,
   "id": "remarkable-update",
   "metadata": {
    "execution": {
     "iopub.execute_input": "2023-07-07T14:37:46.395542Z",
     "iopub.status.busy": "2023-07-07T14:37:46.394779Z",
     "iopub.status.idle": "2023-07-07T14:37:48.651333Z",
     "shell.execute_reply": "2023-07-07T14:37:48.651924Z",
     "shell.execute_reply.started": "2023-07-07T14:36:17.147842Z"
    },
    "papermill": {
     "duration": 2.356186,
     "end_time": "2023-07-07T14:37:48.652173",
     "exception": false,
     "start_time": "2023-07-07T14:37:46.295987",
     "status": "completed"
    },
    "tags": []
   },
   "outputs": [
    {
     "data": {
      "image/png": "[encoded data removed]",
      "text/plain": [
       "<Figure size 1080x576 with 1 Axes>"
      ]
     },
     "metadata": {},
     "output_type": "display_data"
    }
   ],
   "source": [
    "plt.figure(figsize= (15,8))\n",
    "sns.boxplot(x='CUISINES', y='RATINGS', data=df)\n",
    "plt.xticks(rotation=90);"
   ]
  },
  {
   "cell_type": "markdown",
   "id": "pressing-broadway",
   "metadata": {
    "papermill": {
     "duration": 0.109428,
     "end_time": "2023-07-07T14:37:48.861895",
     "exception": false,
     "start_time": "2023-07-07T14:37:48.752467",
     "status": "completed"
    },
    "tags": []
   },
   "source": [
    "We can see that there’s difference in the ratings of various  cuisines and also, the variation of ratings for each cuisines is huge. The cuisine with the highest average rating is Desert, beverages (4.2) and the cuisine with the lowest average rating is Café, fast food (3.4)"
   ]
  },
  {
   "cell_type": "markdown",
   "id": "aggressive-genre",
   "metadata": {
    "papermill": {
     "duration": 0.10536,
     "end_time": "2023-07-07T14:37:49.071703",
     "exception": false,
     "start_time": "2023-07-07T14:37:48.966343",
     "status": "completed"
    },
    "tags": []
   },
   "source": [
    "## Count of feedback(Votes) provided by people in different locations"
   ]
  },
  {
   "cell_type": "code",
   "execution_count": 29,
   "id": "essential-edgar",
   "metadata": {
    "execution": {
     "iopub.execute_input": "2023-07-07T14:37:49.284319Z",
     "iopub.status.busy": "2023-07-07T14:37:49.283463Z",
     "iopub.status.idle": "2023-07-07T14:37:49.312164Z",
     "shell.execute_reply": "2023-07-07T14:37:49.312736Z",
     "shell.execute_reply.started": "2023-07-07T14:36:19.404553Z"
    },
    "papermill": {
     "duration": 0.135887,
     "end_time": "2023-07-07T14:37:49.312959",
     "exception": false,
     "start_time": "2023-07-07T14:37:49.177072",
     "status": "completed"
    },
    "tags": []
   },
   "outputs": [
    {
     "data": {
      "text/html": [
       "<div>\n",
       "<style scoped>\n",
       "    .dataframe tbody tr th:only-of-type {\n",
       "        vertical-align: middle;\n",
       "    }\n",
       "\n",
       "    .dataframe tbody tr th {\n",
       "        vertical-align: top;\n",
       "    }\n",
       "\n",
       "    .dataframe thead th {\n",
       "        text-align: right;\n",
       "    }\n",
       "</style>\n",
       "<table border=\"1\" class=\"dataframe\">\n",
       "  <thead>\n",
       "    <tr style=\"text-align: right;\">\n",
       "      <th></th>\n",
       "      <th>VOTES</th>\n",
       "    </tr>\n",
       "    <tr>\n",
       "      <th>LOCATION</th>\n",
       "      <th></th>\n",
       "    </tr>\n",
       "  </thead>\n",
       "  <tbody>\n",
       "    <tr>\n",
       "      <th>Koramangala 5th Block</th>\n",
       "      <td>1984132</td>\n",
       "    </tr>\n",
       "    <tr>\n",
       "      <th>Indiranagar</th>\n",
       "      <td>1130077</td>\n",
       "    </tr>\n",
       "    <tr>\n",
       "      <th>others</th>\n",
       "      <td>1017864</td>\n",
       "    </tr>\n",
       "    <tr>\n",
       "      <th>Koramangala 4th Block</th>\n",
       "      <td>591240</td>\n",
       "    </tr>\n",
       "    <tr>\n",
       "      <th>Church Street</th>\n",
       "      <td>555228</td>\n",
       "    </tr>\n",
       "  </tbody>\n",
       "</table>\n",
       "</div>"
      ],
      "text/plain": [
       "                         VOTES\n",
       "LOCATION                      \n",
       "Koramangala 5th Block  1984132\n",
       "Indiranagar            1130077\n",
       "others                 1017864\n",
       "Koramangala 4th Block   591240\n",
       "Church Street           555228"
      ]
     },
     "execution_count": 29,
     "metadata": {},
     "output_type": "execute_result"
    }
   ],
   "source": [
    "df4 = df[['LOCATION', 'VOTES']]\n",
    "df4.drop_duplicates()\n",
    "df5 = df4.groupby(['LOCATION'])['VOTES'].sum()\n",
    "df5 = df5.to_frame()\n",
    "df5 = df5.sort_values('VOTES', ascending=False)\n",
    "df5.head(5)"
   ]
  },
  {
   "cell_type": "markdown",
   "id": "white-lemon",
   "metadata": {
    "papermill": {
     "duration": 0.099239,
     "end_time": "2023-07-07T14:37:49.514108",
     "exception": false,
     "start_time": "2023-07-07T14:37:49.414869",
     "status": "completed"
    },
    "tags": []
   },
   "source": [
    "## Plotting Location vs Feedback provided"
   ]
  },
  {
   "cell_type": "code",
   "execution_count": 30,
   "id": "prerequisite-singing",
   "metadata": {
    "execution": {
     "iopub.execute_input": "2023-07-07T14:37:49.716894Z",
     "iopub.status.busy": "2023-07-07T14:37:49.716159Z",
     "iopub.status.idle": "2023-07-07T14:37:50.320461Z",
     "shell.execute_reply": "2023-07-07T14:37:50.321001Z",
     "shell.execute_reply.started": "2023-07-07T14:36:19.436412Z"
    },
    "papermill": {
     "duration": 0.707939,
     "end_time": "2023-07-07T14:37:50.321222",
     "exception": false,
     "start_time": "2023-07-07T14:37:49.613283",
     "status": "completed"
    },
    "tags": []
   },
   "outputs": [
    {
     "data": {
      "image/png": "[encoded data removed]",
      "text/plain": [
       "<Figure size 1080x576 with 1 Axes>"
      ]
     },
     "metadata": {},
     "output_type": "display_data"
    }
   ],
   "source": [
    "plt.figure(figsize = (15,8))\n",
    "sns.barplot(df5.index , df5['VOTES'])\n",
    "plt.xticks(rotation = 90)\n",
    "warnings.simplefilter(action='ignore', category=FutureWarning);"
   ]
  },
  {
   "cell_type": "markdown",
   "id": "national-auditor",
   "metadata": {
    "papermill": {
     "duration": 0.101234,
     "end_time": "2023-07-07T14:37:50.525903",
     "exception": false,
     "start_time": "2023-07-07T14:37:50.424669",
     "status": "completed"
    },
    "tags": []
   },
   "source": [
    "The above chart shows the total amount of votes/feedback people residing in various locations chose to give. Surprisingly, the locations that have the highest number of restaurants (eg. BTM) haven’t gotten the largest number of votes/feedback from people of its location. This clearly shows that people from some location are more willing to give feedback compared to other locations. This also states that, some locations have better feedback system in place than others."
   ]
  },
  {
   "cell_type": "markdown",
   "id": "tested-doctrine",
   "metadata": {
    "papermill": {
     "duration": 0.100762,
     "end_time": "2023-07-07T14:37:50.727512",
     "exception": false,
     "start_time": "2023-07-07T14:37:50.626750",
     "status": "completed"
    },
    "tags": []
   },
   "source": [
    "## Availability of online order facilities provided by restaurants in different locations "
   ]
  },
  {
   "cell_type": "code",
   "execution_count": 31,
   "id": "liable-jewelry",
   "metadata": {
    "execution": {
     "iopub.execute_input": "2023-07-07T14:37:50.932950Z",
     "iopub.status.busy": "2023-07-07T14:37:50.932194Z",
     "iopub.status.idle": "2023-07-07T14:37:50.994888Z",
     "shell.execute_reply": "2023-07-07T14:37:50.994133Z",
     "shell.execute_reply.started": "2023-07-07T14:36:20.041170Z"
    },
    "papermill": {
     "duration": 0.166655,
     "end_time": "2023-07-07T14:37:50.995061",
     "exception": false,
     "start_time": "2023-07-07T14:37:50.828406",
     "status": "completed"
    },
    "tags": []
   },
   "outputs": [
    {
     "data": {
      "text/html": [
       "<div>\n",
       "<style scoped>\n",
       "    .dataframe tbody tr th:only-of-type {\n",
       "        vertical-align: middle;\n",
       "    }\n",
       "\n",
       "    .dataframe tbody tr th {\n",
       "        vertical-align: top;\n",
       "    }\n",
       "\n",
       "    .dataframe thead tr th {\n",
       "        text-align: left;\n",
       "    }\n",
       "\n",
       "    .dataframe thead tr:last-of-type th {\n",
       "        text-align: right;\n",
       "    }\n",
       "</style>\n",
       "<table border=\"1\" class=\"dataframe\">\n",
       "  <thead>\n",
       "    <tr>\n",
       "      <th></th>\n",
       "      <th colspan=\"2\" halign=\"left\">NAME</th>\n",
       "    </tr>\n",
       "    <tr>\n",
       "      <th>ONLINE_ORDER</th>\n",
       "      <th>No</th>\n",
       "      <th>Yes</th>\n",
       "    </tr>\n",
       "    <tr>\n",
       "      <th>LOCATION</th>\n",
       "      <th></th>\n",
       "      <th></th>\n",
       "    </tr>\n",
       "  </thead>\n",
       "  <tbody>\n",
       "    <tr>\n",
       "      <th>BTM</th>\n",
       "      <td>802</td>\n",
       "      <td>1697</td>\n",
       "    </tr>\n",
       "    <tr>\n",
       "      <th>Banashankari</th>\n",
       "      <td>260</td>\n",
       "      <td>310</td>\n",
       "    </tr>\n",
       "    <tr>\n",
       "      <th>Banaswadi</th>\n",
       "      <td>213</td>\n",
       "      <td>219</td>\n",
       "    </tr>\n",
       "    <tr>\n",
       "      <th>Bannerghatta Road</th>\n",
       "      <td>403</td>\n",
       "      <td>651</td>\n",
       "    </tr>\n",
       "    <tr>\n",
       "      <th>Basavanagudi</th>\n",
       "      <td>182</td>\n",
       "      <td>281</td>\n",
       "    </tr>\n",
       "    <tr>\n",
       "      <th>Bellandur</th>\n",
       "      <td>443</td>\n",
       "      <td>691</td>\n",
       "    </tr>\n",
       "    <tr>\n",
       "      <th>Brigade Road</th>\n",
       "      <td>292</td>\n",
       "      <td>392</td>\n",
       "    </tr>\n",
       "    <tr>\n",
       "      <th>Brookefield</th>\n",
       "      <td>206</td>\n",
       "      <td>392</td>\n",
       "    </tr>\n",
       "    <tr>\n",
       "      <th>Church Street</th>\n",
       "      <td>182</td>\n",
       "      <td>264</td>\n",
       "    </tr>\n",
       "    <tr>\n",
       "      <th>Domlur</th>\n",
       "      <td>187</td>\n",
       "      <td>158</td>\n",
       "    </tr>\n",
       "    <tr>\n",
       "      <th>Electronic City</th>\n",
       "      <td>661</td>\n",
       "      <td>559</td>\n",
       "    </tr>\n",
       "    <tr>\n",
       "      <th>Frazer Town</th>\n",
       "      <td>206</td>\n",
       "      <td>263</td>\n",
       "    </tr>\n",
       "    <tr>\n",
       "      <th>HSR</th>\n",
       "      <td>441</td>\n",
       "      <td>1319</td>\n",
       "    </tr>\n",
       "    <tr>\n",
       "      <th>Indiranagar</th>\n",
       "      <td>648</td>\n",
       "      <td>1100</td>\n",
       "    </tr>\n",
       "    <tr>\n",
       "      <th>JP Nagar</th>\n",
       "      <td>561</td>\n",
       "      <td>844</td>\n",
       "    </tr>\n",
       "    <tr>\n",
       "      <th>Jayanagar</th>\n",
       "      <td>381</td>\n",
       "      <td>862</td>\n",
       "    </tr>\n",
       "    <tr>\n",
       "      <th>Kalyan Nagar</th>\n",
       "      <td>241</td>\n",
       "      <td>348</td>\n",
       "    </tr>\n",
       "    <tr>\n",
       "      <th>Kammanahalli</th>\n",
       "      <td>176</td>\n",
       "      <td>244</td>\n",
       "    </tr>\n",
       "    <tr>\n",
       "      <th>Koramangala 1st Block</th>\n",
       "      <td>148</td>\n",
       "      <td>390</td>\n",
       "    </tr>\n",
       "    <tr>\n",
       "      <th>Koramangala 4th Block</th>\n",
       "      <td>279</td>\n",
       "      <td>308</td>\n",
       "    </tr>\n",
       "    <tr>\n",
       "      <th>Koramangala 5th Block</th>\n",
       "      <td>580</td>\n",
       "      <td>1025</td>\n",
       "    </tr>\n",
       "    <tr>\n",
       "      <th>Koramangala 6th Block</th>\n",
       "      <td>211</td>\n",
       "      <td>384</td>\n",
       "    </tr>\n",
       "    <tr>\n",
       "      <th>Koramangala 7th Block</th>\n",
       "      <td>189</td>\n",
       "      <td>434</td>\n",
       "    </tr>\n",
       "    <tr>\n",
       "      <th>Lavelle Road</th>\n",
       "      <td>237</td>\n",
       "      <td>159</td>\n",
       "    </tr>\n",
       "    <tr>\n",
       "      <th>MG Road</th>\n",
       "      <td>297</td>\n",
       "      <td>257</td>\n",
       "    </tr>\n",
       "    <tr>\n",
       "      <th>Malleshwaram</th>\n",
       "      <td>224</td>\n",
       "      <td>332</td>\n",
       "    </tr>\n",
       "    <tr>\n",
       "      <th>Marathahalli</th>\n",
       "      <td>642</td>\n",
       "      <td>1023</td>\n",
       "    </tr>\n",
       "    <tr>\n",
       "      <th>New BEL Road</th>\n",
       "      <td>250</td>\n",
       "      <td>334</td>\n",
       "    </tr>\n",
       "    <tr>\n",
       "      <th>Old Airport Road</th>\n",
       "      <td>205</td>\n",
       "      <td>200</td>\n",
       "    </tr>\n",
       "    <tr>\n",
       "      <th>Rajajinagar</th>\n",
       "      <td>214</td>\n",
       "      <td>248</td>\n",
       "    </tr>\n",
       "    <tr>\n",
       "      <th>Residency Road</th>\n",
       "      <td>276</td>\n",
       "      <td>147</td>\n",
       "    </tr>\n",
       "    <tr>\n",
       "      <th>Richmond Road</th>\n",
       "      <td>249</td>\n",
       "      <td>138</td>\n",
       "    </tr>\n",
       "    <tr>\n",
       "      <th>Sarjapur Road</th>\n",
       "      <td>283</td>\n",
       "      <td>655</td>\n",
       "    </tr>\n",
       "    <tr>\n",
       "      <th>Ulsoor</th>\n",
       "      <td>201</td>\n",
       "      <td>345</td>\n",
       "    </tr>\n",
       "    <tr>\n",
       "      <th>Whitefield</th>\n",
       "      <td>884</td>\n",
       "      <td>1074</td>\n",
       "    </tr>\n",
       "    <tr>\n",
       "      <th>others</th>\n",
       "      <td>2109</td>\n",
       "      <td>2742</td>\n",
       "    </tr>\n",
       "  </tbody>\n",
       "</table>\n",
       "</div>"
      ],
      "text/plain": [
       "                       NAME      \n",
       "ONLINE_ORDER             No   Yes\n",
       "LOCATION                         \n",
       "BTM                     802  1697\n",
       "Banashankari            260   310\n",
       "Banaswadi               213   219\n",
       "Bannerghatta Road       403   651\n",
       "Basavanagudi            182   281\n",
       "Bellandur               443   691\n",
       "Brigade Road            292   392\n",
       "Brookefield             206   392\n",
       "Church Street           182   264\n",
       "Domlur                  187   158\n",
       "Electronic City         661   559\n",
       "Frazer Town             206   263\n",
       "HSR                     441  1319\n",
       "Indiranagar             648  1100\n",
       "JP Nagar                561   844\n",
       "Jayanagar               381   862\n",
       "Kalyan Nagar            241   348\n",
       "Kammanahalli            176   244\n",
       "Koramangala 1st Block   148   390\n",
       "Koramangala 4th Block   279   308\n",
       "Koramangala 5th Block   580  1025\n",
       "Koramangala 6th Block   211   384\n",
       "Koramangala 7th Block   189   434\n",
       "Lavelle Road            237   159\n",
       "MG Road                 297   257\n",
       "Malleshwaram            224   332\n",
       "Marathahalli            642  1023\n",
       "New BEL Road            250   334\n",
       "Old Airport Road        205   200\n",
       "Rajajinagar             214   248\n",
       "Residency Road          276   147\n",
       "Richmond Road           249   138\n",
       "Sarjapur Road           283   655\n",
       "Ulsoor                  201   345\n",
       "Whitefield              884  1074\n",
       "others                 2109  2742"
      ]
     },
     "execution_count": 31,
     "metadata": {},
     "output_type": "execute_result"
    }
   ],
   "source": [
    "df1 = df.groupby(['LOCATION','ONLINE_ORDER'])['NAME'].count()\n",
    "df1.to_csv('location_online.csv')\n",
    "df1 = pd.read_csv('location_online.csv')\n",
    "df1 = pd.pivot_table(df1, values=None, index=['LOCATION'], columns=['ONLINE_ORDER'], fill_value=0, aggfunc=np.sum)\n",
    "df1"
   ]
  },
  {
   "cell_type": "markdown",
   "id": "combined-hungarian",
   "metadata": {
    "papermill": {
     "duration": 0.109199,
     "end_time": "2023-07-07T14:37:51.212373",
     "exception": false,
     "start_time": "2023-07-07T14:37:51.103174",
     "status": "completed"
    },
    "tags": []
   },
   "source": [
    "## Plotting online order facility location wise"
   ]
  },
  {
   "cell_type": "code",
   "execution_count": 32,
   "id": "divided-florist",
   "metadata": {
    "execution": {
     "iopub.execute_input": "2023-07-07T14:37:51.430231Z",
     "iopub.status.busy": "2023-07-07T14:37:51.429448Z",
     "iopub.status.idle": "2023-07-07T14:37:52.139207Z",
     "shell.execute_reply": "2023-07-07T14:37:52.139971Z",
     "shell.execute_reply.started": "2023-07-07T14:36:20.102341Z"
    },
    "papermill": {
     "duration": 0.819664,
     "end_time": "2023-07-07T14:37:52.140244",
     "exception": false,
     "start_time": "2023-07-07T14:37:51.320580",
     "status": "completed"
    },
    "tags": []
   },
   "outputs": [
    {
     "data": {
      "image/png": "[encoded data removed]",
      "text/plain": [
       "<Figure size 1080x576 with 1 Axes>"
      ]
     },
     "metadata": {},
     "output_type": "display_data"
    }
   ],
   "source": [
    "df1.plot(kind = 'bar', figsize = (15,8));"
   ]
  },
  {
   "cell_type": "markdown",
   "id": "corrected-developer",
   "metadata": {
    "papermill": {
     "duration": 0.106654,
     "end_time": "2023-07-07T14:37:52.382003",
     "exception": false,
     "start_time": "2023-07-07T14:37:52.275349",
     "status": "completed"
    },
    "tags": []
   },
   "source": [
    "The location BTM has the largest number of restaurants who provide online order facilities(around 1700). It can be also seen that there are many restaurants from different locations who do not provide online order facility. Generally, in most locations the restaurants who provide online order facility are more than the restaurants who don’t provide online order facility . But, in few locations the restaurants who don’t provide online order facility are more than the restaurants "
   ]
  },
  {
   "cell_type": "markdown",
   "id": "urban-beginning",
   "metadata": {
    "papermill": {
     "duration": 0.107009,
     "end_time": "2023-07-07T14:37:52.599192",
     "exception": false,
     "start_time": "2023-07-07T14:37:52.492183",
     "status": "completed"
    },
    "tags": []
   },
   "source": [
    "## Availability of Book Table facilities provided by restaurants in different locations "
   ]
  },
  {
   "cell_type": "code",
   "execution_count": 33,
   "id": "proud-overview",
   "metadata": {
    "execution": {
     "iopub.execute_input": "2023-07-07T14:37:52.827559Z",
     "iopub.status.busy": "2023-07-07T14:37:52.826725Z",
     "iopub.status.idle": "2023-07-07T14:37:52.869677Z",
     "shell.execute_reply": "2023-07-07T14:37:52.869044Z",
     "shell.execute_reply.started": "2023-07-07T14:36:20.761385Z"
    },
    "papermill": {
     "duration": 0.159673,
     "end_time": "2023-07-07T14:37:52.869830",
     "exception": false,
     "start_time": "2023-07-07T14:37:52.710157",
     "status": "completed"
    },
    "tags": []
   },
   "outputs": [
    {
     "data": {
      "text/html": [
       "<div>\n",
       "<style scoped>\n",
       "    .dataframe tbody tr th:only-of-type {\n",
       "        vertical-align: middle;\n",
       "    }\n",
       "\n",
       "    .dataframe tbody tr th {\n",
       "        vertical-align: top;\n",
       "    }\n",
       "\n",
       "    .dataframe thead tr th {\n",
       "        text-align: left;\n",
       "    }\n",
       "\n",
       "    .dataframe thead tr:last-of-type th {\n",
       "        text-align: right;\n",
       "    }\n",
       "</style>\n",
       "<table border=\"1\" class=\"dataframe\">\n",
       "  <thead>\n",
       "    <tr>\n",
       "      <th></th>\n",
       "      <th colspan=\"2\" halign=\"left\">NAME</th>\n",
       "    </tr>\n",
       "    <tr>\n",
       "      <th>BOOK_TABLE</th>\n",
       "      <th>No</th>\n",
       "      <th>Yes</th>\n",
       "    </tr>\n",
       "    <tr>\n",
       "      <th>LOCATION</th>\n",
       "      <th></th>\n",
       "      <th></th>\n",
       "    </tr>\n",
       "  </thead>\n",
       "  <tbody>\n",
       "    <tr>\n",
       "      <th>BTM</th>\n",
       "      <td>2373</td>\n",
       "      <td>126</td>\n",
       "    </tr>\n",
       "    <tr>\n",
       "      <th>Banashankari</th>\n",
       "      <td>527</td>\n",
       "      <td>43</td>\n",
       "    </tr>\n",
       "    <tr>\n",
       "      <th>Banaswadi</th>\n",
       "      <td>426</td>\n",
       "      <td>6</td>\n",
       "    </tr>\n",
       "    <tr>\n",
       "      <th>Bannerghatta Road</th>\n",
       "      <td>975</td>\n",
       "      <td>79</td>\n",
       "    </tr>\n",
       "    <tr>\n",
       "      <th>Basavanagudi</th>\n",
       "      <td>451</td>\n",
       "      <td>12</td>\n",
       "    </tr>\n",
       "    <tr>\n",
       "      <th>Bellandur</th>\n",
       "      <td>1038</td>\n",
       "      <td>96</td>\n",
       "    </tr>\n",
       "    <tr>\n",
       "      <th>Brigade Road</th>\n",
       "      <td>539</td>\n",
       "      <td>145</td>\n",
       "    </tr>\n",
       "    <tr>\n",
       "      <th>Brookefield</th>\n",
       "      <td>525</td>\n",
       "      <td>73</td>\n",
       "    </tr>\n",
       "    <tr>\n",
       "      <th>Church Street</th>\n",
       "      <td>279</td>\n",
       "      <td>167</td>\n",
       "    </tr>\n",
       "    <tr>\n",
       "      <th>Domlur</th>\n",
       "      <td>300</td>\n",
       "      <td>45</td>\n",
       "    </tr>\n",
       "    <tr>\n",
       "      <th>Electronic City</th>\n",
       "      <td>1124</td>\n",
       "      <td>96</td>\n",
       "    </tr>\n",
       "    <tr>\n",
       "      <th>Frazer Town</th>\n",
       "      <td>461</td>\n",
       "      <td>8</td>\n",
       "    </tr>\n",
       "    <tr>\n",
       "      <th>HSR</th>\n",
       "      <td>1573</td>\n",
       "      <td>187</td>\n",
       "    </tr>\n",
       "    <tr>\n",
       "      <th>Indiranagar</th>\n",
       "      <td>1311</td>\n",
       "      <td>437</td>\n",
       "    </tr>\n",
       "    <tr>\n",
       "      <th>JP Nagar</th>\n",
       "      <td>1153</td>\n",
       "      <td>252</td>\n",
       "    </tr>\n",
       "    <tr>\n",
       "      <th>Jayanagar</th>\n",
       "      <td>1016</td>\n",
       "      <td>227</td>\n",
       "    </tr>\n",
       "    <tr>\n",
       "      <th>Kalyan Nagar</th>\n",
       "      <td>471</td>\n",
       "      <td>118</td>\n",
       "    </tr>\n",
       "    <tr>\n",
       "      <th>Kammanahalli</th>\n",
       "      <td>386</td>\n",
       "      <td>34</td>\n",
       "    </tr>\n",
       "    <tr>\n",
       "      <th>Koramangala 1st Block</th>\n",
       "      <td>496</td>\n",
       "      <td>42</td>\n",
       "    </tr>\n",
       "    <tr>\n",
       "      <th>Koramangala 4th Block</th>\n",
       "      <td>340</td>\n",
       "      <td>247</td>\n",
       "    </tr>\n",
       "    <tr>\n",
       "      <th>Koramangala 5th Block</th>\n",
       "      <td>1004</td>\n",
       "      <td>601</td>\n",
       "    </tr>\n",
       "    <tr>\n",
       "      <th>Koramangala 6th Block</th>\n",
       "      <td>514</td>\n",
       "      <td>81</td>\n",
       "    </tr>\n",
       "    <tr>\n",
       "      <th>Koramangala 7th Block</th>\n",
       "      <td>493</td>\n",
       "      <td>130</td>\n",
       "    </tr>\n",
       "    <tr>\n",
       "      <th>Lavelle Road</th>\n",
       "      <td>195</td>\n",
       "      <td>201</td>\n",
       "    </tr>\n",
       "    <tr>\n",
       "      <th>MG Road</th>\n",
       "      <td>286</td>\n",
       "      <td>268</td>\n",
       "    </tr>\n",
       "    <tr>\n",
       "      <th>Malleshwaram</th>\n",
       "      <td>475</td>\n",
       "      <td>81</td>\n",
       "    </tr>\n",
       "    <tr>\n",
       "      <th>Marathahalli</th>\n",
       "      <td>1508</td>\n",
       "      <td>157</td>\n",
       "    </tr>\n",
       "    <tr>\n",
       "      <th>New BEL Road</th>\n",
       "      <td>529</td>\n",
       "      <td>55</td>\n",
       "    </tr>\n",
       "    <tr>\n",
       "      <th>Old Airport Road</th>\n",
       "      <td>347</td>\n",
       "      <td>58</td>\n",
       "    </tr>\n",
       "    <tr>\n",
       "      <th>Rajajinagar</th>\n",
       "      <td>422</td>\n",
       "      <td>40</td>\n",
       "    </tr>\n",
       "    <tr>\n",
       "      <th>Residency Road</th>\n",
       "      <td>306</td>\n",
       "      <td>117</td>\n",
       "    </tr>\n",
       "    <tr>\n",
       "      <th>Richmond Road</th>\n",
       "      <td>306</td>\n",
       "      <td>81</td>\n",
       "    </tr>\n",
       "    <tr>\n",
       "      <th>Sarjapur Road</th>\n",
       "      <td>791</td>\n",
       "      <td>147</td>\n",
       "    </tr>\n",
       "    <tr>\n",
       "      <th>Ulsoor</th>\n",
       "      <td>433</td>\n",
       "      <td>113</td>\n",
       "    </tr>\n",
       "    <tr>\n",
       "      <th>Whitefield</th>\n",
       "      <td>1706</td>\n",
       "      <td>252</td>\n",
       "    </tr>\n",
       "    <tr>\n",
       "      <th>others</th>\n",
       "      <td>4272</td>\n",
       "      <td>579</td>\n",
       "    </tr>\n",
       "  </tbody>\n",
       "</table>\n",
       "</div>"
      ],
      "text/plain": [
       "                       NAME     \n",
       "BOOK_TABLE               No  Yes\n",
       "LOCATION                        \n",
       "BTM                    2373  126\n",
       "Banashankari            527   43\n",
       "Banaswadi               426    6\n",
       "Bannerghatta Road       975   79\n",
       "Basavanagudi            451   12\n",
       "Bellandur              1038   96\n",
       "Brigade Road            539  145\n",
       "Brookefield             525   73\n",
       "Church Street           279  167\n",
       "Domlur                  300   45\n",
       "Electronic City        1124   96\n",
       "Frazer Town             461    8\n",
       "HSR                    1573  187\n",
       "Indiranagar            1311  437\n",
       "JP Nagar               1153  252\n",
       "Jayanagar              1016  227\n",
       "Kalyan Nagar            471  118\n",
       "Kammanahalli            386   34\n",
       "Koramangala 1st Block   496   42\n",
       "Koramangala 4th Block   340  247\n",
       "Koramangala 5th Block  1004  601\n",
       "Koramangala 6th Block   514   81\n",
       "Koramangala 7th Block   493  130\n",
       "Lavelle Road            195  201\n",
       "MG Road                 286  268\n",
       "Malleshwaram            475   81\n",
       "Marathahalli           1508  157\n",
       "New BEL Road            529   55\n",
       "Old Airport Road        347   58\n",
       "Rajajinagar             422   40\n",
       "Residency Road          306  117\n",
       "Richmond Road           306   81\n",
       "Sarjapur Road           791  147\n",
       "Ulsoor                  433  113\n",
       "Whitefield             1706  252\n",
       "others                 4272  579"
      ]
     },
     "execution_count": 33,
     "metadata": {},
     "output_type": "execute_result"
    }
   ],
   "source": [
    "df2 = df.groupby(['LOCATION','BOOK_TABLE'])['NAME'].count()\n",
    "df2.to_csv('location_booktable.csv')\n",
    "df2 = pd.read_csv('location_booktable.csv')\n",
    "df2 = pd.pivot_table(df2, values=None, index=['LOCATION'], columns=['BOOK_TABLE'], fill_value=0, aggfunc=np.sum)\n",
    "df2"
   ]
  },
  {
   "cell_type": "markdown",
   "id": "arbitrary-portland",
   "metadata": {
    "papermill": {
     "duration": 0.104758,
     "end_time": "2023-07-07T14:37:53.080928",
     "exception": false,
     "start_time": "2023-07-07T14:37:52.976170",
     "status": "completed"
    },
    "tags": []
   },
   "source": [
    "## Plotting Book Table facility location wise"
   ]
  },
  {
   "cell_type": "code",
   "execution_count": 34,
   "id": "athletic-cocktail",
   "metadata": {
    "execution": {
     "iopub.execute_input": "2023-07-07T14:37:53.331557Z",
     "iopub.status.busy": "2023-07-07T14:37:53.330556Z",
     "iopub.status.idle": "2023-07-07T14:37:54.111276Z",
     "shell.execute_reply": "2023-07-07T14:37:54.110391Z",
     "shell.execute_reply.started": "2023-07-07T14:36:20.811958Z"
    },
    "papermill": {
     "duration": 0.92257,
     "end_time": "2023-07-07T14:37:54.111456",
     "exception": false,
     "start_time": "2023-07-07T14:37:53.188886",
     "status": "completed"
    },
    "tags": []
   },
   "outputs": [
    {
     "data": {
      "image/png": "[encoded data removed]",
      "text/plain": [
       "<Figure size 1080x576 with 1 Axes>"
      ]
     },
     "metadata": {},
     "output_type": "display_data"
    }
   ],
   "source": [
    "df2.plot(kind = 'bar', figsize = (15,8));"
   ]
  },
  {
   "cell_type": "markdown",
   "id": "official-sword",
   "metadata": {
    "papermill": {
     "duration": 0.108898,
     "end_time": "2023-07-07T14:37:54.335152",
     "exception": false,
     "start_time": "2023-07-07T14:37:54.226254",
     "status": "completed"
    },
    "tags": []
   },
   "source": [
    "It’s shocking that almost all locations have huge number of restaurants who don’t provide book  table facility as compared to those restaurants who provide book table facility and as BTM location has the highest number of restaurants, the number of restaurants who don’t provide book table facility is also the highest."
   ]
  },
  {
   "cell_type": "markdown",
   "id": "boolean-dodge",
   "metadata": {
    "papermill": {
     "duration": 0.116352,
     "end_time": "2023-07-07T14:37:54.568101",
     "exception": false,
     "start_time": "2023-07-07T14:37:54.451749",
     "status": "completed"
    },
    "tags": []
   },
   "source": [
    "## Average cost of different cuisines location wise"
   ]
  },
  {
   "cell_type": "code",
   "execution_count": 35,
   "id": "random-clinton",
   "metadata": {
    "execution": {
     "iopub.execute_input": "2023-07-07T14:37:54.820417Z",
     "iopub.status.busy": "2023-07-07T14:37:54.819639Z",
     "iopub.status.idle": "2023-07-07T14:37:55.061082Z",
     "shell.execute_reply": "2023-07-07T14:37:55.061678Z",
     "shell.execute_reply.started": "2023-07-07T14:36:21.639170Z"
    },
    "papermill": {
     "duration": 0.363945,
     "end_time": "2023-07-07T14:37:55.061869",
     "exception": false,
     "start_time": "2023-07-07T14:37:54.697924",
     "status": "completed"
    },
    "tags": []
   },
   "outputs": [
    {
     "data": {
      "text/html": [
       "<div>\n",
       "<style scoped>\n",
       "    .dataframe tbody tr th:only-of-type {\n",
       "        vertical-align: middle;\n",
       "    }\n",
       "\n",
       "    .dataframe tbody tr th {\n",
       "        vertical-align: top;\n",
       "    }\n",
       "\n",
       "    .dataframe thead th {\n",
       "        text-align: right;\n",
       "    }\n",
       "</style>\n",
       "<table border=\"1\" class=\"dataframe\">\n",
       "  <thead>\n",
       "    <tr style=\"text-align: right;\">\n",
       "      <th>CUISINES</th>\n",
       "      <th>Andhra</th>\n",
       "      <th>Andhra, Biryani</th>\n",
       "      <th>Arabian</th>\n",
       "      <th>Bakery</th>\n",
       "      <th>Bakery, Desserts</th>\n",
       "      <th>Bakery, Fast Food</th>\n",
       "      <th>Beverages</th>\n",
       "      <th>Beverages, Fast Food</th>\n",
       "      <th>Biryani</th>\n",
       "      <th>Biryani, Fast Food</th>\n",
       "      <th>...</th>\n",
       "      <th>Pizza</th>\n",
       "      <th>Pizza, Fast Food</th>\n",
       "      <th>South Indian</th>\n",
       "      <th>South Indian, Biryani</th>\n",
       "      <th>South Indian, Chinese</th>\n",
       "      <th>South Indian, North Indian</th>\n",
       "      <th>South Indian, North Indian, Chinese</th>\n",
       "      <th>South Indian, North Indian, Chinese, Street Food</th>\n",
       "      <th>Street Food</th>\n",
       "      <th>others</th>\n",
       "    </tr>\n",
       "    <tr>\n",
       "      <th>LOCATION</th>\n",
       "      <th></th>\n",
       "      <th></th>\n",
       "      <th></th>\n",
       "      <th></th>\n",
       "      <th></th>\n",
       "      <th></th>\n",
       "      <th></th>\n",
       "      <th></th>\n",
       "      <th></th>\n",
       "      <th></th>\n",
       "      <th></th>\n",
       "      <th></th>\n",
       "      <th></th>\n",
       "      <th></th>\n",
       "      <th></th>\n",
       "      <th></th>\n",
       "      <th></th>\n",
       "      <th></th>\n",
       "      <th></th>\n",
       "      <th></th>\n",
       "      <th></th>\n",
       "    </tr>\n",
       "  </thead>\n",
       "  <tbody>\n",
       "    <tr>\n",
       "      <th>BTM</th>\n",
       "      <td>800.0</td>\n",
       "      <td>800.0</td>\n",
       "      <td>800.0</td>\n",
       "      <td>300.0</td>\n",
       "      <td>600.0</td>\n",
       "      <td>600.0</td>\n",
       "      <td>800.0</td>\n",
       "      <td>600.0</td>\n",
       "      <td>700.0</td>\n",
       "      <td>550.0</td>\n",
       "      <td>...</td>\n",
       "      <td>300.0</td>\n",
       "      <td>500.0</td>\n",
       "      <td>800.0</td>\n",
       "      <td>600.0</td>\n",
       "      <td>400.0</td>\n",
       "      <td>300.0</td>\n",
       "      <td>450.0</td>\n",
       "      <td>850.0</td>\n",
       "      <td>300.0</td>\n",
       "      <td>450.0</td>\n",
       "    </tr>\n",
       "    <tr>\n",
       "      <th>Banashankari</th>\n",
       "      <td>150.0</td>\n",
       "      <td>400.0</td>\n",
       "      <td>750.0</td>\n",
       "      <td>450.0</td>\n",
       "      <td>450.0</td>\n",
       "      <td>NaN</td>\n",
       "      <td>300.0</td>\n",
       "      <td>NaN</td>\n",
       "      <td>800.0</td>\n",
       "      <td>200.0</td>\n",
       "      <td>...</td>\n",
       "      <td>400.0</td>\n",
       "      <td>200.0</td>\n",
       "      <td>700.0</td>\n",
       "      <td>100.0</td>\n",
       "      <td>300.0</td>\n",
       "      <td>600.0</td>\n",
       "      <td>200.0</td>\n",
       "      <td>500.0</td>\n",
       "      <td>250.0</td>\n",
       "      <td>500.0</td>\n",
       "    </tr>\n",
       "    <tr>\n",
       "      <th>Banaswadi</th>\n",
       "      <td>400.0</td>\n",
       "      <td>NaN</td>\n",
       "      <td>200.0</td>\n",
       "      <td>300.0</td>\n",
       "      <td>600.0</td>\n",
       "      <td>800.0</td>\n",
       "      <td>250.0</td>\n",
       "      <td>NaN</td>\n",
       "      <td>950.0</td>\n",
       "      <td>300.0</td>\n",
       "      <td>...</td>\n",
       "      <td>400.0</td>\n",
       "      <td>350.0</td>\n",
       "      <td>100.0</td>\n",
       "      <td>150.0</td>\n",
       "      <td>150.0</td>\n",
       "      <td>200.0</td>\n",
       "      <td>100.0</td>\n",
       "      <td>400.0</td>\n",
       "      <td>200.0</td>\n",
       "      <td>150.0</td>\n",
       "    </tr>\n",
       "    <tr>\n",
       "      <th>Bannerghatta Road</th>\n",
       "      <td>400.0</td>\n",
       "      <td>150.0</td>\n",
       "      <td>250.0</td>\n",
       "      <td>250.0</td>\n",
       "      <td>150.0</td>\n",
       "      <td>200.0</td>\n",
       "      <td>350.0</td>\n",
       "      <td>300.0</td>\n",
       "      <td>100.0</td>\n",
       "      <td>150.0</td>\n",
       "      <td>...</td>\n",
       "      <td>200.0</td>\n",
       "      <td>250.0</td>\n",
       "      <td>700.0</td>\n",
       "      <td>650.0</td>\n",
       "      <td>300.0</td>\n",
       "      <td>700.0</td>\n",
       "      <td>500.0</td>\n",
       "      <td>350.0</td>\n",
       "      <td>150.0</td>\n",
       "      <td>400.0</td>\n",
       "    </tr>\n",
       "    <tr>\n",
       "      <th>Basavanagudi</th>\n",
       "      <td>NaN</td>\n",
       "      <td>NaN</td>\n",
       "      <td>NaN</td>\n",
       "      <td>100.0</td>\n",
       "      <td>200.0</td>\n",
       "      <td>NaN</td>\n",
       "      <td>150.0</td>\n",
       "      <td>300.0</td>\n",
       "      <td>350.0</td>\n",
       "      <td>100.0</td>\n",
       "      <td>...</td>\n",
       "      <td>500.0</td>\n",
       "      <td>300.0</td>\n",
       "      <td>1300.0</td>\n",
       "      <td>350.0</td>\n",
       "      <td>500.0</td>\n",
       "      <td>NaN</td>\n",
       "      <td>700.0</td>\n",
       "      <td>1000.0</td>\n",
       "      <td>400.0</td>\n",
       "      <td>750.0</td>\n",
       "    </tr>\n",
       "    <tr>\n",
       "      <th>Bellandur</th>\n",
       "      <td>500.0</td>\n",
       "      <td>400.0</td>\n",
       "      <td>250.0</td>\n",
       "      <td>200.0</td>\n",
       "      <td>600.0</td>\n",
       "      <td>650.0</td>\n",
       "      <td>NaN</td>\n",
       "      <td>550.0</td>\n",
       "      <td>450.0</td>\n",
       "      <td>300.0</td>\n",
       "      <td>...</td>\n",
       "      <td>500.0</td>\n",
       "      <td>350.0</td>\n",
       "      <td>200.0</td>\n",
       "      <td>250.0</td>\n",
       "      <td>600.0</td>\n",
       "      <td>200.0</td>\n",
       "      <td>250.0</td>\n",
       "      <td>150.0</td>\n",
       "      <td>600.0</td>\n",
       "      <td>300.0</td>\n",
       "    </tr>\n",
       "    <tr>\n",
       "      <th>Brigade Road</th>\n",
       "      <td>NaN</td>\n",
       "      <td>NaN</td>\n",
       "      <td>NaN</td>\n",
       "      <td>250.0</td>\n",
       "      <td>NaN</td>\n",
       "      <td>550.0</td>\n",
       "      <td>NaN</td>\n",
       "      <td>300.0</td>\n",
       "      <td>NaN</td>\n",
       "      <td>NaN</td>\n",
       "      <td>...</td>\n",
       "      <td>NaN</td>\n",
       "      <td>300.0</td>\n",
       "      <td>500.0</td>\n",
       "      <td>100.0</td>\n",
       "      <td>400.0</td>\n",
       "      <td>900.0</td>\n",
       "      <td>200.0</td>\n",
       "      <td>NaN</td>\n",
       "      <td>NaN</td>\n",
       "      <td>550.0</td>\n",
       "    </tr>\n",
       "    <tr>\n",
       "      <th>Brookefield</th>\n",
       "      <td>NaN</td>\n",
       "      <td>NaN</td>\n",
       "      <td>800.0</td>\n",
       "      <td>200.0</td>\n",
       "      <td>250.0</td>\n",
       "      <td>NaN</td>\n",
       "      <td>150.0</td>\n",
       "      <td>1200.0</td>\n",
       "      <td>400.0</td>\n",
       "      <td>NaN</td>\n",
       "      <td>...</td>\n",
       "      <td>NaN</td>\n",
       "      <td>250.0</td>\n",
       "      <td>150.0</td>\n",
       "      <td>600.0</td>\n",
       "      <td>NaN</td>\n",
       "      <td>200.0</td>\n",
       "      <td>200.0</td>\n",
       "      <td>NaN</td>\n",
       "      <td>650.0</td>\n",
       "      <td>100.0</td>\n",
       "    </tr>\n",
       "    <tr>\n",
       "      <th>Church Street</th>\n",
       "      <td>100.0</td>\n",
       "      <td>NaN</td>\n",
       "      <td>NaN</td>\n",
       "      <td>NaN</td>\n",
       "      <td>NaN</td>\n",
       "      <td>NaN</td>\n",
       "      <td>NaN</td>\n",
       "      <td>600.0</td>\n",
       "      <td>NaN</td>\n",
       "      <td>NaN</td>\n",
       "      <td>...</td>\n",
       "      <td>NaN</td>\n",
       "      <td>400.0</td>\n",
       "      <td>600.0</td>\n",
       "      <td>NaN</td>\n",
       "      <td>NaN</td>\n",
       "      <td>NaN</td>\n",
       "      <td>NaN</td>\n",
       "      <td>250.0</td>\n",
       "      <td>NaN</td>\n",
       "      <td>400.0</td>\n",
       "    </tr>\n",
       "    <tr>\n",
       "      <th>Domlur</th>\n",
       "      <td>300.0</td>\n",
       "      <td>400.0</td>\n",
       "      <td>NaN</td>\n",
       "      <td>300.0</td>\n",
       "      <td>800.0</td>\n",
       "      <td>300.0</td>\n",
       "      <td>400.0</td>\n",
       "      <td>NaN</td>\n",
       "      <td>650.0</td>\n",
       "      <td>NaN</td>\n",
       "      <td>...</td>\n",
       "      <td>400.0</td>\n",
       "      <td>NaN</td>\n",
       "      <td>150.0</td>\n",
       "      <td>NaN</td>\n",
       "      <td>NaN</td>\n",
       "      <td>100.0</td>\n",
       "      <td>200.0</td>\n",
       "      <td>NaN</td>\n",
       "      <td>NaN</td>\n",
       "      <td>300.0</td>\n",
       "    </tr>\n",
       "    <tr>\n",
       "      <th>Electronic City</th>\n",
       "      <td>300.0</td>\n",
       "      <td>300.0</td>\n",
       "      <td>350.0</td>\n",
       "      <td>200.0</td>\n",
       "      <td>100.0</td>\n",
       "      <td>150.0</td>\n",
       "      <td>300.0</td>\n",
       "      <td>200.0</td>\n",
       "      <td>300.0</td>\n",
       "      <td>250.0</td>\n",
       "      <td>...</td>\n",
       "      <td>600.0</td>\n",
       "      <td>200.0</td>\n",
       "      <td>500.0</td>\n",
       "      <td>400.0</td>\n",
       "      <td>750.0</td>\n",
       "      <td>100.0</td>\n",
       "      <td>300.0</td>\n",
       "      <td>150.0</td>\n",
       "      <td>150.0</td>\n",
       "      <td>200.0</td>\n",
       "    </tr>\n",
       "    <tr>\n",
       "      <th>Frazer Town</th>\n",
       "      <td>NaN</td>\n",
       "      <td>NaN</td>\n",
       "      <td>NaN</td>\n",
       "      <td>250.0</td>\n",
       "      <td>400.0</td>\n",
       "      <td>400.0</td>\n",
       "      <td>400.0</td>\n",
       "      <td>200.0</td>\n",
       "      <td>350.0</td>\n",
       "      <td>NaN</td>\n",
       "      <td>...</td>\n",
       "      <td>NaN</td>\n",
       "      <td>150.0</td>\n",
       "      <td>600.0</td>\n",
       "      <td>750.0</td>\n",
       "      <td>200.0</td>\n",
       "      <td>NaN</td>\n",
       "      <td>300.0</td>\n",
       "      <td>NaN</td>\n",
       "      <td>800.0</td>\n",
       "      <td>800.0</td>\n",
       "    </tr>\n",
       "    <tr>\n",
       "      <th>HSR</th>\n",
       "      <td>200.0</td>\n",
       "      <td>800.0</td>\n",
       "      <td>200.0</td>\n",
       "      <td>450.0</td>\n",
       "      <td>200.0</td>\n",
       "      <td>1000.0</td>\n",
       "      <td>200.0</td>\n",
       "      <td>700.0</td>\n",
       "      <td>800.0</td>\n",
       "      <td>600.0</td>\n",
       "      <td>...</td>\n",
       "      <td>500.0</td>\n",
       "      <td>200.0</td>\n",
       "      <td>300.0</td>\n",
       "      <td>100.0</td>\n",
       "      <td>NaN</td>\n",
       "      <td>400.0</td>\n",
       "      <td>500.0</td>\n",
       "      <td>300.0</td>\n",
       "      <td>300.0</td>\n",
       "      <td>250.0</td>\n",
       "    </tr>\n",
       "    <tr>\n",
       "      <th>Indiranagar</th>\n",
       "      <td>350.0</td>\n",
       "      <td>400.0</td>\n",
       "      <td>NaN</td>\n",
       "      <td>600.0</td>\n",
       "      <td>300.0</td>\n",
       "      <td>NaN</td>\n",
       "      <td>150.0</td>\n",
       "      <td>400.0</td>\n",
       "      <td>150.0</td>\n",
       "      <td>NaN</td>\n",
       "      <td>...</td>\n",
       "      <td>350.0</td>\n",
       "      <td>600.0</td>\n",
       "      <td>800.0</td>\n",
       "      <td>800.0</td>\n",
       "      <td>800.0</td>\n",
       "      <td>1300.0</td>\n",
       "      <td>1200.0</td>\n",
       "      <td>700.0</td>\n",
       "      <td>800.0</td>\n",
       "      <td>550.0</td>\n",
       "    </tr>\n",
       "    <tr>\n",
       "      <th>JP Nagar</th>\n",
       "      <td>500.0</td>\n",
       "      <td>600.0</td>\n",
       "      <td>500.0</td>\n",
       "      <td>800.0</td>\n",
       "      <td>450.0</td>\n",
       "      <td>600.0</td>\n",
       "      <td>850.0</td>\n",
       "      <td>450.0</td>\n",
       "      <td>800.0</td>\n",
       "      <td>1000.0</td>\n",
       "      <td>...</td>\n",
       "      <td>150.0</td>\n",
       "      <td>500.0</td>\n",
       "      <td>1000.0</td>\n",
       "      <td>300.0</td>\n",
       "      <td>500.0</td>\n",
       "      <td>300.0</td>\n",
       "      <td>500.0</td>\n",
       "      <td>600.0</td>\n",
       "      <td>800.0</td>\n",
       "      <td>150.0</td>\n",
       "    </tr>\n",
       "    <tr>\n",
       "      <th>Jayanagar</th>\n",
       "      <td>500.0</td>\n",
       "      <td>850.0</td>\n",
       "      <td>400.0</td>\n",
       "      <td>800.0</td>\n",
       "      <td>400.0</td>\n",
       "      <td>150.0</td>\n",
       "      <td>350.0</td>\n",
       "      <td>500.0</td>\n",
       "      <td>900.0</td>\n",
       "      <td>700.0</td>\n",
       "      <td>...</td>\n",
       "      <td>NaN</td>\n",
       "      <td>300.0</td>\n",
       "      <td>500.0</td>\n",
       "      <td>300.0</td>\n",
       "      <td>150.0</td>\n",
       "      <td>300.0</td>\n",
       "      <td>300.0</td>\n",
       "      <td>150.0</td>\n",
       "      <td>600.0</td>\n",
       "      <td>400.0</td>\n",
       "    </tr>\n",
       "    <tr>\n",
       "      <th>Kalyan Nagar</th>\n",
       "      <td>200.0</td>\n",
       "      <td>NaN</td>\n",
       "      <td>250.0</td>\n",
       "      <td>200.0</td>\n",
       "      <td>300.0</td>\n",
       "      <td>500.0</td>\n",
       "      <td>200.0</td>\n",
       "      <td>200.0</td>\n",
       "      <td>300.0</td>\n",
       "      <td>500.0</td>\n",
       "      <td>...</td>\n",
       "      <td>250.0</td>\n",
       "      <td>300.0</td>\n",
       "      <td>250.0</td>\n",
       "      <td>NaN</td>\n",
       "      <td>NaN</td>\n",
       "      <td>350.0</td>\n",
       "      <td>300.0</td>\n",
       "      <td>NaN</td>\n",
       "      <td>200.0</td>\n",
       "      <td>450.0</td>\n",
       "    </tr>\n",
       "    <tr>\n",
       "      <th>Kammanahalli</th>\n",
       "      <td>NaN</td>\n",
       "      <td>NaN</td>\n",
       "      <td>200.0</td>\n",
       "      <td>NaN</td>\n",
       "      <td>200.0</td>\n",
       "      <td>400.0</td>\n",
       "      <td>300.0</td>\n",
       "      <td>NaN</td>\n",
       "      <td>250.0</td>\n",
       "      <td>400.0</td>\n",
       "      <td>...</td>\n",
       "      <td>200.0</td>\n",
       "      <td>NaN</td>\n",
       "      <td>200.0</td>\n",
       "      <td>250.0</td>\n",
       "      <td>NaN</td>\n",
       "      <td>100.0</td>\n",
       "      <td>200.0</td>\n",
       "      <td>200.0</td>\n",
       "      <td>200.0</td>\n",
       "      <td>200.0</td>\n",
       "    </tr>\n",
       "    <tr>\n",
       "      <th>Koramangala 1st Block</th>\n",
       "      <td>NaN</td>\n",
       "      <td>NaN</td>\n",
       "      <td>NaN</td>\n",
       "      <td>400.0</td>\n",
       "      <td>150.0</td>\n",
       "      <td>80.0</td>\n",
       "      <td>NaN</td>\n",
       "      <td>150.0</td>\n",
       "      <td>100.0</td>\n",
       "      <td>NaN</td>\n",
       "      <td>...</td>\n",
       "      <td>NaN</td>\n",
       "      <td>NaN</td>\n",
       "      <td>300.0</td>\n",
       "      <td>NaN</td>\n",
       "      <td>350.0</td>\n",
       "      <td>500.0</td>\n",
       "      <td>NaN</td>\n",
       "      <td>NaN</td>\n",
       "      <td>NaN</td>\n",
       "      <td>600.0</td>\n",
       "    </tr>\n",
       "    <tr>\n",
       "      <th>Koramangala 4th Block</th>\n",
       "      <td>NaN</td>\n",
       "      <td>NaN</td>\n",
       "      <td>150.0</td>\n",
       "      <td>350.0</td>\n",
       "      <td>750.0</td>\n",
       "      <td>NaN</td>\n",
       "      <td>550.0</td>\n",
       "      <td>NaN</td>\n",
       "      <td>600.0</td>\n",
       "      <td>NaN</td>\n",
       "      <td>...</td>\n",
       "      <td>NaN</td>\n",
       "      <td>600.0</td>\n",
       "      <td>150.0</td>\n",
       "      <td>NaN</td>\n",
       "      <td>NaN</td>\n",
       "      <td>200.0</td>\n",
       "      <td>NaN</td>\n",
       "      <td>400.0</td>\n",
       "      <td>NaN</td>\n",
       "      <td>800.0</td>\n",
       "    </tr>\n",
       "    <tr>\n",
       "      <th>Koramangala 5th Block</th>\n",
       "      <td>200.0</td>\n",
       "      <td>300.0</td>\n",
       "      <td>100.0</td>\n",
       "      <td>150.0</td>\n",
       "      <td>100.0</td>\n",
       "      <td>300.0</td>\n",
       "      <td>200.0</td>\n",
       "      <td>300.0</td>\n",
       "      <td>300.0</td>\n",
       "      <td>NaN</td>\n",
       "      <td>...</td>\n",
       "      <td>NaN</td>\n",
       "      <td>450.0</td>\n",
       "      <td>700.0</td>\n",
       "      <td>NaN</td>\n",
       "      <td>NaN</td>\n",
       "      <td>NaN</td>\n",
       "      <td>300.0</td>\n",
       "      <td>250.0</td>\n",
       "      <td>100.0</td>\n",
       "      <td>100.0</td>\n",
       "    </tr>\n",
       "    <tr>\n",
       "      <th>Koramangala 6th Block</th>\n",
       "      <td>NaN</td>\n",
       "      <td>300.0</td>\n",
       "      <td>NaN</td>\n",
       "      <td>200.0</td>\n",
       "      <td>600.0</td>\n",
       "      <td>300.0</td>\n",
       "      <td>NaN</td>\n",
       "      <td>NaN</td>\n",
       "      <td>150.0</td>\n",
       "      <td>NaN</td>\n",
       "      <td>...</td>\n",
       "      <td>550.0</td>\n",
       "      <td>800.0</td>\n",
       "      <td>1600.0</td>\n",
       "      <td>NaN</td>\n",
       "      <td>NaN</td>\n",
       "      <td>1200.0</td>\n",
       "      <td>800.0</td>\n",
       "      <td>NaN</td>\n",
       "      <td>NaN</td>\n",
       "      <td>1000.0</td>\n",
       "    </tr>\n",
       "    <tr>\n",
       "      <th>Koramangala 7th Block</th>\n",
       "      <td>NaN</td>\n",
       "      <td>NaN</td>\n",
       "      <td>NaN</td>\n",
       "      <td>900.0</td>\n",
       "      <td>1000.0</td>\n",
       "      <td>1000.0</td>\n",
       "      <td>NaN</td>\n",
       "      <td>NaN</td>\n",
       "      <td>600.0</td>\n",
       "      <td>NaN</td>\n",
       "      <td>...</td>\n",
       "      <td>NaN</td>\n",
       "      <td>800.0</td>\n",
       "      <td>650.0</td>\n",
       "      <td>700.0</td>\n",
       "      <td>400.0</td>\n",
       "      <td>NaN</td>\n",
       "      <td>700.0</td>\n",
       "      <td>NaN</td>\n",
       "      <td>400.0</td>\n",
       "      <td>300.0</td>\n",
       "    </tr>\n",
       "    <tr>\n",
       "      <th>Lavelle Road</th>\n",
       "      <td>NaN</td>\n",
       "      <td>NaN</td>\n",
       "      <td>NaN</td>\n",
       "      <td>500.0</td>\n",
       "      <td>NaN</td>\n",
       "      <td>NaN</td>\n",
       "      <td>NaN</td>\n",
       "      <td>600.0</td>\n",
       "      <td>NaN</td>\n",
       "      <td>NaN</td>\n",
       "      <td>...</td>\n",
       "      <td>NaN</td>\n",
       "      <td>NaN</td>\n",
       "      <td>NaN</td>\n",
       "      <td>NaN</td>\n",
       "      <td>NaN</td>\n",
       "      <td>NaN</td>\n",
       "      <td>NaN</td>\n",
       "      <td>NaN</td>\n",
       "      <td>NaN</td>\n",
       "      <td>500.0</td>\n",
       "    </tr>\n",
       "    <tr>\n",
       "      <th>MG Road</th>\n",
       "      <td>NaN</td>\n",
       "      <td>NaN</td>\n",
       "      <td>NaN</td>\n",
       "      <td>450.0</td>\n",
       "      <td>500.0</td>\n",
       "      <td>500.0</td>\n",
       "      <td>NaN</td>\n",
       "      <td>NaN</td>\n",
       "      <td>NaN</td>\n",
       "      <td>NaN</td>\n",
       "      <td>...</td>\n",
       "      <td>NaN</td>\n",
       "      <td>400.0</td>\n",
       "      <td>400.0</td>\n",
       "      <td>NaN</td>\n",
       "      <td>NaN</td>\n",
       "      <td>NaN</td>\n",
       "      <td>250.0</td>\n",
       "      <td>400.0</td>\n",
       "      <td>300.0</td>\n",
       "      <td>250.0</td>\n",
       "    </tr>\n",
       "    <tr>\n",
       "      <th>Malleshwaram</th>\n",
       "      <td>NaN</td>\n",
       "      <td>300.0</td>\n",
       "      <td>NaN</td>\n",
       "      <td>500.0</td>\n",
       "      <td>400.0</td>\n",
       "      <td>500.0</td>\n",
       "      <td>150.0</td>\n",
       "      <td>NaN</td>\n",
       "      <td>500.0</td>\n",
       "      <td>300.0</td>\n",
       "      <td>...</td>\n",
       "      <td>400.0</td>\n",
       "      <td>600.0</td>\n",
       "      <td>600.0</td>\n",
       "      <td>200.0</td>\n",
       "      <td>NaN</td>\n",
       "      <td>300.0</td>\n",
       "      <td>300.0</td>\n",
       "      <td>750.0</td>\n",
       "      <td>450.0</td>\n",
       "      <td>100.0</td>\n",
       "    </tr>\n",
       "    <tr>\n",
       "      <th>Marathahalli</th>\n",
       "      <td>400.0</td>\n",
       "      <td>200.0</td>\n",
       "      <td>400.0</td>\n",
       "      <td>200.0</td>\n",
       "      <td>350.0</td>\n",
       "      <td>400.0</td>\n",
       "      <td>600.0</td>\n",
       "      <td>400.0</td>\n",
       "      <td>400.0</td>\n",
       "      <td>200.0</td>\n",
       "      <td>...</td>\n",
       "      <td>200.0</td>\n",
       "      <td>250.0</td>\n",
       "      <td>600.0</td>\n",
       "      <td>300.0</td>\n",
       "      <td>400.0</td>\n",
       "      <td>750.0</td>\n",
       "      <td>650.0</td>\n",
       "      <td>NaN</td>\n",
       "      <td>300.0</td>\n",
       "      <td>700.0</td>\n",
       "    </tr>\n",
       "    <tr>\n",
       "      <th>New BEL Road</th>\n",
       "      <td>NaN</td>\n",
       "      <td>300.0</td>\n",
       "      <td>500.0</td>\n",
       "      <td>250.0</td>\n",
       "      <td>200.0</td>\n",
       "      <td>400.0</td>\n",
       "      <td>NaN</td>\n",
       "      <td>550.0</td>\n",
       "      <td>1000.0</td>\n",
       "      <td>NaN</td>\n",
       "      <td>...</td>\n",
       "      <td>400.0</td>\n",
       "      <td>400.0</td>\n",
       "      <td>400.0</td>\n",
       "      <td>600.0</td>\n",
       "      <td>NaN</td>\n",
       "      <td>1200.0</td>\n",
       "      <td>550.0</td>\n",
       "      <td>NaN</td>\n",
       "      <td>300.0</td>\n",
       "      <td>400.0</td>\n",
       "    </tr>\n",
       "    <tr>\n",
       "      <th>Old Airport Road</th>\n",
       "      <td>NaN</td>\n",
       "      <td>NaN</td>\n",
       "      <td>450.0</td>\n",
       "      <td>400.0</td>\n",
       "      <td>800.0</td>\n",
       "      <td>NaN</td>\n",
       "      <td>1000.0</td>\n",
       "      <td>400.0</td>\n",
       "      <td>800.0</td>\n",
       "      <td>NaN</td>\n",
       "      <td>...</td>\n",
       "      <td>400.0</td>\n",
       "      <td>700.0</td>\n",
       "      <td>200.0</td>\n",
       "      <td>NaN</td>\n",
       "      <td>350.0</td>\n",
       "      <td>300.0</td>\n",
       "      <td>700.0</td>\n",
       "      <td>NaN</td>\n",
       "      <td>NaN</td>\n",
       "      <td>250.0</td>\n",
       "    </tr>\n",
       "    <tr>\n",
       "      <th>Rajajinagar</th>\n",
       "      <td>NaN</td>\n",
       "      <td>NaN</td>\n",
       "      <td>NaN</td>\n",
       "      <td>500.0</td>\n",
       "      <td>300.0</td>\n",
       "      <td>200.0</td>\n",
       "      <td>400.0</td>\n",
       "      <td>NaN</td>\n",
       "      <td>300.0</td>\n",
       "      <td>600.0</td>\n",
       "      <td>...</td>\n",
       "      <td>500.0</td>\n",
       "      <td>1500.0</td>\n",
       "      <td>200.0</td>\n",
       "      <td>250.0</td>\n",
       "      <td>250.0</td>\n",
       "      <td>750.0</td>\n",
       "      <td>600.0</td>\n",
       "      <td>250.0</td>\n",
       "      <td>200.0</td>\n",
       "      <td>1200.0</td>\n",
       "    </tr>\n",
       "    <tr>\n",
       "      <th>Residency Road</th>\n",
       "      <td>NaN</td>\n",
       "      <td>300.0</td>\n",
       "      <td>NaN</td>\n",
       "      <td>600.0</td>\n",
       "      <td>300.0</td>\n",
       "      <td>NaN</td>\n",
       "      <td>300.0</td>\n",
       "      <td>1000.0</td>\n",
       "      <td>200.0</td>\n",
       "      <td>NaN</td>\n",
       "      <td>...</td>\n",
       "      <td>400.0</td>\n",
       "      <td>NaN</td>\n",
       "      <td>NaN</td>\n",
       "      <td>500.0</td>\n",
       "      <td>600.0</td>\n",
       "      <td>NaN</td>\n",
       "      <td>NaN</td>\n",
       "      <td>NaN</td>\n",
       "      <td>800.0</td>\n",
       "      <td>600.0</td>\n",
       "    </tr>\n",
       "    <tr>\n",
       "      <th>Richmond Road</th>\n",
       "      <td>NaN</td>\n",
       "      <td>NaN</td>\n",
       "      <td>150.0</td>\n",
       "      <td>300.0</td>\n",
       "      <td>NaN</td>\n",
       "      <td>750.0</td>\n",
       "      <td>NaN</td>\n",
       "      <td>NaN</td>\n",
       "      <td>500.0</td>\n",
       "      <td>NaN</td>\n",
       "      <td>...</td>\n",
       "      <td>NaN</td>\n",
       "      <td>NaN</td>\n",
       "      <td>650.0</td>\n",
       "      <td>600.0</td>\n",
       "      <td>800.0</td>\n",
       "      <td>450.0</td>\n",
       "      <td>250.0</td>\n",
       "      <td>NaN</td>\n",
       "      <td>NaN</td>\n",
       "      <td>100.0</td>\n",
       "    </tr>\n",
       "    <tr>\n",
       "      <th>Sarjapur Road</th>\n",
       "      <td>200.0</td>\n",
       "      <td>250.0</td>\n",
       "      <td>450.0</td>\n",
       "      <td>300.0</td>\n",
       "      <td>450.0</td>\n",
       "      <td>600.0</td>\n",
       "      <td>600.0</td>\n",
       "      <td>750.0</td>\n",
       "      <td>500.0</td>\n",
       "      <td>NaN</td>\n",
       "      <td>...</td>\n",
       "      <td>NaN</td>\n",
       "      <td>600.0</td>\n",
       "      <td>500.0</td>\n",
       "      <td>600.0</td>\n",
       "      <td>250.0</td>\n",
       "      <td>700.0</td>\n",
       "      <td>400.0</td>\n",
       "      <td>350.0</td>\n",
       "      <td>500.0</td>\n",
       "      <td>600.0</td>\n",
       "    </tr>\n",
       "    <tr>\n",
       "      <th>Ulsoor</th>\n",
       "      <td>NaN</td>\n",
       "      <td>NaN</td>\n",
       "      <td>150.0</td>\n",
       "      <td>350.0</td>\n",
       "      <td>1200.0</td>\n",
       "      <td>500.0</td>\n",
       "      <td>NaN</td>\n",
       "      <td>250.0</td>\n",
       "      <td>300.0</td>\n",
       "      <td>300.0</td>\n",
       "      <td>...</td>\n",
       "      <td>NaN</td>\n",
       "      <td>NaN</td>\n",
       "      <td>850.0</td>\n",
       "      <td>200.0</td>\n",
       "      <td>750.0</td>\n",
       "      <td>300.0</td>\n",
       "      <td>NaN</td>\n",
       "      <td>NaN</td>\n",
       "      <td>500.0</td>\n",
       "      <td>200.0</td>\n",
       "    </tr>\n",
       "    <tr>\n",
       "      <th>Whitefield</th>\n",
       "      <td>500.0</td>\n",
       "      <td>100.0</td>\n",
       "      <td>600.0</td>\n",
       "      <td>150.0</td>\n",
       "      <td>300.0</td>\n",
       "      <td>700.0</td>\n",
       "      <td>500.0</td>\n",
       "      <td>400.0</td>\n",
       "      <td>200.0</td>\n",
       "      <td>250.0</td>\n",
       "      <td>...</td>\n",
       "      <td>1000.0</td>\n",
       "      <td>500.0</td>\n",
       "      <td>200.0</td>\n",
       "      <td>350.0</td>\n",
       "      <td>150.0</td>\n",
       "      <td>800.0</td>\n",
       "      <td>400.0</td>\n",
       "      <td>250.0</td>\n",
       "      <td>200.0</td>\n",
       "      <td>500.0</td>\n",
       "    </tr>\n",
       "    <tr>\n",
       "      <th>others</th>\n",
       "      <td>200.0</td>\n",
       "      <td>300.0</td>\n",
       "      <td>150.0</td>\n",
       "      <td>300.0</td>\n",
       "      <td>250.0</td>\n",
       "      <td>250.0</td>\n",
       "      <td>200.0</td>\n",
       "      <td>800.0</td>\n",
       "      <td>300.0</td>\n",
       "      <td>450.0</td>\n",
       "      <td>...</td>\n",
       "      <td>300.0</td>\n",
       "      <td>400.0</td>\n",
       "      <td>400.0</td>\n",
       "      <td>700.0</td>\n",
       "      <td>200.0</td>\n",
       "      <td>200.0</td>\n",
       "      <td>600.0</td>\n",
       "      <td>150.0</td>\n",
       "      <td>700.0</td>\n",
       "      <td>400.0</td>\n",
       "    </tr>\n",
       "  </tbody>\n",
       "</table>\n",
       "<p>36 rows × 54 columns</p>\n",
       "</div>"
      ],
      "text/plain": [
       "CUISINES               Andhra  Andhra, Biryani  Arabian  Bakery  \\\n",
       "LOCATION                                                          \n",
       "BTM                     800.0            800.0    800.0   300.0   \n",
       "Banashankari            150.0            400.0    750.0   450.0   \n",
       "Banaswadi               400.0              NaN    200.0   300.0   \n",
       "Bannerghatta Road       400.0            150.0    250.0   250.0   \n",
       "Basavanagudi              NaN              NaN      NaN   100.0   \n",
       "Bellandur               500.0            400.0    250.0   200.0   \n",
       "Brigade Road              NaN              NaN      NaN   250.0   \n",
       "Brookefield               NaN              NaN    800.0   200.0   \n",
       "Church Street           100.0              NaN      NaN     NaN   \n",
       "Domlur                  300.0            400.0      NaN   300.0   \n",
       "Electronic City         300.0            300.0    350.0   200.0   \n",
       "Frazer Town               NaN              NaN      NaN   250.0   \n",
       "HSR                     200.0            800.0    200.0   450.0   \n",
       "Indiranagar             350.0            400.0      NaN   600.0   \n",
       "JP Nagar                500.0            600.0    500.0   800.0   \n",
       "Jayanagar               500.0            850.0    400.0   800.0   \n",
       "Kalyan Nagar            200.0              NaN    250.0   200.0   \n",
       "Kammanahalli              NaN              NaN    200.0     NaN   \n",
       "Koramangala 1st Block     NaN              NaN      NaN   400.0   \n",
       "Koramangala 4th Block     NaN              NaN    150.0   350.0   \n",
       "Koramangala 5th Block   200.0            300.0    100.0   150.0   \n",
       "Koramangala 6th Block     NaN            300.0      NaN   200.0   \n",
       "Koramangala 7th Block     NaN              NaN      NaN   900.0   \n",
       "Lavelle Road              NaN              NaN      NaN   500.0   \n",
       "MG Road                   NaN              NaN      NaN   450.0   \n",
       "Malleshwaram              NaN            300.0      NaN   500.0   \n",
       "Marathahalli            400.0            200.0    400.0   200.0   \n",
       "New BEL Road              NaN            300.0    500.0   250.0   \n",
       "Old Airport Road          NaN              NaN    450.0   400.0   \n",
       "Rajajinagar               NaN              NaN      NaN   500.0   \n",
       "Residency Road            NaN            300.0      NaN   600.0   \n",
       "Richmond Road             NaN              NaN    150.0   300.0   \n",
       "Sarjapur Road           200.0            250.0    450.0   300.0   \n",
       "Ulsoor                    NaN              NaN    150.0   350.0   \n",
       "Whitefield              500.0            100.0    600.0   150.0   \n",
       "others                  200.0            300.0    150.0   300.0   \n",
       "\n",
       "CUISINES               Bakery, Desserts  Bakery, Fast Food  Beverages  \\\n",
       "LOCATION                                                                \n",
       "BTM                               600.0              600.0      800.0   \n",
       "Banashankari                      450.0                NaN      300.0   \n",
       "Banaswadi                         600.0              800.0      250.0   \n",
       "Bannerghatta Road                 150.0              200.0      350.0   \n",
       "Basavanagudi                      200.0                NaN      150.0   \n",
       "Bellandur                         600.0              650.0        NaN   \n",
       "Brigade Road                        NaN              550.0        NaN   \n",
       "Brookefield                       250.0                NaN      150.0   \n",
       "Church Street                       NaN                NaN        NaN   \n",
       "Domlur                            800.0              300.0      400.0   \n",
       "Electronic City                   100.0              150.0      300.0   \n",
       "Frazer Town                       400.0              400.0      400.0   \n",
       "HSR                               200.0             1000.0      200.0   \n",
       "Indiranagar                       300.0                NaN      150.0   \n",
       "JP Nagar                          450.0              600.0      850.0   \n",
       "Jayanagar                         400.0              150.0      350.0   \n",
       "Kalyan Nagar                      300.0              500.0      200.0   \n",
       "Kammanahalli                      200.0              400.0      300.0   \n",
       "Koramangala 1st Block             150.0               80.0        NaN   \n",
       "Koramangala 4th Block             750.0                NaN      550.0   \n",
       "Koramangala 5th Block             100.0              300.0      200.0   \n",
       "Koramangala 6th Block             600.0              300.0        NaN   \n",
       "Koramangala 7th Block            1000.0             1000.0        NaN   \n",
       "Lavelle Road                        NaN                NaN        NaN   \n",
       "MG Road                           500.0              500.0        NaN   \n",
       "Malleshwaram                      400.0              500.0      150.0   \n",
       "Marathahalli                      350.0              400.0      600.0   \n",
       "New BEL Road                      200.0              400.0        NaN   \n",
       "Old Airport Road                  800.0                NaN     1000.0   \n",
       "Rajajinagar                       300.0              200.0      400.0   \n",
       "Residency Road                    300.0                NaN      300.0   \n",
       "Richmond Road                       NaN              750.0        NaN   \n",
       "Sarjapur Road                     450.0              600.0      600.0   \n",
       "Ulsoor                           1200.0              500.0        NaN   \n",
       "Whitefield                        300.0              700.0      500.0   \n",
       "others                            250.0              250.0      200.0   \n",
       "\n",
       "CUISINES               Beverages, Fast Food  Biryani  Biryani, Fast Food  ...  \\\n",
       "LOCATION                                                                  ...   \n",
       "BTM                                   600.0    700.0               550.0  ...   \n",
       "Banashankari                            NaN    800.0               200.0  ...   \n",
       "Banaswadi                               NaN    950.0               300.0  ...   \n",
       "Bannerghatta Road                     300.0    100.0               150.0  ...   \n",
       "Basavanagudi                          300.0    350.0               100.0  ...   \n",
       "Bellandur                             550.0    450.0               300.0  ...   \n",
       "Brigade Road                          300.0      NaN                 NaN  ...   \n",
       "Brookefield                          1200.0    400.0                 NaN  ...   \n",
       "Church Street                         600.0      NaN                 NaN  ...   \n",
       "Domlur                                  NaN    650.0                 NaN  ...   \n",
       "Electronic City                       200.0    300.0               250.0  ...   \n",
       "Frazer Town                           200.0    350.0                 NaN  ...   \n",
       "HSR                                   700.0    800.0               600.0  ...   \n",
       "Indiranagar                           400.0    150.0                 NaN  ...   \n",
       "JP Nagar                              450.0    800.0              1000.0  ...   \n",
       "Jayanagar                             500.0    900.0               700.0  ...   \n",
       "Kalyan Nagar                          200.0    300.0               500.0  ...   \n",
       "Kammanahalli                            NaN    250.0               400.0  ...   \n",
       "Koramangala 1st Block                 150.0    100.0                 NaN  ...   \n",
       "Koramangala 4th Block                   NaN    600.0                 NaN  ...   \n",
       "Koramangala 5th Block                 300.0    300.0                 NaN  ...   \n",
       "Koramangala 6th Block                   NaN    150.0                 NaN  ...   \n",
       "Koramangala 7th Block                   NaN    600.0                 NaN  ...   \n",
       "Lavelle Road                          600.0      NaN                 NaN  ...   \n",
       "MG Road                                 NaN      NaN                 NaN  ...   \n",
       "Malleshwaram                            NaN    500.0               300.0  ...   \n",
       "Marathahalli                          400.0    400.0               200.0  ...   \n",
       "New BEL Road                          550.0   1000.0                 NaN  ...   \n",
       "Old Airport Road                      400.0    800.0                 NaN  ...   \n",
       "Rajajinagar                             NaN    300.0               600.0  ...   \n",
       "Residency Road                       1000.0    200.0                 NaN  ...   \n",
       "Richmond Road                           NaN    500.0                 NaN  ...   \n",
       "Sarjapur Road                         750.0    500.0                 NaN  ...   \n",
       "Ulsoor                                250.0    300.0               300.0  ...   \n",
       "Whitefield                            400.0    200.0               250.0  ...   \n",
       "others                                800.0    300.0               450.0  ...   \n",
       "\n",
       "CUISINES                Pizza  Pizza, Fast Food  South Indian  \\\n",
       "LOCATION                                                        \n",
       "BTM                     300.0             500.0         800.0   \n",
       "Banashankari            400.0             200.0         700.0   \n",
       "Banaswadi               400.0             350.0         100.0   \n",
       "Bannerghatta Road       200.0             250.0         700.0   \n",
       "Basavanagudi            500.0             300.0        1300.0   \n",
       "Bellandur               500.0             350.0         200.0   \n",
       "Brigade Road              NaN             300.0         500.0   \n",
       "Brookefield               NaN             250.0         150.0   \n",
       "Church Street             NaN             400.0         600.0   \n",
       "Domlur                  400.0               NaN         150.0   \n",
       "Electronic City         600.0             200.0         500.0   \n",
       "Frazer Town               NaN             150.0         600.0   \n",
       "HSR                     500.0             200.0         300.0   \n",
       "Indiranagar             350.0             600.0         800.0   \n",
       "JP Nagar                150.0             500.0        1000.0   \n",
       "Jayanagar                 NaN             300.0         500.0   \n",
       "Kalyan Nagar            250.0             300.0         250.0   \n",
       "Kammanahalli            200.0               NaN         200.0   \n",
       "Koramangala 1st Block     NaN               NaN         300.0   \n",
       "Koramangala 4th Block     NaN             600.0         150.0   \n",
       "Koramangala 5th Block     NaN             450.0         700.0   \n",
       "Koramangala 6th Block   550.0             800.0        1600.0   \n",
       "Koramangala 7th Block     NaN             800.0         650.0   \n",
       "Lavelle Road              NaN               NaN           NaN   \n",
       "MG Road                   NaN             400.0         400.0   \n",
       "Malleshwaram            400.0             600.0         600.0   \n",
       "Marathahalli            200.0             250.0         600.0   \n",
       "New BEL Road            400.0             400.0         400.0   \n",
       "Old Airport Road        400.0             700.0         200.0   \n",
       "Rajajinagar             500.0            1500.0         200.0   \n",
       "Residency Road          400.0               NaN           NaN   \n",
       "Richmond Road             NaN               NaN         650.0   \n",
       "Sarjapur Road             NaN             600.0         500.0   \n",
       "Ulsoor                    NaN               NaN         850.0   \n",
       "Whitefield             1000.0             500.0         200.0   \n",
       "others                  300.0             400.0         400.0   \n",
       "\n",
       "CUISINES               South Indian, Biryani  South Indian, Chinese  \\\n",
       "LOCATION                                                              \n",
       "BTM                                    600.0                  400.0   \n",
       "Banashankari                           100.0                  300.0   \n",
       "Banaswadi                              150.0                  150.0   \n",
       "Bannerghatta Road                      650.0                  300.0   \n",
       "Basavanagudi                           350.0                  500.0   \n",
       "Bellandur                              250.0                  600.0   \n",
       "Brigade Road                           100.0                  400.0   \n",
       "Brookefield                            600.0                    NaN   \n",
       "Church Street                            NaN                    NaN   \n",
       "Domlur                                   NaN                    NaN   \n",
       "Electronic City                        400.0                  750.0   \n",
       "Frazer Town                            750.0                  200.0   \n",
       "HSR                                    100.0                    NaN   \n",
       "Indiranagar                            800.0                  800.0   \n",
       "JP Nagar                               300.0                  500.0   \n",
       "Jayanagar                              300.0                  150.0   \n",
       "Kalyan Nagar                             NaN                    NaN   \n",
       "Kammanahalli                           250.0                    NaN   \n",
       "Koramangala 1st Block                    NaN                  350.0   \n",
       "Koramangala 4th Block                    NaN                    NaN   \n",
       "Koramangala 5th Block                    NaN                    NaN   \n",
       "Koramangala 6th Block                    NaN                    NaN   \n",
       "Koramangala 7th Block                  700.0                  400.0   \n",
       "Lavelle Road                             NaN                    NaN   \n",
       "MG Road                                  NaN                    NaN   \n",
       "Malleshwaram                           200.0                    NaN   \n",
       "Marathahalli                           300.0                  400.0   \n",
       "New BEL Road                           600.0                    NaN   \n",
       "Old Airport Road                         NaN                  350.0   \n",
       "Rajajinagar                            250.0                  250.0   \n",
       "Residency Road                         500.0                  600.0   \n",
       "Richmond Road                          600.0                  800.0   \n",
       "Sarjapur Road                          600.0                  250.0   \n",
       "Ulsoor                                 200.0                  750.0   \n",
       "Whitefield                             350.0                  150.0   \n",
       "others                                 700.0                  200.0   \n",
       "\n",
       "CUISINES               South Indian, North Indian  \\\n",
       "LOCATION                                            \n",
       "BTM                                         300.0   \n",
       "Banashankari                                600.0   \n",
       "Banaswadi                                   200.0   \n",
       "Bannerghatta Road                           700.0   \n",
       "Basavanagudi                                  NaN   \n",
       "Bellandur                                   200.0   \n",
       "Brigade Road                                900.0   \n",
       "Brookefield                                 200.0   \n",
       "Church Street                                 NaN   \n",
       "Domlur                                      100.0   \n",
       "Electronic City                             100.0   \n",
       "Frazer Town                                   NaN   \n",
       "HSR                                         400.0   \n",
       "Indiranagar                                1300.0   \n",
       "JP Nagar                                    300.0   \n",
       "Jayanagar                                   300.0   \n",
       "Kalyan Nagar                                350.0   \n",
       "Kammanahalli                                100.0   \n",
       "Koramangala 1st Block                       500.0   \n",
       "Koramangala 4th Block                       200.0   \n",
       "Koramangala 5th Block                         NaN   \n",
       "Koramangala 6th Block                      1200.0   \n",
       "Koramangala 7th Block                         NaN   \n",
       "Lavelle Road                                  NaN   \n",
       "MG Road                                       NaN   \n",
       "Malleshwaram                                300.0   \n",
       "Marathahalli                                750.0   \n",
       "New BEL Road                               1200.0   \n",
       "Old Airport Road                            300.0   \n",
       "Rajajinagar                                 750.0   \n",
       "Residency Road                                NaN   \n",
       "Richmond Road                               450.0   \n",
       "Sarjapur Road                               700.0   \n",
       "Ulsoor                                      300.0   \n",
       "Whitefield                                  800.0   \n",
       "others                                      200.0   \n",
       "\n",
       "CUISINES               South Indian, North Indian, Chinese  \\\n",
       "LOCATION                                                     \n",
       "BTM                                                  450.0   \n",
       "Banashankari                                         200.0   \n",
       "Banaswadi                                            100.0   \n",
       "Bannerghatta Road                                    500.0   \n",
       "Basavanagudi                                         700.0   \n",
       "Bellandur                                            250.0   \n",
       "Brigade Road                                         200.0   \n",
       "Brookefield                                          200.0   \n",
       "Church Street                                          NaN   \n",
       "Domlur                                               200.0   \n",
       "Electronic City                                      300.0   \n",
       "Frazer Town                                          300.0   \n",
       "HSR                                                  500.0   \n",
       "Indiranagar                                         1200.0   \n",
       "JP Nagar                                             500.0   \n",
       "Jayanagar                                            300.0   \n",
       "Kalyan Nagar                                         300.0   \n",
       "Kammanahalli                                         200.0   \n",
       "Koramangala 1st Block                                  NaN   \n",
       "Koramangala 4th Block                                  NaN   \n",
       "Koramangala 5th Block                                300.0   \n",
       "Koramangala 6th Block                                800.0   \n",
       "Koramangala 7th Block                                700.0   \n",
       "Lavelle Road                                           NaN   \n",
       "MG Road                                              250.0   \n",
       "Malleshwaram                                         300.0   \n",
       "Marathahalli                                         650.0   \n",
       "New BEL Road                                         550.0   \n",
       "Old Airport Road                                     700.0   \n",
       "Rajajinagar                                          600.0   \n",
       "Residency Road                                         NaN   \n",
       "Richmond Road                                        250.0   \n",
       "Sarjapur Road                                        400.0   \n",
       "Ulsoor                                                 NaN   \n",
       "Whitefield                                           400.0   \n",
       "others                                               600.0   \n",
       "\n",
       "CUISINES               South Indian, North Indian, Chinese, Street Food  \\\n",
       "LOCATION                                                                  \n",
       "BTM                                                               850.0   \n",
       "Banashankari                                                      500.0   \n",
       "Banaswadi                                                         400.0   \n",
       "Bannerghatta Road                                                 350.0   \n",
       "Basavanagudi                                                     1000.0   \n",
       "Bellandur                                                         150.0   \n",
       "Brigade Road                                                        NaN   \n",
       "Brookefield                                                         NaN   \n",
       "Church Street                                                     250.0   \n",
       "Domlur                                                              NaN   \n",
       "Electronic City                                                   150.0   \n",
       "Frazer Town                                                         NaN   \n",
       "HSR                                                               300.0   \n",
       "Indiranagar                                                       700.0   \n",
       "JP Nagar                                                          600.0   \n",
       "Jayanagar                                                         150.0   \n",
       "Kalyan Nagar                                                        NaN   \n",
       "Kammanahalli                                                      200.0   \n",
       "Koramangala 1st Block                                               NaN   \n",
       "Koramangala 4th Block                                             400.0   \n",
       "Koramangala 5th Block                                             250.0   \n",
       "Koramangala 6th Block                                               NaN   \n",
       "Koramangala 7th Block                                               NaN   \n",
       "Lavelle Road                                                        NaN   \n",
       "MG Road                                                           400.0   \n",
       "Malleshwaram                                                      750.0   \n",
       "Marathahalli                                                        NaN   \n",
       "New BEL Road                                                        NaN   \n",
       "Old Airport Road                                                    NaN   \n",
       "Rajajinagar                                                       250.0   \n",
       "Residency Road                                                      NaN   \n",
       "Richmond Road                                                       NaN   \n",
       "Sarjapur Road                                                     350.0   \n",
       "Ulsoor                                                              NaN   \n",
       "Whitefield                                                        250.0   \n",
       "others                                                            150.0   \n",
       "\n",
       "CUISINES               Street Food  others  \n",
       "LOCATION                                    \n",
       "BTM                          300.0   450.0  \n",
       "Banashankari                 250.0   500.0  \n",
       "Banaswadi                    200.0   150.0  \n",
       "Bannerghatta Road            150.0   400.0  \n",
       "Basavanagudi                 400.0   750.0  \n",
       "Bellandur                    600.0   300.0  \n",
       "Brigade Road                   NaN   550.0  \n",
       "Brookefield                  650.0   100.0  \n",
       "Church Street                  NaN   400.0  \n",
       "Domlur                         NaN   300.0  \n",
       "Electronic City              150.0   200.0  \n",
       "Frazer Town                  800.0   800.0  \n",
       "HSR                          300.0   250.0  \n",
       "Indiranagar                  800.0   550.0  \n",
       "JP Nagar                     800.0   150.0  \n",
       "Jayanagar                    600.0   400.0  \n",
       "Kalyan Nagar                 200.0   450.0  \n",
       "Kammanahalli                 200.0   200.0  \n",
       "Koramangala 1st Block          NaN   600.0  \n",
       "Koramangala 4th Block          NaN   800.0  \n",
       "Koramangala 5th Block        100.0   100.0  \n",
       "Koramangala 6th Block          NaN  1000.0  \n",
       "Koramangala 7th Block        400.0   300.0  \n",
       "Lavelle Road                   NaN   500.0  \n",
       "MG Road                      300.0   250.0  \n",
       "Malleshwaram                 450.0   100.0  \n",
       "Marathahalli                 300.0   700.0  \n",
       "New BEL Road                 300.0   400.0  \n",
       "Old Airport Road               NaN   250.0  \n",
       "Rajajinagar                  200.0  1200.0  \n",
       "Residency Road               800.0   600.0  \n",
       "Richmond Road                  NaN   100.0  \n",
       "Sarjapur Road                500.0   600.0  \n",
       "Ulsoor                       500.0   200.0  \n",
       "Whitefield                   200.0   500.0  \n",
       "others                       700.0   400.0  \n",
       "\n",
       "[36 rows x 54 columns]"
      ]
     },
     "execution_count": 35,
     "metadata": {},
     "output_type": "execute_result"
    }
   ],
   "source": [
    "df3= df.groupby(['LOCATION','CUISINES'])['COST2PLATES'].mean()\n",
    "df3.to_csv('location_cuisine.csv')\n",
    "df3 = pd.read_csv('location_cuisine.csv')\n",
    "df3=pd.crosstab(df3.LOCATION,df3.CUISINES, values=df.COST2PLATES, aggfunc=np.average)\n",
    "df3"
   ]
  },
  {
   "cell_type": "markdown",
   "id": "flying-renaissance",
   "metadata": {
    "papermill": {
     "duration": 0.119747,
     "end_time": "2023-07-07T14:37:55.298630",
     "exception": false,
     "start_time": "2023-07-07T14:37:55.178883",
     "status": "completed"
    },
    "tags": []
   },
   "source": [
    "## Heatmap of average cost of different cuisines location wise"
   ]
  },
  {
   "cell_type": "code",
   "execution_count": 36,
   "id": "derived-glossary",
   "metadata": {
    "execution": {
     "iopub.execute_input": "2023-07-07T14:37:55.533416Z",
     "iopub.status.busy": "2023-07-07T14:37:55.532622Z",
     "iopub.status.idle": "2023-07-07T14:37:57.639654Z",
     "shell.execute_reply": "2023-07-07T14:37:57.640281Z",
     "shell.execute_reply.started": "2023-07-07T14:36:21.882790Z"
    },
    "papermill": {
     "duration": 2.227286,
     "end_time": "2023-07-07T14:37:57.640509",
     "exception": false,
     "start_time": "2023-07-07T14:37:55.413223",
     "status": "completed"
    },
    "tags": []
   },
   "outputs": [
    {
     "data": {
      "image/png": "[encoded data removed]",
      "text/plain": [
       "<Figure size 1080x576 with 2 Axes>"
      ]
     },
     "metadata": {},
     "output_type": "display_data"
    }
   ],
   "source": [
    "plt.figure(figsize=(15,8))\n",
    "sns.heatmap(df3,cmap='RdYlGn', annot=False);"
   ]
  },
  {
   "cell_type": "markdown",
   "id": "several-saint",
   "metadata": {
    "papermill": {
     "duration": 0.115111,
     "end_time": "2023-07-07T14:37:57.870747",
     "exception": false,
     "start_time": "2023-07-07T14:37:57.755636",
     "status": "completed"
    },
    "tags": []
   },
   "source": [
    "The above heatmap represents variation of average cost of different cuisines across different locations. The dark pixels state that a particular cuisine is not sold in that corresponding  location by any restaurant as shown in the heatmap. Moreover, it’s pretty obvious that across all locations most cuisines are priced below 1000."
   ]
  },
  {
   "cell_type": "markdown",
   "id": "frank-interval",
   "metadata": {
    "papermill": {
     "duration": 0.115636,
     "end_time": "2023-07-07T14:37:58.104990",
     "exception": false,
     "start_time": "2023-07-07T14:37:57.989354",
     "status": "completed"
    },
    "tags": []
   },
   "source": [
    "## Variation of cost of restaurant plates with restaurant category "
   ]
  },
  {
   "cell_type": "code",
   "execution_count": 37,
   "id": "chemical-denial",
   "metadata": {
    "execution": {
     "iopub.execute_input": "2023-07-07T14:37:58.363972Z",
     "iopub.status.busy": "2023-07-07T14:37:58.361000Z",
     "iopub.status.idle": "2023-07-07T14:37:58.694203Z",
     "shell.execute_reply": "2023-07-07T14:37:58.693420Z",
     "shell.execute_reply.started": "2023-07-07T14:36:24.093055Z"
    },
    "papermill": {
     "duration": 0.470541,
     "end_time": "2023-07-07T14:37:58.694369",
     "exception": false,
     "start_time": "2023-07-07T14:37:58.223828",
     "status": "completed"
    },
    "tags": []
   },
   "outputs": [
    {
     "data": {
      "image/png": "[encoded data removed]",
      "text/plain": [
       "<Figure size 432x432 with 1 Axes>"
      ]
     },
     "metadata": {},
     "output_type": "display_data"
    }
   ],
   "source": [
    "plt.figure(figsize=(6,6))\n",
    "sns.boxplot(x='CATEGORY', y='COST2PLATES', data=df)\n",
    "plt.xticks(rotation=90);\n"
   ]
  },
  {
   "cell_type": "markdown",
   "id": "hispanic-creature",
   "metadata": {
    "papermill": {
     "duration": 0.122809,
     "end_time": "2023-07-07T14:37:58.938585",
     "exception": false,
     "start_time": "2023-07-07T14:37:58.815776",
     "status": "completed"
    },
    "tags": []
   },
   "source": [
    "As it can be seen from the chart, restaurants that fall in category of “drinks and nightlife” have the highest average cost. Next in line, is a similar category named “Pubs & Bars” which has nearly similar average cost. While, restaurants that fall in category of “Delivery and Desserts” have the least average cost for their services. Moreover, all category of restaurants have somewhat similar  cost variation."
   ]
  },
  {
   "cell_type": "markdown",
   "id": "crude-airfare",
   "metadata": {
    "papermill": {
     "duration": 0.12802,
     "end_time": "2023-07-07T14:37:59.191316",
     "exception": false,
     "start_time": "2023-07-07T14:37:59.063296",
     "status": "completed"
    },
    "tags": []
   },
   "source": [
    "## Ratings of various category of restaurants"
   ]
  },
  {
   "cell_type": "code",
   "execution_count": 38,
   "id": "swedish-daily",
   "metadata": {
    "execution": {
     "iopub.execute_input": "2023-07-07T14:37:59.445196Z",
     "iopub.status.busy": "2023-07-07T14:37:59.444205Z",
     "iopub.status.idle": "2023-07-07T14:37:59.788901Z",
     "shell.execute_reply": "2023-07-07T14:37:59.789519Z",
     "shell.execute_reply.started": "2023-07-07T14:36:24.420077Z"
    },
    "papermill": {
     "duration": 0.471746,
     "end_time": "2023-07-07T14:37:59.789729",
     "exception": false,
     "start_time": "2023-07-07T14:37:59.317983",
     "status": "completed"
    },
    "tags": []
   },
   "outputs": [
    {
     "data": {
      "image/png": "[encoded data removed]",
      "text/plain": [
       "<Figure size 1008x576 with 1 Axes>"
      ]
     },
     "metadata": {},
     "output_type": "display_data"
    }
   ],
   "source": [
    "plt.figure(figsize = (14, 8))\n",
    "sns.boxplot(x = 'CATEGORY', y = 'RATINGS', data = df, palette = 'inferno');"
   ]
  },
  {
   "cell_type": "markdown",
   "id": "material-coordinate",
   "metadata": {
    "papermill": {
     "duration": 0.188102,
     "end_time": "2023-07-07T14:38:00.108287",
     "exception": false,
     "start_time": "2023-07-07T14:37:59.920185",
     "status": "completed"
    },
    "tags": []
   },
   "source": [
    "Surprisingly, restaurant category that have highest average cost are also the one’s most positively rated, they have an average rating of around 4.2. While the restaurants whose average cost is comparatively low are rated moderately with an average rating of around 3.8. People probably vote Pubs, Bars, Drinks, Nightlife restaurant categories more positively because they also get to engage in social conversations, participate in social activities, enjoy and have fun. So, the mood/vibe this restaurant category gives is also a deciding factor behind its high ratings."
   ]
  },
  {
   "cell_type": "markdown",
   "id": "centered-brighton",
   "metadata": {
    "papermill": {
     "duration": 0.122889,
     "end_time": "2023-07-07T14:38:00.355794",
     "exception": false,
     "start_time": "2023-07-07T14:38:00.232905",
     "status": "completed"
    },
    "tags": []
   },
   "source": [
    "## Distribution of Restaurant categories in different locations"
   ]
  },
  {
   "cell_type": "code",
   "execution_count": 39,
   "id": "superior-healthcare",
   "metadata": {
    "execution": {
     "iopub.execute_input": "2023-07-07T14:38:00.606803Z",
     "iopub.status.busy": "2023-07-07T14:38:00.606073Z",
     "iopub.status.idle": "2023-07-07T14:38:00.668323Z",
     "shell.execute_reply": "2023-07-07T14:38:00.668933Z",
     "shell.execute_reply.started": "2023-07-07T14:36:24.783674Z"
    },
    "papermill": {
     "duration": 0.189588,
     "end_time": "2023-07-07T14:38:00.669172",
     "exception": false,
     "start_time": "2023-07-07T14:38:00.479584",
     "status": "completed"
    },
    "tags": []
   },
   "outputs": [
    {
     "data": {
      "text/html": [
       "<div>\n",
       "<style scoped>\n",
       "    .dataframe tbody tr th:only-of-type {\n",
       "        vertical-align: middle;\n",
       "    }\n",
       "\n",
       "    .dataframe tbody tr th {\n",
       "        vertical-align: top;\n",
       "    }\n",
       "\n",
       "    .dataframe thead th {\n",
       "        text-align: right;\n",
       "    }\n",
       "</style>\n",
       "<table border=\"1\" class=\"dataframe\">\n",
       "  <thead>\n",
       "    <tr style=\"text-align: right;\">\n",
       "      <th>CATEGORY</th>\n",
       "      <th>Buffet</th>\n",
       "      <th>Cafes</th>\n",
       "      <th>Delivery</th>\n",
       "      <th>Desserts</th>\n",
       "      <th>Dine-out</th>\n",
       "      <th>Drinks &amp; nightlife</th>\n",
       "      <th>Pubs and bars</th>\n",
       "    </tr>\n",
       "    <tr>\n",
       "      <th>LOCATION</th>\n",
       "      <th></th>\n",
       "      <th></th>\n",
       "      <th></th>\n",
       "      <th></th>\n",
       "      <th></th>\n",
       "      <th></th>\n",
       "      <th></th>\n",
       "    </tr>\n",
       "  </thead>\n",
       "  <tbody>\n",
       "    <tr>\n",
       "      <th>BTM</th>\n",
       "      <td>15</td>\n",
       "      <td>46</td>\n",
       "      <td>1427</td>\n",
       "      <td>110</td>\n",
       "      <td>872</td>\n",
       "      <td>15</td>\n",
       "      <td>14</td>\n",
       "    </tr>\n",
       "    <tr>\n",
       "      <th>Banashankari</th>\n",
       "      <td>5</td>\n",
       "      <td>24</td>\n",
       "      <td>242</td>\n",
       "      <td>46</td>\n",
       "      <td>246</td>\n",
       "      <td>7</td>\n",
       "      <td>0</td>\n",
       "    </tr>\n",
       "    <tr>\n",
       "      <th>Banaswadi</th>\n",
       "      <td>0</td>\n",
       "      <td>13</td>\n",
       "      <td>159</td>\n",
       "      <td>19</td>\n",
       "      <td>236</td>\n",
       "      <td>4</td>\n",
       "      <td>1</td>\n",
       "    </tr>\n",
       "    <tr>\n",
       "      <th>Bannerghatta Road</th>\n",
       "      <td>8</td>\n",
       "      <td>27</td>\n",
       "      <td>511</td>\n",
       "      <td>92</td>\n",
       "      <td>405</td>\n",
       "      <td>9</td>\n",
       "      <td>2</td>\n",
       "    </tr>\n",
       "    <tr>\n",
       "      <th>Basavanagudi</th>\n",
       "      <td>4</td>\n",
       "      <td>8</td>\n",
       "      <td>195</td>\n",
       "      <td>45</td>\n",
       "      <td>208</td>\n",
       "      <td>3</td>\n",
       "      <td>0</td>\n",
       "    </tr>\n",
       "    <tr>\n",
       "      <th>Bellandur</th>\n",
       "      <td>28</td>\n",
       "      <td>34</td>\n",
       "      <td>519</td>\n",
       "      <td>72</td>\n",
       "      <td>448</td>\n",
       "      <td>17</td>\n",
       "      <td>16</td>\n",
       "    </tr>\n",
       "    <tr>\n",
       "      <th>Brigade Road</th>\n",
       "      <td>13</td>\n",
       "      <td>24</td>\n",
       "      <td>248</td>\n",
       "      <td>55</td>\n",
       "      <td>271</td>\n",
       "      <td>51</td>\n",
       "      <td>22</td>\n",
       "    </tr>\n",
       "    <tr>\n",
       "      <th>Brookefield</th>\n",
       "      <td>6</td>\n",
       "      <td>17</td>\n",
       "      <td>299</td>\n",
       "      <td>42</td>\n",
       "      <td>230</td>\n",
       "      <td>4</td>\n",
       "      <td>0</td>\n",
       "    </tr>\n",
       "    <tr>\n",
       "      <th>Church Street</th>\n",
       "      <td>19</td>\n",
       "      <td>44</td>\n",
       "      <td>138</td>\n",
       "      <td>21</td>\n",
       "      <td>172</td>\n",
       "      <td>31</td>\n",
       "      <td>21</td>\n",
       "    </tr>\n",
       "    <tr>\n",
       "      <th>Domlur</th>\n",
       "      <td>11</td>\n",
       "      <td>12</td>\n",
       "      <td>168</td>\n",
       "      <td>24</td>\n",
       "      <td>108</td>\n",
       "      <td>11</td>\n",
       "      <td>11</td>\n",
       "    </tr>\n",
       "    <tr>\n",
       "      <th>Electronic City</th>\n",
       "      <td>22</td>\n",
       "      <td>24</td>\n",
       "      <td>551</td>\n",
       "      <td>71</td>\n",
       "      <td>510</td>\n",
       "      <td>21</td>\n",
       "      <td>21</td>\n",
       "    </tr>\n",
       "    <tr>\n",
       "      <th>Frazer Town</th>\n",
       "      <td>1</td>\n",
       "      <td>10</td>\n",
       "      <td>267</td>\n",
       "      <td>46</td>\n",
       "      <td>141</td>\n",
       "      <td>2</td>\n",
       "      <td>2</td>\n",
       "    </tr>\n",
       "    <tr>\n",
       "      <th>HSR</th>\n",
       "      <td>14</td>\n",
       "      <td>42</td>\n",
       "      <td>1080</td>\n",
       "      <td>110</td>\n",
       "      <td>485</td>\n",
       "      <td>14</td>\n",
       "      <td>15</td>\n",
       "    </tr>\n",
       "    <tr>\n",
       "      <th>Indiranagar</th>\n",
       "      <td>38</td>\n",
       "      <td>97</td>\n",
       "      <td>832</td>\n",
       "      <td>136</td>\n",
       "      <td>514</td>\n",
       "      <td>65</td>\n",
       "      <td>66</td>\n",
       "    </tr>\n",
       "    <tr>\n",
       "      <th>JP Nagar</th>\n",
       "      <td>25</td>\n",
       "      <td>41</td>\n",
       "      <td>631</td>\n",
       "      <td>104</td>\n",
       "      <td>557</td>\n",
       "      <td>40</td>\n",
       "      <td>7</td>\n",
       "    </tr>\n",
       "    <tr>\n",
       "      <th>Jayanagar</th>\n",
       "      <td>19</td>\n",
       "      <td>50</td>\n",
       "      <td>559</td>\n",
       "      <td>118</td>\n",
       "      <td>485</td>\n",
       "      <td>12</td>\n",
       "      <td>0</td>\n",
       "    </tr>\n",
       "    <tr>\n",
       "      <th>Kalyan Nagar</th>\n",
       "      <td>9</td>\n",
       "      <td>24</td>\n",
       "      <td>190</td>\n",
       "      <td>45</td>\n",
       "      <td>306</td>\n",
       "      <td>15</td>\n",
       "      <td>0</td>\n",
       "    </tr>\n",
       "    <tr>\n",
       "      <th>Kammanahalli</th>\n",
       "      <td>2</td>\n",
       "      <td>14</td>\n",
       "      <td>161</td>\n",
       "      <td>18</td>\n",
       "      <td>222</td>\n",
       "      <td>3</td>\n",
       "      <td>0</td>\n",
       "    </tr>\n",
       "    <tr>\n",
       "      <th>Koramangala 1st Block</th>\n",
       "      <td>3</td>\n",
       "      <td>14</td>\n",
       "      <td>318</td>\n",
       "      <td>32</td>\n",
       "      <td>156</td>\n",
       "      <td>5</td>\n",
       "      <td>10</td>\n",
       "    </tr>\n",
       "    <tr>\n",
       "      <th>Koramangala 4th Block</th>\n",
       "      <td>13</td>\n",
       "      <td>43</td>\n",
       "      <td>249</td>\n",
       "      <td>38</td>\n",
       "      <td>163</td>\n",
       "      <td>50</td>\n",
       "      <td>31</td>\n",
       "    </tr>\n",
       "    <tr>\n",
       "      <th>Koramangala 5th Block</th>\n",
       "      <td>51</td>\n",
       "      <td>118</td>\n",
       "      <td>626</td>\n",
       "      <td>135</td>\n",
       "      <td>542</td>\n",
       "      <td>75</td>\n",
       "      <td>58</td>\n",
       "    </tr>\n",
       "    <tr>\n",
       "      <th>Koramangala 6th Block</th>\n",
       "      <td>12</td>\n",
       "      <td>30</td>\n",
       "      <td>281</td>\n",
       "      <td>48</td>\n",
       "      <td>181</td>\n",
       "      <td>25</td>\n",
       "      <td>18</td>\n",
       "    </tr>\n",
       "    <tr>\n",
       "      <th>Koramangala 7th Block</th>\n",
       "      <td>19</td>\n",
       "      <td>30</td>\n",
       "      <td>247</td>\n",
       "      <td>68</td>\n",
       "      <td>215</td>\n",
       "      <td>22</td>\n",
       "      <td>22</td>\n",
       "    </tr>\n",
       "    <tr>\n",
       "      <th>Lavelle Road</th>\n",
       "      <td>24</td>\n",
       "      <td>22</td>\n",
       "      <td>87</td>\n",
       "      <td>28</td>\n",
       "      <td>158</td>\n",
       "      <td>50</td>\n",
       "      <td>27</td>\n",
       "    </tr>\n",
       "    <tr>\n",
       "      <th>MG Road</th>\n",
       "      <td>32</td>\n",
       "      <td>55</td>\n",
       "      <td>138</td>\n",
       "      <td>37</td>\n",
       "      <td>221</td>\n",
       "      <td>44</td>\n",
       "      <td>27</td>\n",
       "    </tr>\n",
       "    <tr>\n",
       "      <th>Malleshwaram</th>\n",
       "      <td>11</td>\n",
       "      <td>24</td>\n",
       "      <td>197</td>\n",
       "      <td>63</td>\n",
       "      <td>231</td>\n",
       "      <td>18</td>\n",
       "      <td>12</td>\n",
       "    </tr>\n",
       "    <tr>\n",
       "      <th>Marathahalli</th>\n",
       "      <td>34</td>\n",
       "      <td>30</td>\n",
       "      <td>882</td>\n",
       "      <td>94</td>\n",
       "      <td>602</td>\n",
       "      <td>21</td>\n",
       "      <td>2</td>\n",
       "    </tr>\n",
       "    <tr>\n",
       "      <th>New BEL Road</th>\n",
       "      <td>4</td>\n",
       "      <td>29</td>\n",
       "      <td>278</td>\n",
       "      <td>34</td>\n",
       "      <td>223</td>\n",
       "      <td>8</td>\n",
       "      <td>8</td>\n",
       "    </tr>\n",
       "    <tr>\n",
       "      <th>Old Airport Road</th>\n",
       "      <td>12</td>\n",
       "      <td>5</td>\n",
       "      <td>175</td>\n",
       "      <td>35</td>\n",
       "      <td>157</td>\n",
       "      <td>12</td>\n",
       "      <td>9</td>\n",
       "    </tr>\n",
       "    <tr>\n",
       "      <th>Rajajinagar</th>\n",
       "      <td>9</td>\n",
       "      <td>4</td>\n",
       "      <td>196</td>\n",
       "      <td>44</td>\n",
       "      <td>196</td>\n",
       "      <td>3</td>\n",
       "      <td>10</td>\n",
       "    </tr>\n",
       "    <tr>\n",
       "      <th>Residency Road</th>\n",
       "      <td>14</td>\n",
       "      <td>19</td>\n",
       "      <td>106</td>\n",
       "      <td>38</td>\n",
       "      <td>186</td>\n",
       "      <td>41</td>\n",
       "      <td>19</td>\n",
       "    </tr>\n",
       "    <tr>\n",
       "      <th>Richmond Road</th>\n",
       "      <td>41</td>\n",
       "      <td>13</td>\n",
       "      <td>109</td>\n",
       "      <td>37</td>\n",
       "      <td>171</td>\n",
       "      <td>7</td>\n",
       "      <td>9</td>\n",
       "    </tr>\n",
       "    <tr>\n",
       "      <th>Sarjapur Road</th>\n",
       "      <td>23</td>\n",
       "      <td>19</td>\n",
       "      <td>475</td>\n",
       "      <td>78</td>\n",
       "      <td>302</td>\n",
       "      <td>19</td>\n",
       "      <td>22</td>\n",
       "    </tr>\n",
       "    <tr>\n",
       "      <th>Ulsoor</th>\n",
       "      <td>12</td>\n",
       "      <td>32</td>\n",
       "      <td>217</td>\n",
       "      <td>38</td>\n",
       "      <td>216</td>\n",
       "      <td>16</td>\n",
       "      <td>15</td>\n",
       "    </tr>\n",
       "    <tr>\n",
       "      <th>Whitefield</th>\n",
       "      <td>28</td>\n",
       "      <td>50</td>\n",
       "      <td>941</td>\n",
       "      <td>129</td>\n",
       "      <td>731</td>\n",
       "      <td>46</td>\n",
       "      <td>33</td>\n",
       "    </tr>\n",
       "    <tr>\n",
       "      <th>others</th>\n",
       "      <td>88</td>\n",
       "      <td>150</td>\n",
       "      <td>2356</td>\n",
       "      <td>307</td>\n",
       "      <td>1767</td>\n",
       "      <td>116</td>\n",
       "      <td>67</td>\n",
       "    </tr>\n",
       "  </tbody>\n",
       "</table>\n",
       "</div>"
      ],
      "text/plain": [
       "CATEGORY               Buffet  Cafes  Delivery  Desserts  Dine-out  \\\n",
       "LOCATION                                                             \n",
       "BTM                        15     46      1427       110       872   \n",
       "Banashankari                5     24       242        46       246   \n",
       "Banaswadi                   0     13       159        19       236   \n",
       "Bannerghatta Road           8     27       511        92       405   \n",
       "Basavanagudi                4      8       195        45       208   \n",
       "Bellandur                  28     34       519        72       448   \n",
       "Brigade Road               13     24       248        55       271   \n",
       "Brookefield                 6     17       299        42       230   \n",
       "Church Street              19     44       138        21       172   \n",
       "Domlur                     11     12       168        24       108   \n",
       "Electronic City            22     24       551        71       510   \n",
       "Frazer Town                 1     10       267        46       141   \n",
       "HSR                        14     42      1080       110       485   \n",
       "Indiranagar                38     97       832       136       514   \n",
       "JP Nagar                   25     41       631       104       557   \n",
       "Jayanagar                  19     50       559       118       485   \n",
       "Kalyan Nagar                9     24       190        45       306   \n",
       "Kammanahalli                2     14       161        18       222   \n",
       "Koramangala 1st Block       3     14       318        32       156   \n",
       "Koramangala 4th Block      13     43       249        38       163   \n",
       "Koramangala 5th Block      51    118       626       135       542   \n",
       "Koramangala 6th Block      12     30       281        48       181   \n",
       "Koramangala 7th Block      19     30       247        68       215   \n",
       "Lavelle Road               24     22        87        28       158   \n",
       "MG Road                    32     55       138        37       221   \n",
       "Malleshwaram               11     24       197        63       231   \n",
       "Marathahalli               34     30       882        94       602   \n",
       "New BEL Road                4     29       278        34       223   \n",
       "Old Airport Road           12      5       175        35       157   \n",
       "Rajajinagar                 9      4       196        44       196   \n",
       "Residency Road             14     19       106        38       186   \n",
       "Richmond Road              41     13       109        37       171   \n",
       "Sarjapur Road              23     19       475        78       302   \n",
       "Ulsoor                     12     32       217        38       216   \n",
       "Whitefield                 28     50       941       129       731   \n",
       "others                     88    150      2356       307      1767   \n",
       "\n",
       "CATEGORY               Drinks & nightlife  Pubs and bars  \n",
       "LOCATION                                                  \n",
       "BTM                                    15             14  \n",
       "Banashankari                            7              0  \n",
       "Banaswadi                               4              1  \n",
       "Bannerghatta Road                       9              2  \n",
       "Basavanagudi                            3              0  \n",
       "Bellandur                              17             16  \n",
       "Brigade Road                           51             22  \n",
       "Brookefield                             4              0  \n",
       "Church Street                          31             21  \n",
       "Domlur                                 11             11  \n",
       "Electronic City                        21             21  \n",
       "Frazer Town                             2              2  \n",
       "HSR                                    14             15  \n",
       "Indiranagar                            65             66  \n",
       "JP Nagar                               40              7  \n",
       "Jayanagar                              12              0  \n",
       "Kalyan Nagar                           15              0  \n",
       "Kammanahalli                            3              0  \n",
       "Koramangala 1st Block                   5             10  \n",
       "Koramangala 4th Block                  50             31  \n",
       "Koramangala 5th Block                  75             58  \n",
       "Koramangala 6th Block                  25             18  \n",
       "Koramangala 7th Block                  22             22  \n",
       "Lavelle Road                           50             27  \n",
       "MG Road                                44             27  \n",
       "Malleshwaram                           18             12  \n",
       "Marathahalli                           21              2  \n",
       "New BEL Road                            8              8  \n",
       "Old Airport Road                       12              9  \n",
       "Rajajinagar                             3             10  \n",
       "Residency Road                         41             19  \n",
       "Richmond Road                           7              9  \n",
       "Sarjapur Road                          19             22  \n",
       "Ulsoor                                 16             15  \n",
       "Whitefield                             46             33  \n",
       "others                                116             67  "
      ]
     },
     "execution_count": 39,
     "metadata": {},
     "output_type": "execute_result"
    }
   ],
   "source": [
    "df6= df[['LOCATION','CATEGORY']]\n",
    "df6=pd.crosstab(df6.LOCATION,df6.CATEGORY)\n",
    "df6"
   ]
  },
  {
   "cell_type": "markdown",
   "id": "cheap-dryer",
   "metadata": {
    "papermill": {
     "duration": 0.123046,
     "end_time": "2023-07-07T14:38:00.921193",
     "exception": false,
     "start_time": "2023-07-07T14:38:00.798147",
     "status": "completed"
    },
    "tags": []
   },
   "source": [
    "## Plotting distribution of Restaurant categories in different locations"
   ]
  },
  {
   "cell_type": "code",
   "execution_count": 40,
   "id": "exotic-mining",
   "metadata": {
    "execution": {
     "iopub.execute_input": "2023-07-07T14:38:01.163859Z",
     "iopub.status.busy": "2023-07-07T14:38:01.162804Z",
     "iopub.status.idle": "2023-07-07T14:38:02.850245Z",
     "shell.execute_reply": "2023-07-07T14:38:02.850828Z",
     "shell.execute_reply.started": "2023-07-07T14:36:24.847417Z"
    },
    "papermill": {
     "duration": 1.810568,
     "end_time": "2023-07-07T14:38:02.851043",
     "exception": false,
     "start_time": "2023-07-07T14:38:01.040475",
     "status": "completed"
    },
    "tags": []
   },
   "outputs": [
    {
     "data": {
      "image/png": "[encoded data removed]",
      "text/plain": [
       "<Figure size 1080x576 with 2 Axes>"
      ]
     },
     "metadata": {},
     "output_type": "display_data"
    }
   ],
   "source": [
    "plt.figure(figsize=(15,8))\n",
    "sns.heatmap(df6,cmap='Blues', annot=True, fmt='.4g');"
   ]
  },
  {
   "cell_type": "markdown",
   "id": "drawn-short",
   "metadata": {
    "papermill": {
     "duration": 0.127594,
     "end_time": "2023-07-07T14:38:03.106908",
     "exception": false,
     "start_time": "2023-07-07T14:38:02.979314",
     "status": "completed"
    },
    "tags": []
   },
   "source": [
    "It seems like, majority of restaurants come under Delivery and Dine-out categories  in different locations and as BTM has the highest amount of restaurants, it also has the highest amount of Delivery and Dine-out category  restaurants compared to other locations."
   ]
  },
  {
   "cell_type": "markdown",
   "id": "particular-genius",
   "metadata": {
    "papermill": {
     "duration": 0.128663,
     "end_time": "2023-07-07T14:38:03.367632",
     "exception": false,
     "start_time": "2023-07-07T14:38:03.238969",
     "status": "completed"
    },
    "tags": []
   },
   "source": [
    " # SUGGESTIONS\n",
    " **I will be giving  recommendations based on the useful insights that we gathered from the  data. The suggestions can be implemented by using our insightful data visualizations as a guidance**.\n",
    "* Zomato’s business team can target Locations that have least number of restaurants with book table and online order facility .\n",
    "* Zomato’s marketing team can persuade our new target restaurant owner’s  to use our services for online order facility and Book table facility by letting them know the benefits of it like customer having easier & effective access to their restaurant from home  and  by giving them a evidence based assurance of improving their restaurant ratings after using zomato’s services. \n",
    "* Zomato’s business team and our new business client can also make use of feedback data to choose a location where they can get good amount of feedback from the customers as with time feedback is very helpful in improving services that  businesses provides \n",
    "\n",
    "* We can recommend our new  business client  to set up his restaurant in places that doesn’t have many restaurants. They can also provide some space within their restaurant where social acitivies can take place.\n",
    "* Once location is decided, we can recommend our new business client to open that category of restaurant which is present in less numbers in a particular location and that they should also consider standard of living and people’s spending habit on food in that particular location. If our client wants to open a restaurant where standard of living is low, they should choose those  restaurant categories which not only are comparatively cheaper to run but also,the average price per customer can be kept low compared to other categories.\n",
    "* We can recommend our client what competitive prices for every cuisine depending upon different locations should be kept and which restaurant category and cuisine that generally receives positive ratings from the customer."
   ]
  }
 ],
 "metadata": {
  "kernelspec": {
   "display_name": "Python 3",
   "language": "python",
   "name": "python3"
  },
  "language_info": {
   "codemirror_mode": {
    "name": "ipython",
    "version": 3
   },
   "file_extension": ".py",
   "mimetype": "text/x-python",
   "name": "python",
   "nbconvert_exporter": "python",
   "pygments_lexer": "ipython3",
   "version": "3.7.10"
  },
  "papermill": {
   "default_parameters": {},
   "duration": 57.163948,
   "end_time": "2023-07-07T14:38:05.184571",
   "environment_variables": {},
   "exception": null,
   "input_path": "__notebook__.ipynb",
   "output_path": "__notebook__.ipynb",
   "parameters": {},
   "start_time": "2023-07-07T14:37:08.020623",
   "version": "2.3.3"
  }
 },
 "nbformat": 4,
 "nbformat_minor": 5
}
